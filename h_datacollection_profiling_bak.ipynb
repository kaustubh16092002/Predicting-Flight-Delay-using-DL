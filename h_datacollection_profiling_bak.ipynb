{
 "cells": [
  {
   "cell_type": "markdown",
   "id": "e9e3a07a",
   "metadata": {},
   "source": [
    "### Import flight table"
   ]
  },
  {
   "cell_type": "code",
   "execution_count": 11,
   "id": "189abbad",
   "metadata": {},
   "outputs": [],
   "source": [
    "#import psycopg2\n",
    "import pandas as pd\n",
    "import APIkey\n",
    "import matplotlib.pyplot as plt\n",
    "from sklearn.model_selection import train_test_split\n",
    "import seaborn as sns"
   ]
  },
  {
   "cell_type": "code",
   "execution_count": 5,
   "id": "1b30d231",
   "metadata": {},
   "outputs": [],
   "source": [
    "pwd = APIkey.progre_key[\"password\"]"
   ]
  },
  {
   "cell_type": "code",
   "execution_count": 6,
   "id": "40d6f284",
   "metadata": {},
   "outputs": [],
   "source": [
    "con = psycopg2.connect(database=\"mid_term_project\", user=\"lhl_student\", password=pwd, host=\"mid-term-project.ca2jkepgjpne.us-east-2.rds.amazonaws.com\", port=\"5432\")"
   ]
  },
  {
   "cell_type": "code",
   "execution_count": 13,
   "id": "0df01da5",
   "metadata": {},
   "outputs": [],
   "source": [
    "sql = \"select fl_date,op_unique_carrier,op_carrier_fl_num,origin_airport_id,dest_airport_id,crs_dep_time,dep_delay,crs_arr_time,arr_delay,cancelled,cancellation_code,crs_elapsed_time,distance,carrier_delay,weather_delay,nas_delay,security_delay,late_aircraft_delay,mkt_carrier,mkt_carrier_fl_num,origin,origin_city_name,dest,dest_city_name from flights where fl_date between '2019-11-01' and '2019-11-07' \""
   ]
  },
  {
   "cell_type": "code",
   "execution_count": 14,
   "id": "2ae1e270",
   "metadata": {},
   "outputs": [],
   "source": [
    "df_flight = pd.read_sql_query(sql,con) "
   ]
  },
  {
   "cell_type": "code",
   "execution_count": 17,
   "id": "fb6d3435-ab4a-4f95-b2ec-42141488c8d9",
   "metadata": {},
   "outputs": [
    {
     "name": "stdout",
     "output_type": "stream",
     "text": [
      "<class 'pandas.core.frame.DataFrame'>\n",
      "RangeIndex: 153720 entries, 0 to 153719\n",
      "Data columns (total 24 columns):\n",
      " #   Column               Non-Null Count   Dtype  \n",
      "---  ------               --------------   -----  \n",
      " 0   fl_date              153720 non-null  object \n",
      " 1   op_unique_carrier    153720 non-null  object \n",
      " 2   op_carrier_fl_num    153720 non-null  int64  \n",
      " 3   origin_airport_id    153720 non-null  int64  \n",
      " 4   dest_airport_id      153720 non-null  int64  \n",
      " 5   crs_dep_time         153720 non-null  int64  \n",
      " 6   dep_delay            152989 non-null  float64\n",
      " 7   crs_arr_time         153720 non-null  int64  \n",
      " 8   arr_delay            152741 non-null  float64\n",
      " 9   cancelled            153720 non-null  float64\n",
      " 10  cancellation_code    781 non-null     object \n",
      " 11  crs_elapsed_time     153720 non-null  float64\n",
      " 12  distance             153720 non-null  float64\n",
      " 13  carrier_delay        18749 non-null   float64\n",
      " 14  weather_delay        18749 non-null   float64\n",
      " 15  nas_delay            18749 non-null   float64\n",
      " 16  security_delay       18749 non-null   float64\n",
      " 17  late_aircraft_delay  18749 non-null   float64\n",
      " 18  mkt_carrier          153720 non-null  object \n",
      " 19  mkt_carrier_fl_num   153720 non-null  int64  \n",
      " 20  origin               153720 non-null  object \n",
      " 21  origin_city_name     153720 non-null  object \n",
      " 22  dest                 153720 non-null  object \n",
      " 23  dest_city_name       153720 non-null  object \n",
      "dtypes: float64(10), int64(6), object(8)\n",
      "memory usage: 28.1+ MB\n"
     ]
    }
   ],
   "source": [
    "df_flight.info()"
   ]
  },
  {
   "cell_type": "code",
   "execution_count": 18,
   "id": "8c89336e",
   "metadata": {},
   "outputs": [],
   "source": [
    "df_flight.to_csv('fl1911.csv')"
   ]
  },
  {
   "cell_type": "code",
   "execution_count": 27,
   "id": "e60c49a1",
   "metadata": {},
   "outputs": [],
   "source": [
    "columns = ['fl_date','op_unique_carrier','op_carrier_fl_num','origin_airport_id','dest_airport_id','crs_dep_time','dep_delay','crs_arr_time','arr_delay','cancelled','cancellation_code','crs_elapsed_time','distance','carrier_delay','weather_delay','nas_delay','security_delay','late_aircraft_delay','mkt_carrier','mkt_carrier_fl_num','origin','dest']"
   ]
  },
  {
   "cell_type": "markdown",
   "id": "0940561c",
   "metadata": {
    "tags": []
   },
   "source": [
    "### Exploratory analysis for flights data\n",
    "total records : 15927485 \n",
    "\n",
    "total columns: 42\n",
    "tail_num  is null:     49269\n",
    "delay : 3009148 \n"
   ]
  },
  {
   "cell_type": "code",
   "execution_count": 4,
   "id": "d868da18",
   "metadata": {},
   "outputs": [],
   "source": [
    "df_2019 = pd.read_csv('fl1911.csv')"
   ]
  },
  {
   "cell_type": "code",
   "execution_count": 32,
   "id": "2781a015-3dab-4725-af97-2428e06838f6",
   "metadata": {},
   "outputs": [],
   "source": [
    "top10_dep = df_2019[['origin','origin_city_name']].groupby('origin_city_name',as_index=False).count().sort_values('origin', ascending=False).head(10)"
   ]
  },
  {
   "cell_type": "code",
   "execution_count": 26,
   "id": "a09db89c-a9d0-44c4-a039-cd01e13988c1",
   "metadata": {},
   "outputs": [],
   "source": [
    " top10_arr = df_2019[['dest','dest_city_name']].groupby('dest_city_name',as_index=False).count().sort_values('dest', ascending=False).head(10)"
   ]
  },
  {
   "cell_type": "code",
   "execution_count": 27,
   "id": "ce45e30a-785c-4099-9887-7d296fb52ca0",
   "metadata": {},
   "outputs": [
    {
     "data": {
      "text/html": [
       "<div>\n",
       "<style scoped>\n",
       "    .dataframe tbody tr th:only-of-type {\n",
       "        vertical-align: middle;\n",
       "    }\n",
       "\n",
       "    .dataframe tbody tr th {\n",
       "        vertical-align: top;\n",
       "    }\n",
       "\n",
       "    .dataframe thead th {\n",
       "        text-align: right;\n",
       "    }\n",
       "</style>\n",
       "<table border=\"1\" class=\"dataframe\">\n",
       "  <thead>\n",
       "    <tr style=\"text-align: right;\">\n",
       "      <th></th>\n",
       "      <th>dest_city_name</th>\n",
       "      <th>dest</th>\n",
       "    </tr>\n",
       "  </thead>\n",
       "  <tbody>\n",
       "    <tr>\n",
       "      <th>62</th>\n",
       "      <td>Chicago, IL</td>\n",
       "      <td>9493</td>\n",
       "    </tr>\n",
       "    <tr>\n",
       "      <th>18</th>\n",
       "      <td>Atlanta, GA</td>\n",
       "      <td>7258</td>\n",
       "    </tr>\n",
       "    <tr>\n",
       "      <th>79</th>\n",
       "      <td>Dallas/Fort Worth, TX</td>\n",
       "      <td>5956</td>\n",
       "    </tr>\n",
       "    <tr>\n",
       "      <th>84</th>\n",
       "      <td>Denver, CO</td>\n",
       "      <td>5575</td>\n",
       "    </tr>\n",
       "    <tr>\n",
       "      <th>226</th>\n",
       "      <td>New York, NY</td>\n",
       "      <td>5477</td>\n",
       "    </tr>\n",
       "    <tr>\n",
       "      <th>58</th>\n",
       "      <td>Charlotte, NC</td>\n",
       "      <td>5031</td>\n",
       "    </tr>\n",
       "    <tr>\n",
       "      <th>145</th>\n",
       "      <td>Houston, TX</td>\n",
       "      <td>4673</td>\n",
       "    </tr>\n",
       "    <tr>\n",
       "      <th>340</th>\n",
       "      <td>Washington, DC</td>\n",
       "      <td>4637</td>\n",
       "    </tr>\n",
       "    <tr>\n",
       "      <th>192</th>\n",
       "      <td>Los Angeles, CA</td>\n",
       "      <td>4571</td>\n",
       "    </tr>\n",
       "    <tr>\n",
       "      <th>306</th>\n",
       "      <td>Seattle, WA</td>\n",
       "      <td>3579</td>\n",
       "    </tr>\n",
       "  </tbody>\n",
       "</table>\n",
       "</div>"
      ],
      "text/plain": [
       "            dest_city_name  dest\n",
       "62             Chicago, IL  9493\n",
       "18             Atlanta, GA  7258\n",
       "79   Dallas/Fort Worth, TX  5956\n",
       "84              Denver, CO  5575\n",
       "226           New York, NY  5477\n",
       "58           Charlotte, NC  5031\n",
       "145            Houston, TX  4673\n",
       "340         Washington, DC  4637\n",
       "192        Los Angeles, CA  4571\n",
       "306            Seattle, WA  3579"
      ]
     },
     "execution_count": 27,
     "metadata": {},
     "output_type": "execute_result"
    }
   ],
   "source": [
    "top10_arr"
   ]
  },
  {
   "cell_type": "code",
   "execution_count": 42,
   "id": "5d07428e-2f0d-4f4d-b0eb-1f65e9a8c54a",
   "metadata": {},
   "outputs": [
    {
     "data": {
      "text/plain": [
       "(array([0, 1, 2, 3, 4, 5, 6, 7, 8, 9]),\n",
       " [Text(0, 0, 'Chicago, IL'),\n",
       "  Text(1, 0, 'Atlanta, GA'),\n",
       "  Text(2, 0, 'Dallas/Fort Worth, TX'),\n",
       "  Text(3, 0, 'Denver, CO'),\n",
       "  Text(4, 0, 'New York, NY'),\n",
       "  Text(5, 0, 'Charlotte, NC'),\n",
       "  Text(6, 0, 'Houston, TX'),\n",
       "  Text(7, 0, 'Washington, DC'),\n",
       "  Text(8, 0, 'Los Angeles, CA'),\n",
       "  Text(9, 0, 'Seattle, WA')])"
      ]
     },
     "execution_count": 42,
     "metadata": {},
     "output_type": "execute_result"
    },
    {
     "data": {
      "image/png": "[encoded data removed]",
      "text/plain": [
       "<Figure size 1008x360 with 2 Axes>"
      ]
     },
     "metadata": {
      "needs_background": "light"
     },
     "output_type": "display_data"
    }
   ],
   "source": [
    "plt.figure(figsize=(14,5))\n",
    "plt.subplot(1,2,1)\n",
    "sns.barplot(data=top10_arr,x='dest_city_name',y='dest',)\n",
    "plt.title('Top10 Dest-Airports flight_number')\n",
    "plt.xticks(rotation=45)\n",
    "\n",
    "plt.subplot(1,2,2)\n",
    "sns.barplot(data=top10_dep,x='origin_city_name',y='origin',)\n",
    "plt.title('Top10 Origin_Airports flight_number')\n",
    "plt.xticks(rotation=45)"
   ]
  },
  {
   "cell_type": "code",
   "execution_count": 36,
   "id": "277114fd-dd86-4522-bafa-3b9bfdb7c223",
   "metadata": {},
   "outputs": [],
   "source": [
    "top10_arr_delay = df_2019[df_2019['arr_delay'] > 0].groupby('dest_city_name',as_index=False)['arr_delay'].mean().sort_values('arr_delay', ascending=False).head(10)\n",
    "top10_ori_delay = df_2019[df_2019['arr_delay'] > 0].groupby('origin_city_name',as_index=False)['arr_delay'].mean().sort_values('arr_delay', ascending=False).head(10)"
   ]
  },
  {
   "cell_type": "code",
   "execution_count": 45,
   "id": "3629f836-c200-4641-af07-3a46d673480e",
   "metadata": {},
   "outputs": [
    {
     "data": {
      "text/plain": [
       "(array([0, 1, 2, 3, 4, 5, 6, 7, 8, 9]),\n",
       " [Text(0, 0, 'Cheyenne, WY'),\n",
       "  Text(1, 0, 'Salina, KS'),\n",
       "  Text(2, 0, 'Paducah, KY'),\n",
       "  Text(3, 0, 'Hays, KS'),\n",
       "  Text(4, 0, 'Presque Isle/Houlton, ME'),\n",
       "  Text(5, 0, 'Belleville, IL'),\n",
       "  Text(6, 0, 'Lewisburg, WV'),\n",
       "  Text(7, 0, 'Hilton Head, SC'),\n",
       "  Text(8, 0, 'Branson, MO'),\n",
       "  Text(9, 0, 'Williston, ND')])"
      ]
     },
     "execution_count": 45,
     "metadata": {},
     "output_type": "execute_result"
    },
    {
     "data": {
      "image/png": "[encoded data removed]",
      "text/plain": [
       "<Figure size 1008x360 with 2 Axes>"
      ]
     },
     "metadata": {
      "needs_background": "light"
     },
     "output_type": "display_data"
    }
   ],
   "source": [
    "plt.figure(figsize=(14,5))\n",
    "plt.subplot(1,2,1)\n",
    "sns.barplot(data=top10_arr_delay,x='dest_city_name',y='arr_delay',)\n",
    "plt.title('Top10 Dest Airports mean dealy in mins')\n",
    "plt.xticks(rotation=45)\n",
    "\n",
    "plt.subplot(1,2,2)\n",
    "sns.barplot(data=top10_ori_delay,x='origin_city_name',y='arr_delay',)\n",
    "plt.title('Top10 Origin Airports mean dealy in mins')\n",
    "plt.xticks(rotation=45)"
   ]
  },
  {
   "cell_type": "code",
   "execution_count": 55,
   "id": "e81cf25e-02f4-4ab8-a08e-8910884d4b4b",
   "metadata": {},
   "outputs": [],
   "source": [
    "ori_delay = df_2019[df_2019['arr_delay'] > 0].groupby('origin_city_name',as_index=False)['arr_delay'].mean()\n",
    "flight_delay = df_2019[df_2019['arr_delay'] > 0].groupby('op_carrier_fl_num',as_index=False)['arr_delay'].mean()"
   ]
  },
  {
   "cell_type": "code",
   "execution_count": 56,
   "id": "ee3e300f-f061-4d13-9bb7-00b7857e09eb",
   "metadata": {},
   "outputs": [
    {
     "data": {
      "text/plain": [
       "(array([-200.,    0.,  200.,  400.,  600.,  800., 1000., 1200., 1400.]),\n",
       " [Text(0, 0, ''),\n",
       "  Text(0, 0, ''),\n",
       "  Text(0, 0, ''),\n",
       "  Text(0, 0, ''),\n",
       "  Text(0, 0, ''),\n",
       "  Text(0, 0, ''),\n",
       "  Text(0, 0, ''),\n",
       "  Text(0, 0, ''),\n",
       "  Text(0, 0, '')])"
      ]
     },
     "execution_count": 56,
     "metadata": {},
     "output_type": "execute_result"
    },
    {
     "data": {
      "image/png": "[encoded data removed]",
      "text/plain": [
       "<Figure size 1008x360 with 2 Axes>"
      ]
     },
     "metadata": {
      "needs_background": "light"
     },
     "output_type": "display_data"
    }
   ],
   "source": [
    "plt.figure(figsize=(14,5))\n",
    "plt.subplot(1,2,1)\n",
    "sns.histplot(ori_delay['arr_delay'])\n",
    "plt.title('Distribution of mean delay by airport')\n",
    "plt.xticks(rotation=45)\n",
    "\n",
    "plt.subplot(1,2,2)\n",
    "sns.histplot(flight_delay['arr_delay'])\n",
    "plt.title('Distribution of mean delay by flight numbers')\n",
    "plt.xticks(rotation=45)"
   ]
  },
  {
   "cell_type": "code",
   "execution_count": 22,
   "id": "7abc2654",
   "metadata": {},
   "outputs": [],
   "source": [
    "df_flights = pd.concat([df_flights,df_2019],ignore_index=True)"
   ]
  },
  {
   "cell_type": "code",
   "execution_count": 28,
   "id": "9d2859e4",
   "metadata": {},
   "outputs": [],
   "source": [
    "df_flights = df_flights[columns]"
   ]
  },
  {
   "cell_type": "code",
   "execution_count": 57,
   "id": "78feeae0",
   "metadata": {},
   "outputs": [],
   "source": [
    "df_flights = df_2019"
   ]
  },
  {
   "cell_type": "code",
   "execution_count": 58,
   "id": "571bb25f",
   "metadata": {},
   "outputs": [],
   "source": [
    "def airport_hour(t):\n",
    "    '''\n",
    "   conver time to hour to a new field\n",
    "    '''\n",
    "    t = t // 100\n",
    "    if t == 24:\n",
    "        t = 0\n",
    "    l = '0' + str(t)\n",
    "    return l[-2:]"
   ]
  },
  {
   "cell_type": "code",
   "execution_count": 59,
   "id": "b0727764",
   "metadata": {},
   "outputs": [],
   "source": [
    "df_flights['arr_hour'] = df_flights['crs_arr_time'].apply(airport_hour)\n",
    "df_flights['dep_hour'] = df_flights['crs_dep_time'].apply(airport_hour)"
   ]
  },
  {
   "cell_type": "code",
   "execution_count": 60,
   "id": "d00e81fa",
   "metadata": {},
   "outputs": [],
   "source": [
    "df_flights['arr_key'] = df_flights['dest'] + df_flights['fl_date'] + df_flights['arr_hour']\n",
    "df_flights['dep_key'] = df_flights['origin'] + df_flights['fl_date'] + df_flights['dep_hour']"
   ]
  },
  {
   "cell_type": "code",
   "execution_count": 3,
   "id": "1b3179ea",
   "metadata": {},
   "outputs": [],
   "source": [
    "df_sub = pd.read_csv('submit_test.csv')"
   ]
  },
  {
   "cell_type": "code",
   "execution_count": 6,
   "id": "514b20d9",
   "metadata": {},
   "outputs": [],
   "source": [
    "df_sub['arr_hour'] = df_sub['crs_arr_time'].apply(airport_hour)\n",
    "df_sub['dep_hour'] = df_sub['crs_dep_time'].apply(airport_hour)"
   ]
  },
  {
   "cell_type": "code",
   "execution_count": 8,
   "id": "a00d19bf",
   "metadata": {},
   "outputs": [],
   "source": [
    "## Generate merge keys for flight table\n",
    "df_sub['arr_key'] = df_sub['dest'] + df_sub['fl_date'] + df_sub['arr_hour']\n",
    "df_sub['dep_key'] = df_sub['origin'] + df_sub['fl_date'] + df_sub['dep_hour']\n",
    "\n"
   ]
  },
  {
   "cell_type": "code",
   "execution_count": 9,
   "id": "607dfcbd",
   "metadata": {},
   "outputs": [
    {
     "data": {
      "text/html": [
       "<div>\n",
       "<style scoped>\n",
       "    .dataframe tbody tr th:only-of-type {\n",
       "        vertical-align: middle;\n",
       "    }\n",
       "\n",
       "    .dataframe tbody tr th {\n",
       "        vertical-align: top;\n",
       "    }\n",
       "\n",
       "    .dataframe thead th {\n",
       "        text-align: right;\n",
       "    }\n",
       "</style>\n",
       "<table border=\"1\" class=\"dataframe\">\n",
       "  <thead>\n",
       "    <tr style=\"text-align: right;\">\n",
       "      <th></th>\n",
       "      <th>Unnamed: 0</th>\n",
       "      <th>fl_date</th>\n",
       "      <th>mkt_unique_carrier</th>\n",
       "      <th>mkt_carrier</th>\n",
       "      <th>mkt_carrier_fl_num</th>\n",
       "      <th>op_unique_carrier</th>\n",
       "      <th>op_carrier_fl_num</th>\n",
       "      <th>origin_airport_id</th>\n",
       "      <th>origin</th>\n",
       "      <th>origin_city_name</th>\n",
       "      <th>...</th>\n",
       "      <th>dest</th>\n",
       "      <th>dest_city_name</th>\n",
       "      <th>crs_dep_time</th>\n",
       "      <th>crs_arr_time</th>\n",
       "      <th>crs_elapsed_time</th>\n",
       "      <th>distance</th>\n",
       "      <th>arr_hour</th>\n",
       "      <th>dep_hour</th>\n",
       "      <th>arr_key</th>\n",
       "      <th>dep_key</th>\n",
       "    </tr>\n",
       "  </thead>\n",
       "  <tbody>\n",
       "    <tr>\n",
       "      <th>0</th>\n",
       "      <td>0</td>\n",
       "      <td>2020-01-01</td>\n",
       "      <td>WN</td>\n",
       "      <td>WN</td>\n",
       "      <td>5888</td>\n",
       "      <td>WN</td>\n",
       "      <td>5888</td>\n",
       "      <td>13891</td>\n",
       "      <td>ONT</td>\n",
       "      <td>Ontario, CA</td>\n",
       "      <td>...</td>\n",
       "      <td>SFO</td>\n",
       "      <td>San Francisco, CA</td>\n",
       "      <td>1810</td>\n",
       "      <td>1945</td>\n",
       "      <td>95</td>\n",
       "      <td>363</td>\n",
       "      <td>19</td>\n",
       "      <td>18</td>\n",
       "      <td>SFO2020-01-0119</td>\n",
       "      <td>ONT2020-01-0118</td>\n",
       "    </tr>\n",
       "    <tr>\n",
       "      <th>1</th>\n",
       "      <td>1</td>\n",
       "      <td>2020-01-01</td>\n",
       "      <td>WN</td>\n",
       "      <td>WN</td>\n",
       "      <td>6276</td>\n",
       "      <td>WN</td>\n",
       "      <td>6276</td>\n",
       "      <td>13891</td>\n",
       "      <td>ONT</td>\n",
       "      <td>Ontario, CA</td>\n",
       "      <td>...</td>\n",
       "      <td>SFO</td>\n",
       "      <td>San Francisco, CA</td>\n",
       "      <td>1150</td>\n",
       "      <td>1320</td>\n",
       "      <td>90</td>\n",
       "      <td>363</td>\n",
       "      <td>13</td>\n",
       "      <td>11</td>\n",
       "      <td>SFO2020-01-0113</td>\n",
       "      <td>ONT2020-01-0111</td>\n",
       "    </tr>\n",
       "    <tr>\n",
       "      <th>2</th>\n",
       "      <td>2</td>\n",
       "      <td>2020-01-01</td>\n",
       "      <td>WN</td>\n",
       "      <td>WN</td>\n",
       "      <td>4598</td>\n",
       "      <td>WN</td>\n",
       "      <td>4598</td>\n",
       "      <td>13891</td>\n",
       "      <td>ONT</td>\n",
       "      <td>Ontario, CA</td>\n",
       "      <td>...</td>\n",
       "      <td>SJC</td>\n",
       "      <td>San Jose, CA</td>\n",
       "      <td>2020</td>\n",
       "      <td>2130</td>\n",
       "      <td>70</td>\n",
       "      <td>333</td>\n",
       "      <td>21</td>\n",
       "      <td>20</td>\n",
       "      <td>SJC2020-01-0121</td>\n",
       "      <td>ONT2020-01-0120</td>\n",
       "    </tr>\n",
       "    <tr>\n",
       "      <th>3</th>\n",
       "      <td>3</td>\n",
       "      <td>2020-01-01</td>\n",
       "      <td>WN</td>\n",
       "      <td>WN</td>\n",
       "      <td>4761</td>\n",
       "      <td>WN</td>\n",
       "      <td>4761</td>\n",
       "      <td>13891</td>\n",
       "      <td>ONT</td>\n",
       "      <td>Ontario, CA</td>\n",
       "      <td>...</td>\n",
       "      <td>SJC</td>\n",
       "      <td>San Jose, CA</td>\n",
       "      <td>1340</td>\n",
       "      <td>1455</td>\n",
       "      <td>75</td>\n",
       "      <td>333</td>\n",
       "      <td>14</td>\n",
       "      <td>13</td>\n",
       "      <td>SJC2020-01-0114</td>\n",
       "      <td>ONT2020-01-0113</td>\n",
       "    </tr>\n",
       "    <tr>\n",
       "      <th>4</th>\n",
       "      <td>4</td>\n",
       "      <td>2020-01-01</td>\n",
       "      <td>WN</td>\n",
       "      <td>WN</td>\n",
       "      <td>5162</td>\n",
       "      <td>WN</td>\n",
       "      <td>5162</td>\n",
       "      <td>13891</td>\n",
       "      <td>ONT</td>\n",
       "      <td>Ontario, CA</td>\n",
       "      <td>...</td>\n",
       "      <td>SJC</td>\n",
       "      <td>San Jose, CA</td>\n",
       "      <td>915</td>\n",
       "      <td>1035</td>\n",
       "      <td>80</td>\n",
       "      <td>333</td>\n",
       "      <td>10</td>\n",
       "      <td>09</td>\n",
       "      <td>SJC2020-01-0110</td>\n",
       "      <td>ONT2020-01-0109</td>\n",
       "    </tr>\n",
       "  </tbody>\n",
       "</table>\n",
       "<p>5 rows × 21 columns</p>\n",
       "</div>"
      ],
      "text/plain": [
       "   Unnamed: 0     fl_date mkt_unique_carrier mkt_carrier  mkt_carrier_fl_num  \\\n",
       "0           0  2020-01-01                 WN          WN                5888   \n",
       "1           1  2020-01-01                 WN          WN                6276   \n",
       "2           2  2020-01-01                 WN          WN                4598   \n",
       "3           3  2020-01-01                 WN          WN                4761   \n",
       "4           4  2020-01-01                 WN          WN                5162   \n",
       "\n",
       "  op_unique_carrier  op_carrier_fl_num  origin_airport_id origin  \\\n",
       "0                WN               5888              13891    ONT   \n",
       "1                WN               6276              13891    ONT   \n",
       "2                WN               4598              13891    ONT   \n",
       "3                WN               4761              13891    ONT   \n",
       "4                WN               5162              13891    ONT   \n",
       "\n",
       "  origin_city_name  ...  dest     dest_city_name crs_dep_time  crs_arr_time  \\\n",
       "0      Ontario, CA  ...   SFO  San Francisco, CA         1810          1945   \n",
       "1      Ontario, CA  ...   SFO  San Francisco, CA         1150          1320   \n",
       "2      Ontario, CA  ...   SJC       San Jose, CA         2020          2130   \n",
       "3      Ontario, CA  ...   SJC       San Jose, CA         1340          1455   \n",
       "4      Ontario, CA  ...   SJC       San Jose, CA          915          1035   \n",
       "\n",
       "   crs_elapsed_time  distance  arr_hour dep_hour          arr_key  \\\n",
       "0                95       363        19       18  SFO2020-01-0119   \n",
       "1                90       363        13       11  SFO2020-01-0113   \n",
       "2                70       333        21       20  SJC2020-01-0121   \n",
       "3                75       333        14       13  SJC2020-01-0114   \n",
       "4                80       333        10       09  SJC2020-01-0110   \n",
       "\n",
       "           dep_key  \n",
       "0  ONT2020-01-0118  \n",
       "1  ONT2020-01-0111  \n",
       "2  ONT2020-01-0120  \n",
       "3  ONT2020-01-0113  \n",
       "4  ONT2020-01-0109  \n",
       "\n",
       "[5 rows x 21 columns]"
      ]
     },
     "execution_count": 9,
     "metadata": {},
     "output_type": "execute_result"
    }
   ],
   "source": [
    "df_sub.head()"
   ]
  },
  {
   "cell_type": "code",
   "execution_count": 19,
   "id": "7c0c1862",
   "metadata": {},
   "outputs": [],
   "source": [
    "df_flights = df_sub"
   ]
  },
  {
   "cell_type": "markdown",
   "id": "fe89f8cd",
   "metadata": {},
   "source": [
    "##  Weather API"
   ]
  },
  {
   "cell_type": "code",
   "execution_count": 55,
   "id": "2ae8676b",
   "metadata": {},
   "outputs": [],
   "source": [
    "df_weath = pd.read_csv('weather1801.csv')"
   ]
  },
  {
   "cell_type": "code",
   "execution_count": 56,
   "id": "04771dd9",
   "metadata": {},
   "outputs": [],
   "source": [
    "df_weath = pd.concat([df_weath,df_weath19],ignore_index=True)"
   ]
  },
  {
   "cell_type": "code",
   "execution_count": 59,
   "id": "9c78239f",
   "metadata": {},
   "outputs": [],
   "source": [
    "w_col = ['station', 'date', 'hour', 'tmpf', 'sknt', 'vsby', 'gust', 'skyl1', 'ice_accretion_3hr']"
   ]
  },
  {
   "cell_type": "code",
   "execution_count": 18,
   "id": "6a97f152",
   "metadata": {},
   "outputs": [
    {
     "data": {
      "text/html": [
       "<div>\n",
       "<style scoped>\n",
       "    .dataframe tbody tr th:only-of-type {\n",
       "        vertical-align: middle;\n",
       "    }\n",
       "\n",
       "    .dataframe tbody tr th {\n",
       "        vertical-align: top;\n",
       "    }\n",
       "\n",
       "    .dataframe thead th {\n",
       "        text-align: right;\n",
       "    }\n",
       "</style>\n",
       "<table border=\"1\" class=\"dataframe\">\n",
       "  <thead>\n",
       "    <tr style=\"text-align: right;\">\n",
       "      <th></th>\n",
       "      <th>station</th>\n",
       "      <th>date</th>\n",
       "      <th>hour</th>\n",
       "      <th>tmpf</th>\n",
       "      <th>sknt</th>\n",
       "      <th>vsby</th>\n",
       "      <th>gust</th>\n",
       "      <th>skyl1</th>\n",
       "      <th>ice_accretion_3hr</th>\n",
       "      <th>key</th>\n",
       "    </tr>\n",
       "  </thead>\n",
       "  <tbody>\n",
       "    <tr>\n",
       "      <th>0</th>\n",
       "      <td>CLT</td>\n",
       "      <td>2020-01-01</td>\n",
       "      <td>00</td>\n",
       "      <td>48.9</td>\n",
       "      <td>11.0</td>\n",
       "      <td>10.0</td>\n",
       "      <td>0.0</td>\n",
       "      <td>0.0</td>\n",
       "      <td>0.0</td>\n",
       "      <td>CLT2020-01-0100</td>\n",
       "    </tr>\n",
       "    <tr>\n",
       "      <th>1</th>\n",
       "      <td>CLT</td>\n",
       "      <td>2020-01-01</td>\n",
       "      <td>01</td>\n",
       "      <td>48.0</td>\n",
       "      <td>11.0</td>\n",
       "      <td>10.0</td>\n",
       "      <td>16.0</td>\n",
       "      <td>0.0</td>\n",
       "      <td>0.0</td>\n",
       "      <td>CLT2020-01-0101</td>\n",
       "    </tr>\n",
       "    <tr>\n",
       "      <th>2</th>\n",
       "      <td>CLT</td>\n",
       "      <td>2020-01-01</td>\n",
       "      <td>02</td>\n",
       "      <td>45.0</td>\n",
       "      <td>8.0</td>\n",
       "      <td>10.0</td>\n",
       "      <td>0.0</td>\n",
       "      <td>0.0</td>\n",
       "      <td>0.0</td>\n",
       "      <td>CLT2020-01-0102</td>\n",
       "    </tr>\n",
       "    <tr>\n",
       "      <th>3</th>\n",
       "      <td>CLT</td>\n",
       "      <td>2020-01-01</td>\n",
       "      <td>03</td>\n",
       "      <td>42.1</td>\n",
       "      <td>6.0</td>\n",
       "      <td>10.0</td>\n",
       "      <td>0.0</td>\n",
       "      <td>0.0</td>\n",
       "      <td>0.0</td>\n",
       "      <td>CLT2020-01-0103</td>\n",
       "    </tr>\n",
       "    <tr>\n",
       "      <th>4</th>\n",
       "      <td>CLT</td>\n",
       "      <td>2020-01-01</td>\n",
       "      <td>04</td>\n",
       "      <td>42.1</td>\n",
       "      <td>8.0</td>\n",
       "      <td>10.0</td>\n",
       "      <td>0.0</td>\n",
       "      <td>0.0</td>\n",
       "      <td>0.0</td>\n",
       "      <td>CLT2020-01-0104</td>\n",
       "    </tr>\n",
       "  </tbody>\n",
       "</table>\n",
       "</div>"
      ],
      "text/plain": [
       "  station        date hour  tmpf  sknt  vsby  gust  skyl1  ice_accretion_3hr  \\\n",
       "0     CLT  2020-01-01   00  48.9  11.0  10.0   0.0    0.0                0.0   \n",
       "1     CLT  2020-01-01   01  48.0  11.0  10.0  16.0    0.0                0.0   \n",
       "2     CLT  2020-01-01   02  45.0   8.0  10.0   0.0    0.0                0.0   \n",
       "3     CLT  2020-01-01   03  42.1   6.0  10.0   0.0    0.0                0.0   \n",
       "4     CLT  2020-01-01   04  42.1   8.0  10.0   0.0    0.0                0.0   \n",
       "\n",
       "               key  \n",
       "0  CLT2020-01-0100  \n",
       "1  CLT2020-01-0101  \n",
       "2  CLT2020-01-0102  \n",
       "3  CLT2020-01-0103  \n",
       "4  CLT2020-01-0104  "
      ]
     },
     "execution_count": 18,
     "metadata": {},
     "output_type": "execute_result"
    }
   ],
   "source": [
    "df_weath.head()"
   ]
  },
  {
   "cell_type": "code",
   "execution_count": 61,
   "id": "8474aeb2",
   "metadata": {},
   "outputs": [],
   "source": [
    "df_weath = pd.read_csv('weather201911.csv')"
   ]
  },
  {
   "cell_type": "code",
   "execution_count": 62,
   "id": "8345bfba",
   "metadata": {},
   "outputs": [],
   "source": [
    "df_weath.drop(columns=['Unnamed: 0'],inplace=True)"
   ]
  },
  {
   "cell_type": "code",
   "execution_count": 63,
   "id": "60097617",
   "metadata": {},
   "outputs": [],
   "source": [
    "def add_hour(t):\n",
    "    '''\n",
    "   conver time to hour to a new field\n",
    "    '''\n",
    "    l = '0' + str(t)\n",
    "    return l[-2:]"
   ]
  },
  {
   "cell_type": "code",
   "execution_count": 64,
   "id": "f80947fb",
   "metadata": {},
   "outputs": [],
   "source": [
    "df_weath['hour'] = df_weath['hour'].apply(add_hour)"
   ]
  },
  {
   "cell_type": "code",
   "execution_count": 65,
   "id": "bb52845c",
   "metadata": {},
   "outputs": [],
   "source": [
    "df_weath['key'] = df_weath['station'] + df_weath['date'] + df_weath['hour']"
   ]
  },
  {
   "cell_type": "markdown",
   "id": "50389a82",
   "metadata": {},
   "source": [
    "## Combine flight and weather"
   ]
  },
  {
   "cell_type": "code",
   "execution_count": 66,
   "id": "3c35692e",
   "metadata": {},
   "outputs": [],
   "source": [
    "## Merge flight table with weather table \n",
    "df_combine = pd.merge(df_flights,df_weath,left_on='dep_key',right_on='key',suffixes=('','_dep'))\n",
    "df_combine = pd.merge(df_combine,df_weath,left_on='arr_key',right_on='key',suffixes=('','_arr'))\n"
   ]
  },
  {
   "cell_type": "code",
   "execution_count": 67,
   "id": "bec6bd03",
   "metadata": {},
   "outputs": [],
   "source": [
    "df_combine.drop(columns=['station_arr','date_arr','hour_arr','key_arr','station','date','hour','key'],inplace=True)"
   ]
  },
  {
   "cell_type": "code",
   "execution_count": null,
   "id": "47df85e3-a19b-4d4a-a2bb-0cf79f8c39d3",
   "metadata": {},
   "outputs": [],
   "source": [
    "df_combine = de_"
   ]
  },
  {
   "cell_type": "code",
   "execution_count": 68,
   "id": "cde27bfc",
   "metadata": {},
   "outputs": [
    {
     "name": "stdout",
     "output_type": "stream",
     "text": [
      "<class 'pandas.core.frame.DataFrame'>\n",
      "Int64Index: 147051 entries, 0 to 147050\n",
      "Data columns (total 41 columns):\n",
      " #   Column                 Non-Null Count   Dtype  \n",
      "---  ------                 --------------   -----  \n",
      " 0   Unnamed: 0             147051 non-null  int64  \n",
      " 1   fl_date                147051 non-null  object \n",
      " 2   op_unique_carrier      147051 non-null  object \n",
      " 3   op_carrier_fl_num      147051 non-null  int64  \n",
      " 4   origin_airport_id      147051 non-null  int64  \n",
      " 5   dest_airport_id        147051 non-null  int64  \n",
      " 6   crs_dep_time           147051 non-null  int64  \n",
      " 7   dep_delay              146354 non-null  float64\n",
      " 8   crs_arr_time           147051 non-null  int64  \n",
      " 9   arr_delay              146132 non-null  float64\n",
      " 10  cancelled              147051 non-null  float64\n",
      " 11  cancellation_code      739 non-null     object \n",
      " 12  crs_elapsed_time       147051 non-null  float64\n",
      " 13  distance               147051 non-null  float64\n",
      " 14  carrier_delay          17806 non-null   float64\n",
      " 15  weather_delay          17806 non-null   float64\n",
      " 16  nas_delay              17806 non-null   float64\n",
      " 17  security_delay         17806 non-null   float64\n",
      " 18  late_aircraft_delay    17806 non-null   float64\n",
      " 19  mkt_carrier            147051 non-null  object \n",
      " 20  mkt_carrier_fl_num     147051 non-null  int64  \n",
      " 21  origin                 147051 non-null  object \n",
      " 22  origin_city_name       147051 non-null  object \n",
      " 23  dest                   147051 non-null  object \n",
      " 24  dest_city_name         147051 non-null  object \n",
      " 25  arr_hour               147051 non-null  object \n",
      " 26  dep_hour               147051 non-null  object \n",
      " 27  arr_key                147051 non-null  object \n",
      " 28  dep_key                147051 non-null  object \n",
      " 29  tmpf                   147051 non-null  float64\n",
      " 30  sknt                   147051 non-null  float64\n",
      " 31  vsby                   147051 non-null  float64\n",
      " 32  gust                   147051 non-null  float64\n",
      " 33  skyl1                  147051 non-null  float64\n",
      " 34  ice_accretion_3hr      147051 non-null  float64\n",
      " 35  tmpf_arr               147051 non-null  float64\n",
      " 36  sknt_arr               147051 non-null  float64\n",
      " 37  vsby_arr               147051 non-null  float64\n",
      " 38  gust_arr               147051 non-null  float64\n",
      " 39  skyl1_arr              147051 non-null  float64\n",
      " 40  ice_accretion_3hr_arr  147051 non-null  float64\n",
      "dtypes: float64(22), int64(7), object(12)\n",
      "memory usage: 47.1+ MB\n"
     ]
    }
   ],
   "source": [
    "df_combine.info()"
   ]
  },
  {
   "cell_type": "code",
   "execution_count": 69,
   "id": "b057f046",
   "metadata": {},
   "outputs": [],
   "source": [
    "df_combine.to_csv('fl_wea_201911.csv')"
   ]
  },
  {
   "cell_type": "code",
   "execution_count": 70,
   "id": "a8565927",
   "metadata": {},
   "outputs": [],
   "source": [
    "df_train, df_test = train_test_split(df_combine,test_size=0.2 )"
   ]
  },
  {
   "cell_type": "code",
   "execution_count": 71,
   "id": "4faddfb4",
   "metadata": {},
   "outputs": [],
   "source": [
    "df_train.to_csv('fl_wea_train.csv')"
   ]
  },
  {
   "cell_type": "code",
   "execution_count": 72,
   "id": "d14fbc39",
   "metadata": {},
   "outputs": [],
   "source": [
    "df_test.to_csv('fl_wea_test.csv')"
   ]
  },
  {
   "cell_type": "markdown",
   "id": "f3dc948e",
   "metadata": {},
   "source": [
    "### separate train data with needed features. data preparation. "
   ]
  },
  {
   "cell_type": "code",
   "execution_count": 42,
   "id": "9db7a4dd",
   "metadata": {},
   "outputs": [],
   "source": [
    "\n",
    "df_train = df_flight[['fl_date','op_unique_carrier','tail_num','op_carrier_fl_num','origin_airport_id','dest_airport_id','crs_dep_time','crs_arr_time','crs_elapsed_time','distance']]"
   ]
  },
  {
   "cell_type": "code",
   "execution_count": 58,
   "id": "c53ebffd",
   "metadata": {},
   "outputs": [
    {
     "data": {
      "text/plain": [
       "fl_date                  0\n",
       "op_unique_carrier        0\n",
       "tail_num             49269\n",
       "op_carrier_fl_num        0\n",
       "origin_airport_id        0\n",
       "dest_airport_id          0\n",
       "crs_dep_time             0\n",
       "crs_arr_time             0\n",
       "crs_elapsed_time        20\n",
       "distance                 0\n",
       "dtype: int64"
      ]
     },
     "execution_count": 58,
     "metadata": {},
     "output_type": "execute_result"
    }
   ],
   "source": [
    "df_train.isnull().sum()"
   ]
  },
  {
   "cell_type": "code",
   "execution_count": 94,
   "id": "f7ada9e9",
   "metadata": {},
   "outputs": [
    {
     "data": {
      "text/html": [
       "<div>\n",
       "<style scoped>\n",
       "    .dataframe tbody tr th:only-of-type {\n",
       "        vertical-align: middle;\n",
       "    }\n",
       "\n",
       "    .dataframe tbody tr th {\n",
       "        vertical-align: top;\n",
       "    }\n",
       "\n",
       "    .dataframe thead th {\n",
       "        text-align: right;\n",
       "    }\n",
       "</style>\n",
       "<table border=\"1\" class=\"dataframe\">\n",
       "  <thead>\n",
       "    <tr style=\"text-align: right;\">\n",
       "      <th></th>\n",
       "      <th>fl_date</th>\n",
       "      <th>op_unique_carrier</th>\n",
       "      <th>tail_num</th>\n",
       "      <th>op_carrier_fl_num</th>\n",
       "      <th>origin_airport_id</th>\n",
       "      <th>dest_airport_id</th>\n",
       "      <th>crs_dep_time</th>\n",
       "      <th>crs_arr_time</th>\n",
       "      <th>crs_elapsed_time</th>\n",
       "      <th>distance</th>\n",
       "    </tr>\n",
       "  </thead>\n",
       "  <tbody>\n",
       "    <tr>\n",
       "      <th>15927480</th>\n",
       "      <td>2018-04-02</td>\n",
       "      <td>WN</td>\n",
       "      <td>N8632A</td>\n",
       "      <td>1833</td>\n",
       "      <td>12892</td>\n",
       "      <td>10821</td>\n",
       "      <td>1320</td>\n",
       "      <td>2130</td>\n",
       "      <td>310.0</td>\n",
       "      <td>2329.0</td>\n",
       "    </tr>\n",
       "    <tr>\n",
       "      <th>15927481</th>\n",
       "      <td>2018-04-02</td>\n",
       "      <td>WN</td>\n",
       "      <td>N8329B</td>\n",
       "      <td>1839</td>\n",
       "      <td>12892</td>\n",
       "      <td>10821</td>\n",
       "      <td>1025</td>\n",
       "      <td>1835</td>\n",
       "      <td>310.0</td>\n",
       "      <td>2329.0</td>\n",
       "    </tr>\n",
       "    <tr>\n",
       "      <th>15927482</th>\n",
       "      <td>2018-04-02</td>\n",
       "      <td>WN</td>\n",
       "      <td>N255WN</td>\n",
       "      <td>31</td>\n",
       "      <td>12892</td>\n",
       "      <td>11259</td>\n",
       "      <td>825</td>\n",
       "      <td>1325</td>\n",
       "      <td>180.0</td>\n",
       "      <td>1246.0</td>\n",
       "    </tr>\n",
       "    <tr>\n",
       "      <th>15927483</th>\n",
       "      <td>2018-04-02</td>\n",
       "      <td>WN</td>\n",
       "      <td>N786SW</td>\n",
       "      <td>1336</td>\n",
       "      <td>12892</td>\n",
       "      <td>11259</td>\n",
       "      <td>1815</td>\n",
       "      <td>2315</td>\n",
       "      <td>180.0</td>\n",
       "      <td>1246.0</td>\n",
       "    </tr>\n",
       "    <tr>\n",
       "      <th>15927484</th>\n",
       "      <td>2018-04-02</td>\n",
       "      <td>WN</td>\n",
       "      <td>N962WN</td>\n",
       "      <td>1436</td>\n",
       "      <td>12892</td>\n",
       "      <td>11259</td>\n",
       "      <td>510</td>\n",
       "      <td>1010</td>\n",
       "      <td>180.0</td>\n",
       "      <td>1246.0</td>\n",
       "    </tr>\n",
       "  </tbody>\n",
       "</table>\n",
       "</div>"
      ],
      "text/plain": [
       "             fl_date op_unique_carrier tail_num  op_carrier_fl_num  \\\n",
       "15927480  2018-04-02                WN   N8632A               1833   \n",
       "15927481  2018-04-02                WN   N8329B               1839   \n",
       "15927482  2018-04-02                WN   N255WN                 31   \n",
       "15927483  2018-04-02                WN   N786SW               1336   \n",
       "15927484  2018-04-02                WN   N962WN               1436   \n",
       "\n",
       "          origin_airport_id  dest_airport_id  crs_dep_time  crs_arr_time  \\\n",
       "15927480              12892            10821          1320          2130   \n",
       "15927481              12892            10821          1025          1835   \n",
       "15927482              12892            11259           825          1325   \n",
       "15927483              12892            11259          1815          2315   \n",
       "15927484              12892            11259           510          1010   \n",
       "\n",
       "          crs_elapsed_time  distance  \n",
       "15927480             310.0    2329.0  \n",
       "15927481             310.0    2329.0  \n",
       "15927482             180.0    1246.0  \n",
       "15927483             180.0    1246.0  \n",
       "15927484             180.0    1246.0  "
      ]
     },
     "execution_count": 94,
     "metadata": {},
     "output_type": "execute_result"
    }
   ],
   "source": [
    "df_train.tail()"
   ]
  },
  {
   "cell_type": "code",
   "execution_count": 96,
   "id": "264271b5",
   "metadata": {},
   "outputs": [
    {
     "data": {
      "text/html": [
       "<div>\n",
       "<style scoped>\n",
       "    .dataframe tbody tr th:only-of-type {\n",
       "        vertical-align: middle;\n",
       "    }\n",
       "\n",
       "    .dataframe tbody tr th {\n",
       "        vertical-align: top;\n",
       "    }\n",
       "\n",
       "    .dataframe thead th {\n",
       "        text-align: right;\n",
       "    }\n",
       "</style>\n",
       "<table border=\"1\" class=\"dataframe\">\n",
       "  <thead>\n",
       "    <tr style=\"text-align: right;\">\n",
       "      <th></th>\n",
       "      <th>fl_date</th>\n",
       "      <th>op_unique_carrier</th>\n",
       "      <th>tail_num</th>\n",
       "      <th>op_carrier_fl_num</th>\n",
       "      <th>origin_airport_id</th>\n",
       "      <th>dest_airport_id</th>\n",
       "      <th>crs_dep_time</th>\n",
       "      <th>crs_arr_time</th>\n",
       "      <th>crs_elapsed_time</th>\n",
       "      <th>distance</th>\n",
       "    </tr>\n",
       "  </thead>\n",
       "  <tbody>\n",
       "    <tr>\n",
       "      <th>20240</th>\n",
       "      <td>2018-04-03</td>\n",
       "      <td>WN</td>\n",
       "      <td>N8306H</td>\n",
       "      <td>1833</td>\n",
       "      <td>12892</td>\n",
       "      <td>10821</td>\n",
       "      <td>1320</td>\n",
       "      <td>2130</td>\n",
       "      <td>310.0</td>\n",
       "      <td>2329.0</td>\n",
       "    </tr>\n",
       "    <tr>\n",
       "      <th>35656</th>\n",
       "      <td>2018-04-04</td>\n",
       "      <td>WN</td>\n",
       "      <td>N8563Z</td>\n",
       "      <td>1833</td>\n",
       "      <td>12892</td>\n",
       "      <td>10821</td>\n",
       "      <td>1320</td>\n",
       "      <td>2130</td>\n",
       "      <td>310.0</td>\n",
       "      <td>2329.0</td>\n",
       "    </tr>\n",
       "    <tr>\n",
       "      <th>61654</th>\n",
       "      <td>2018-04-05</td>\n",
       "      <td>WN</td>\n",
       "      <td>N8647A</td>\n",
       "      <td>1833</td>\n",
       "      <td>12892</td>\n",
       "      <td>10821</td>\n",
       "      <td>1320</td>\n",
       "      <td>2130</td>\n",
       "      <td>310.0</td>\n",
       "      <td>2329.0</td>\n",
       "    </tr>\n",
       "    <tr>\n",
       "      <th>80084</th>\n",
       "      <td>2018-04-06</td>\n",
       "      <td>WN</td>\n",
       "      <td>N8683D</td>\n",
       "      <td>1833</td>\n",
       "      <td>12892</td>\n",
       "      <td>10821</td>\n",
       "      <td>1320</td>\n",
       "      <td>2130</td>\n",
       "      <td>310.0</td>\n",
       "      <td>2329.0</td>\n",
       "    </tr>\n",
       "    <tr>\n",
       "      <th>148279</th>\n",
       "      <td>2018-04-09</td>\n",
       "      <td>WN</td>\n",
       "      <td>N8526W</td>\n",
       "      <td>1833</td>\n",
       "      <td>13198</td>\n",
       "      <td>10397</td>\n",
       "      <td>940</td>\n",
       "      <td>1240</td>\n",
       "      <td>120.0</td>\n",
       "      <td>692.0</td>\n",
       "    </tr>\n",
       "    <tr>\n",
       "      <th>...</th>\n",
       "      <td>...</td>\n",
       "      <td>...</td>\n",
       "      <td>...</td>\n",
       "      <td>...</td>\n",
       "      <td>...</td>\n",
       "      <td>...</td>\n",
       "      <td>...</td>\n",
       "      <td>...</td>\n",
       "      <td>...</td>\n",
       "      <td>...</td>\n",
       "    </tr>\n",
       "    <tr>\n",
       "      <th>15826566</th>\n",
       "      <td>2018-09-27</td>\n",
       "      <td>WN</td>\n",
       "      <td>N441WN</td>\n",
       "      <td>1833</td>\n",
       "      <td>12889</td>\n",
       "      <td>10140</td>\n",
       "      <td>850</td>\n",
       "      <td>1120</td>\n",
       "      <td>90.0</td>\n",
       "      <td>486.0</td>\n",
       "    </tr>\n",
       "    <tr>\n",
       "      <th>15838195</th>\n",
       "      <td>2018-09-28</td>\n",
       "      <td>WN</td>\n",
       "      <td>N943WN</td>\n",
       "      <td>1833</td>\n",
       "      <td>12889</td>\n",
       "      <td>10140</td>\n",
       "      <td>850</td>\n",
       "      <td>1120</td>\n",
       "      <td>90.0</td>\n",
       "      <td>486.0</td>\n",
       "    </tr>\n",
       "    <tr>\n",
       "      <th>15849389</th>\n",
       "      <td>2018-09-28</td>\n",
       "      <td>WN</td>\n",
       "      <td>N419WN</td>\n",
       "      <td>1833</td>\n",
       "      <td>11066</td>\n",
       "      <td>12889</td>\n",
       "      <td>655</td>\n",
       "      <td>810</td>\n",
       "      <td>255.0</td>\n",
       "      <td>1771.0</td>\n",
       "    </tr>\n",
       "    <tr>\n",
       "      <th>15907659</th>\n",
       "      <td>2018-04-01</td>\n",
       "      <td>WN</td>\n",
       "      <td>N8677A</td>\n",
       "      <td>1833</td>\n",
       "      <td>12892</td>\n",
       "      <td>10821</td>\n",
       "      <td>1320</td>\n",
       "      <td>2130</td>\n",
       "      <td>310.0</td>\n",
       "      <td>2329.0</td>\n",
       "    </tr>\n",
       "    <tr>\n",
       "      <th>15927480</th>\n",
       "      <td>2018-04-02</td>\n",
       "      <td>WN</td>\n",
       "      <td>N8632A</td>\n",
       "      <td>1833</td>\n",
       "      <td>12892</td>\n",
       "      <td>10821</td>\n",
       "      <td>1320</td>\n",
       "      <td>2130</td>\n",
       "      <td>310.0</td>\n",
       "      <td>2329.0</td>\n",
       "    </tr>\n",
       "  </tbody>\n",
       "</table>\n",
       "<p>858 rows × 10 columns</p>\n",
       "</div>"
      ],
      "text/plain": [
       "             fl_date op_unique_carrier tail_num  op_carrier_fl_num  \\\n",
       "20240     2018-04-03                WN   N8306H               1833   \n",
       "35656     2018-04-04                WN   N8563Z               1833   \n",
       "61654     2018-04-05                WN   N8647A               1833   \n",
       "80084     2018-04-06                WN   N8683D               1833   \n",
       "148279    2018-04-09                WN   N8526W               1833   \n",
       "...              ...               ...      ...                ...   \n",
       "15826566  2018-09-27                WN   N441WN               1833   \n",
       "15838195  2018-09-28                WN   N943WN               1833   \n",
       "15849389  2018-09-28                WN   N419WN               1833   \n",
       "15907659  2018-04-01                WN   N8677A               1833   \n",
       "15927480  2018-04-02                WN   N8632A               1833   \n",
       "\n",
       "          origin_airport_id  dest_airport_id  crs_dep_time  crs_arr_time  \\\n",
       "20240                 12892            10821          1320          2130   \n",
       "35656                 12892            10821          1320          2130   \n",
       "61654                 12892            10821          1320          2130   \n",
       "80084                 12892            10821          1320          2130   \n",
       "148279                13198            10397           940          1240   \n",
       "...                     ...              ...           ...           ...   \n",
       "15826566              12889            10140           850          1120   \n",
       "15838195              12889            10140           850          1120   \n",
       "15849389              11066            12889           655           810   \n",
       "15907659              12892            10821          1320          2130   \n",
       "15927480              12892            10821          1320          2130   \n",
       "\n",
       "          crs_elapsed_time  distance  \n",
       "20240                310.0    2329.0  \n",
       "35656                310.0    2329.0  \n",
       "61654                310.0    2329.0  \n",
       "80084                310.0    2329.0  \n",
       "148279               120.0     692.0  \n",
       "...                    ...       ...  \n",
       "15826566              90.0     486.0  \n",
       "15838195              90.0     486.0  \n",
       "15849389             255.0    1771.0  \n",
       "15907659             310.0    2329.0  \n",
       "15927480             310.0    2329.0  \n",
       "\n",
       "[858 rows x 10 columns]"
      ]
     },
     "execution_count": 96,
     "metadata": {},
     "output_type": "execute_result"
    }
   ],
   "source": [
    "# 'op_carrier_fl_num' and 'op_unique_carrier' identified unique flight\n",
    "df_train[(df_train['op_carrier_fl_num'] == 1833) & (df_train['op_unique_carrier']=='WN')]"
   ]
  },
  {
   "cell_type": "code",
   "execution_count": 71,
   "id": "6ffd46d7",
   "metadata": {},
   "outputs": [
    {
     "data": {
      "text/plain": [
       "fl_date               730\n",
       "op_unique_carrier      28\n",
       "tail_num             6487\n",
       "op_carrier_fl_num    7252\n",
       "origin_airport_id     376\n",
       "dest_airport_id       376\n",
       "crs_dep_time         1412\n",
       "crs_arr_time         1437\n",
       "crs_elapsed_time      693\n",
       "distance             1623\n",
       "dtype: int64"
      ]
     },
     "execution_count": 71,
     "metadata": {},
     "output_type": "execute_result"
    }
   ],
   "source": [
    "df_train.nunique()"
   ]
  },
  {
   "cell_type": "code",
   "execution_count": 90,
   "id": "46f35c0e",
   "metadata": {},
   "outputs": [
    {
     "name": "stdout",
     "output_type": "stream",
     "text": [
      "<class 'pandas.core.frame.DataFrame'>\n",
      "RangeIndex: 15927485 entries, 0 to 15927484\n",
      "Data columns (total 10 columns):\n",
      " #   Column             Dtype  \n",
      "---  ------             -----  \n",
      " 0   fl_date            object \n",
      " 1   op_unique_carrier  object \n",
      " 2   tail_num           object \n",
      " 3   op_carrier_fl_num  int64  \n",
      " 4   origin_airport_id  int64  \n",
      " 5   dest_airport_id    int64  \n",
      " 6   crs_dep_time       int64  \n",
      " 7   crs_arr_time       int64  \n",
      " 8   crs_elapsed_time   float64\n",
      " 9   distance           float64\n",
      "dtypes: float64(2), int64(5), object(3)\n",
      "memory usage: 1.2+ GB\n"
     ]
    }
   ],
   "source": [
    "df_train.info()"
   ]
  },
  {
   "cell_type": "code",
   "execution_count": 100,
   "id": "f27075ef",
   "metadata": {},
   "outputs": [],
   "source": [
    "df_train2 = df_train.iloc[:1000000,:]"
   ]
  },
  {
   "cell_type": "code",
   "execution_count": 101,
   "id": "6246ff3e",
   "metadata": {},
   "outputs": [
    {
     "name": "stdout",
     "output_type": "stream",
     "text": [
      "<class 'pandas.core.frame.DataFrame'>\n",
      "RangeIndex: 1000000 entries, 0 to 999999\n",
      "Data columns (total 19 columns):\n",
      " #   Column               Non-Null Count    Dtype  \n",
      "---  ------               --------------    -----  \n",
      " 0   fl_date              1000000 non-null  object \n",
      " 1   op_unique_carrier    1000000 non-null  object \n",
      " 2   tail_num             998428 non-null   object \n",
      " 3   op_carrier_fl_num    1000000 non-null  int64  \n",
      " 4   origin_airport_id    1000000 non-null  int64  \n",
      " 5   dest_airport_id      1000000 non-null  int64  \n",
      " 6   crs_dep_time         1000000 non-null  int64  \n",
      " 7   dep_delay            986911 non-null   float64\n",
      " 8   crs_arr_time         1000000 non-null  int64  \n",
      " 9   arr_delay            984307 non-null   float64\n",
      " 10  cancelled            1000000 non-null  float64\n",
      " 11  cancellation_code    12748 non-null    object \n",
      " 12  crs_elapsed_time     1000000 non-null  float64\n",
      " 13  distance             1000000 non-null  float64\n",
      " 14  carrier_delay        180344 non-null   float64\n",
      " 15  weather_delay        180344 non-null   float64\n",
      " 16  nas_delay            180344 non-null   float64\n",
      " 17  security_delay       180344 non-null   float64\n",
      " 18  late_aircraft_delay  180344 non-null   float64\n",
      "dtypes: float64(10), int64(5), object(4)\n",
      "memory usage: 145.0+ MB\n"
     ]
    }
   ],
   "source": [
    "df_train2.info()"
   ]
  },
  {
   "cell_type": "code",
   "execution_count": 102,
   "id": "1800a50a",
   "metadata": {},
   "outputs": [],
   "source": [
    "X_train, X_test = train_test_split(df, test_size=0.2) "
   ]
  },
  {
   "cell_type": "code",
   "execution_count": null,
   "id": "86fb252b",
   "metadata": {},
   "outputs": [],
   "source": [
    "y_test.to_csv('y_test')"
   ]
  },
  {
   "cell_type": "markdown",
   "id": "957a397c",
   "metadata": {},
   "source": [
    "## Lable data with all delays, data preparation."
   ]
  },
  {
   "cell_type": "code",
   "execution_count": 66,
   "id": "258d6552",
   "metadata": {},
   "outputs": [],
   "source": [
    "#df_lable['total_delay'] = df_lable['carrier_delay'] + df_lable['weather_delay'] + df_lable['nas_delay'] + df_lable['security_delay'] + df_lable['late_aircraft_delay'] + df_lable['arr_delay'] + df_lable['dep_delay']"
   ]
  },
  {
   "cell_type": "code",
   "execution_count": 59,
   "id": "aca785cd",
   "metadata": {},
   "outputs": [],
   "source": [
    "def is_delay(x):\n",
    "    '''\n",
    "    Generate a column to identify delay.\n",
    "    input : total_delay\n",
    "    output : bool 1 is delay, 0 is not.\n",
    "    '''\n",
    "    if x > 0:\n",
    "        return 1\n",
    "    else: \n",
    "        return 0"
   ]
  },
  {
   "cell_type": "code",
   "execution_count": 65,
   "id": "bdd211dd",
   "metadata": {},
   "outputs": [],
   "source": [
    "#df_lable['isdelay'] = df_lable['total_delay'].apply(is_delay)"
   ]
  },
  {
   "cell_type": "code",
   "execution_count": 64,
   "id": "4dc2e315",
   "metadata": {},
   "outputs": [
    {
     "data": {
      "text/plain": [
       "0    12918338\n",
       "1     3009148\n",
       "Name: isdelay, dtype: int64"
      ]
     },
     "execution_count": 64,
     "metadata": {},
     "output_type": "execute_result"
    }
   ],
   "source": [
    "df_lable['isdelay'].value_counts()"
   ]
  },
  {
   "cell_type": "markdown",
   "id": "0d798d13",
   "metadata": {},
   "source": [
    "### Analyze outliners of arr_delay"
   ]
  },
  {
   "cell_type": "code",
   "execution_count": 69,
   "id": "e0240737",
   "metadata": {},
   "outputs": [
    {
     "data": {
      "text/html": [
       "<div>\n",
       "<style scoped>\n",
       "    .dataframe tbody tr th:only-of-type {\n",
       "        vertical-align: middle;\n",
       "    }\n",
       "\n",
       "    .dataframe tbody tr th {\n",
       "        vertical-align: top;\n",
       "    }\n",
       "\n",
       "    .dataframe thead th {\n",
       "        text-align: right;\n",
       "    }\n",
       "</style>\n",
       "<table border=\"1\" class=\"dataframe\">\n",
       "  <thead>\n",
       "    <tr style=\"text-align: right;\">\n",
       "      <th></th>\n",
       "      <th>dep_delay</th>\n",
       "      <th>arr_delay</th>\n",
       "      <th>cancelled</th>\n",
       "      <th>carrier_delay</th>\n",
       "      <th>weather_delay</th>\n",
       "      <th>nas_delay</th>\n",
       "      <th>security_delay</th>\n",
       "      <th>late_aircraft_delay</th>\n",
       "      <th>total_delay</th>\n",
       "      <th>isdelay</th>\n",
       "    </tr>\n",
       "  </thead>\n",
       "  <tbody>\n",
       "    <tr>\n",
       "      <th>count</th>\n",
       "      <td>1.566373e+07</td>\n",
       "      <td>1.561574e+07</td>\n",
       "      <td>1.592748e+07</td>\n",
       "      <td>3.009484e+06</td>\n",
       "      <td>3.009484e+06</td>\n",
       "      <td>3.009484e+06</td>\n",
       "      <td>3.009484e+06</td>\n",
       "      <td>3.009484e+06</td>\n",
       "      <td>3.009149e+06</td>\n",
       "      <td>1.592749e+07</td>\n",
       "    </tr>\n",
       "    <tr>\n",
       "      <th>mean</th>\n",
       "      <td>1.054971e+01</td>\n",
       "      <td>5.475932e+00</td>\n",
       "      <td>1.690210e-02</td>\n",
       "      <td>2.037512e+01</td>\n",
       "      <td>3.674443e+00</td>\n",
       "      <td>1.623685e+01</td>\n",
       "      <td>8.853279e-02</td>\n",
       "      <td>2.729212e+01</td>\n",
       "      <td>1.983783e+02</td>\n",
       "      <td>1.889280e-01</td>\n",
       "    </tr>\n",
       "    <tr>\n",
       "      <th>std</th>\n",
       "      <td>4.780636e+01</td>\n",
       "      <td>4.987401e+01</td>\n",
       "      <td>1.289047e-01</td>\n",
       "      <td>6.320810e+01</td>\n",
       "      <td>3.111776e+01</td>\n",
       "      <td>3.775392e+01</td>\n",
       "      <td>3.135871e+00</td>\n",
       "      <td>5.334582e+01</td>\n",
       "      <td>2.627431e+02</td>\n",
       "      <td>3.914514e-01</td>\n",
       "    </tr>\n",
       "    <tr>\n",
       "      <th>min</th>\n",
       "      <td>-1.280000e+03</td>\n",
       "      <td>-1.290000e+03</td>\n",
       "      <td>0.000000e+00</td>\n",
       "      <td>0.000000e+00</td>\n",
       "      <td>0.000000e+00</td>\n",
       "      <td>0.000000e+00</td>\n",
       "      <td>0.000000e+00</td>\n",
       "      <td>0.000000e+00</td>\n",
       "      <td>-1.700000e+01</td>\n",
       "      <td>0.000000e+00</td>\n",
       "    </tr>\n",
       "    <tr>\n",
       "      <th>25%</th>\n",
       "      <td>-6.000000e+00</td>\n",
       "      <td>-1.500000e+01</td>\n",
       "      <td>0.000000e+00</td>\n",
       "      <td>0.000000e+00</td>\n",
       "      <td>0.000000e+00</td>\n",
       "      <td>0.000000e+00</td>\n",
       "      <td>0.000000e+00</td>\n",
       "      <td>0.000000e+00</td>\n",
       "      <td>6.700000e+01</td>\n",
       "      <td>0.000000e+00</td>\n",
       "    </tr>\n",
       "    <tr>\n",
       "      <th>50%</th>\n",
       "      <td>-2.000000e+00</td>\n",
       "      <td>-6.000000e+00</td>\n",
       "      <td>0.000000e+00</td>\n",
       "      <td>0.000000e+00</td>\n",
       "      <td>0.000000e+00</td>\n",
       "      <td>3.000000e+00</td>\n",
       "      <td>0.000000e+00</td>\n",
       "      <td>3.000000e+00</td>\n",
       "      <td>1.180000e+02</td>\n",
       "      <td>0.000000e+00</td>\n",
       "    </tr>\n",
       "    <tr>\n",
       "      <th>75%</th>\n",
       "      <td>7.000000e+00</td>\n",
       "      <td>8.000000e+00</td>\n",
       "      <td>0.000000e+00</td>\n",
       "      <td>1.700000e+01</td>\n",
       "      <td>0.000000e+00</td>\n",
       "      <td>2.000000e+01</td>\n",
       "      <td>0.000000e+00</td>\n",
       "      <td>3.300000e+01</td>\n",
       "      <td>2.330000e+02</td>\n",
       "      <td>0.000000e+00</td>\n",
       "    </tr>\n",
       "    <tr>\n",
       "      <th>max</th>\n",
       "      <td>2.976000e+03</td>\n",
       "      <td>2.973000e+03</td>\n",
       "      <td>1.000000e+00</td>\n",
       "      <td>2.973000e+03</td>\n",
       "      <td>2.900000e+03</td>\n",
       "      <td>1.848000e+03</td>\n",
       "      <td>1.078000e+03</td>\n",
       "      <td>2.962000e+03</td>\n",
       "      <td>8.922000e+03</td>\n",
       "      <td>1.000000e+00</td>\n",
       "    </tr>\n",
       "  </tbody>\n",
       "</table>\n",
       "</div>"
      ],
      "text/plain": [
       "          dep_delay     arr_delay     cancelled  carrier_delay  weather_delay  \\\n",
       "count  1.566373e+07  1.561574e+07  1.592748e+07   3.009484e+06   3.009484e+06   \n",
       "mean   1.054971e+01  5.475932e+00  1.690210e-02   2.037512e+01   3.674443e+00   \n",
       "std    4.780636e+01  4.987401e+01  1.289047e-01   6.320810e+01   3.111776e+01   \n",
       "min   -1.280000e+03 -1.290000e+03  0.000000e+00   0.000000e+00   0.000000e+00   \n",
       "25%   -6.000000e+00 -1.500000e+01  0.000000e+00   0.000000e+00   0.000000e+00   \n",
       "50%   -2.000000e+00 -6.000000e+00  0.000000e+00   0.000000e+00   0.000000e+00   \n",
       "75%    7.000000e+00  8.000000e+00  0.000000e+00   1.700000e+01   0.000000e+00   \n",
       "max    2.976000e+03  2.973000e+03  1.000000e+00   2.973000e+03   2.900000e+03   \n",
       "\n",
       "          nas_delay  security_delay  late_aircraft_delay   total_delay  \\\n",
       "count  3.009484e+06    3.009484e+06         3.009484e+06  3.009149e+06   \n",
       "mean   1.623685e+01    8.853279e-02         2.729212e+01  1.983783e+02   \n",
       "std    3.775392e+01    3.135871e+00         5.334582e+01  2.627431e+02   \n",
       "min    0.000000e+00    0.000000e+00         0.000000e+00 -1.700000e+01   \n",
       "25%    0.000000e+00    0.000000e+00         0.000000e+00  6.700000e+01   \n",
       "50%    3.000000e+00    0.000000e+00         3.000000e+00  1.180000e+02   \n",
       "75%    2.000000e+01    0.000000e+00         3.300000e+01  2.330000e+02   \n",
       "max    1.848000e+03    1.078000e+03         2.962000e+03  8.922000e+03   \n",
       "\n",
       "            isdelay  \n",
       "count  1.592749e+07  \n",
       "mean   1.889280e-01  \n",
       "std    3.914514e-01  \n",
       "min    0.000000e+00  \n",
       "25%    0.000000e+00  \n",
       "50%    0.000000e+00  \n",
       "75%    0.000000e+00  \n",
       "max    1.000000e+00  "
      ]
     },
     "execution_count": 69,
     "metadata": {},
     "output_type": "execute_result"
    }
   ],
   "source": [
    "df_lable.describe()"
   ]
  },
  {
   "cell_type": "code",
   "execution_count": 78,
   "id": "8b440214",
   "metadata": {},
   "outputs": [
    {
     "name": "stdout",
     "output_type": "stream",
     "text": [
      "-144.14610000000002 -84 155.0979 77\n"
     ]
    }
   ],
   "source": [
    "low_3st = 5.4759 - 49.874 * 3\n",
    "high_3st = 5.4759 + 49.874 * 3\n",
    "IQR = 8-(-15)\n",
    "low_15IQR = -15-IQR*3\n",
    "high_15IQR = 8 + IQR *3\n",
    "print(low_3st,low_15IQR,high_3st,high_15IQR)"
   ]
  },
  {
   "cell_type": "code",
   "execution_count": 79,
   "id": "9dfbc8f8",
   "metadata": {},
   "outputs": [],
   "source": [
    "y = df_lable['arr_delay']"
   ]
  },
  {
   "cell_type": "code",
   "execution_count": 83,
   "id": "16636b21",
   "metadata": {},
   "outputs": [
    {
     "name": "stdout",
     "output_type": "stream",
     "text": [
      "253077 54 117\n"
     ]
    }
   ],
   "source": [
    "print(sum(y > high_3st),sum(y < low_3st), sum(y < low_15IQR))"
   ]
  },
  {
   "cell_type": "code",
   "execution_count": 89,
   "id": "6cc57840",
   "metadata": {},
   "outputs": [
    {
     "data": {
      "text/plain": [
       "185328"
      ]
     },
     "execution_count": 89,
     "metadata": {},
     "output_type": "execute_result"
    }
   ],
   "source": [
    "sum(y>180)"
   ]
  },
  {
   "cell_type": "code",
   "execution_count": 85,
   "id": "b1e529bd",
   "metadata": {},
   "outputs": [
    {
     "data": {
      "text/plain": [
       "(array([3.000000e+00, 5.000000e+00, 3.000000e+00, 7.000000e+00,\n",
       "        7.000000e+00, 2.500000e+01, 3.400000e+01, 4.700000e+01,\n",
       "        7.400000e+01, 8.800000e+01, 2.130000e+02, 3.600000e+02,\n",
       "        5.970000e+02, 6.410000e+02, 1.362000e+03, 2.346000e+03,\n",
       "        3.854000e+03, 6.594000e+03, 6.899000e+03, 1.628100e+04,\n",
       "        2.824600e+04, 4.861000e+04, 4.989000e+04, 1.162770e+05,\n",
       "        1.894140e+05, 3.021140e+05, 4.648000e+05, 4.259900e+05,\n",
       "        8.422520e+05, 1.095522e+06, 1.298239e+06, 9.209080e+05,\n",
       "        1.374668e+06, 1.255119e+06, 1.073661e+06, 8.848170e+05,\n",
       "        4.851640e+05, 6.047350e+05, 4.868690e+05, 3.955990e+05,\n",
       "        2.238200e+05, 2.877510e+05, 2.425310e+05, 2.067980e+05,\n",
       "        1.788400e+05, 1.054410e+05, 1.432280e+05, 1.261540e+05,\n",
       "        1.130550e+05, 6.869800e+04, 9.489000e+04, 8.588100e+04,\n",
       "        7.874200e+04, 7.171400e+04, 4.458500e+04, 6.266800e+04,\n",
       "        5.798700e+04, 5.371500e+04, 5.010400e+04, 3.137700e+04,\n",
       "        4.457600e+04, 4.184100e+04, 3.913500e+04, 2.475300e+04,\n",
       "        3.512800e+04, 3.295100e+04, 3.122000e+04, 2.915700e+04,\n",
       "        1.887000e+04, 2.684700e+04, 2.532300e+04, 2.384700e+04,\n",
       "        1.528800e+04, 2.211800e+04, 2.084400e+04, 2.014100e+04,\n",
       "        1.901300e+04, 1.209500e+04, 1.753400e+04, 1.672700e+04,\n",
       "        1.581500e+04, 1.006900e+04, 1.428800e+04, 1.389700e+04,\n",
       "        1.337000e+04, 1.258200e+04, 8.018000e+03, 1.166500e+04,\n",
       "        1.124200e+04, 1.058700e+04, 6.708000e+03, 9.855000e+03,\n",
       "        9.444000e+03, 9.002000e+03, 8.455000e+03, 5.514000e+03,\n",
       "        8.029000e+03, 7.493000e+03, 7.296000e+03, 6.939000e+03]),\n",
       " array([-99.  , -96.22, -93.44, -90.66, -87.88, -85.1 , -82.32, -79.54,\n",
       "        -76.76, -73.98, -71.2 , -68.42, -65.64, -62.86, -60.08, -57.3 ,\n",
       "        -54.52, -51.74, -48.96, -46.18, -43.4 , -40.62, -37.84, -35.06,\n",
       "        -32.28, -29.5 , -26.72, -23.94, -21.16, -18.38, -15.6 , -12.82,\n",
       "        -10.04,  -7.26,  -4.48,  -1.7 ,   1.08,   3.86,   6.64,   9.42,\n",
       "         12.2 ,  14.98,  17.76,  20.54,  23.32,  26.1 ,  28.88,  31.66,\n",
       "         34.44,  37.22,  40.  ,  42.78,  45.56,  48.34,  51.12,  53.9 ,\n",
       "         56.68,  59.46,  62.24,  65.02,  67.8 ,  70.58,  73.36,  76.14,\n",
       "         78.92,  81.7 ,  84.48,  87.26,  90.04,  92.82,  95.6 ,  98.38,\n",
       "        101.16, 103.94, 106.72, 109.5 , 112.28, 115.06, 117.84, 120.62,\n",
       "        123.4 , 126.18, 128.96, 131.74, 134.52, 137.3 , 140.08, 142.86,\n",
       "        145.64, 148.42, 151.2 , 153.98, 156.76, 159.54, 162.32, 165.1 ,\n",
       "        167.88, 170.66, 173.44, 176.22, 179.  ]),\n",
       " <BarContainer object of 100 artists>)"
      ]
     },
     "execution_count": 85,
     "metadata": {},
     "output_type": "execute_result"
    },
    {
     "data": {
      "image/png": "[encoded data removed]",
      "text/plain": [
       "<Figure size 432x288 with 1 Axes>"
      ]
     },
     "metadata": {
      "needs_background": "light"
     },
     "output_type": "display_data"
    }
   ],
   "source": [
    "plt.hist(y[(y<180) & (y>-100)],bins=100)"
   ]
  },
  {
   "cell_type": "markdown",
   "id": "b782b7b6",
   "metadata": {},
   "source": [
    "### Table **flights_test**\n",
    "\n",
    "total number of records: 660556\n",
    "total columns: 20\n",
    "fl_date: 2020-1-1 to 2020-01-31\n",
    "crs_elapsed_time mean : 144.95\n",
    "distance mean: 795\n"
   ]
  },
  {
   "cell_type": "code",
   "execution_count": 6,
   "id": "a1209f9c",
   "metadata": {},
   "outputs": [],
   "source": [
    "sql = 'select * from flights_test limit 100'"
   ]
  },
  {
   "cell_type": "code",
   "execution_count": null,
   "id": "d19dae35",
   "metadata": {},
   "outputs": [],
   "source": []
  },
  {
   "cell_type": "code",
   "execution_count": 7,
   "id": "8a11a5a9",
   "metadata": {},
   "outputs": [
    {
     "ename": "NameError",
     "evalue": "name 'con' is not defined",
     "output_type": "error",
     "traceback": [
      "\u001b[0;31m---------------------------------------------------------------------------\u001b[0m",
      "\u001b[0;31mNameError\u001b[0m                                 Traceback (most recent call last)",
      "\u001b[0;32m<ipython-input-7-311e9eca578c>\u001b[0m in \u001b[0;36m<module>\u001b[0;34m\u001b[0m\n\u001b[0;32m----> 1\u001b[0;31m \u001b[0mdf_test\u001b[0m \u001b[0;34m=\u001b[0m \u001b[0mpd\u001b[0m\u001b[0;34m.\u001b[0m\u001b[0mread_sql\u001b[0m\u001b[0;34m(\u001b[0m\u001b[0msql\u001b[0m\u001b[0;34m,\u001b[0m\u001b[0mcon\u001b[0m\u001b[0;34m)\u001b[0m\u001b[0;34m\u001b[0m\u001b[0;34m\u001b[0m\u001b[0m\n\u001b[0m",
      "\u001b[0;31mNameError\u001b[0m: name 'con' is not defined"
     ]
    }
   ],
   "source": [
    "df_test = pd.read_sql(sql,con)"
   ]
  },
  {
   "cell_type": "code",
   "execution_count": 5,
   "id": "04ca8525",
   "metadata": {},
   "outputs": [
    {
     "ename": "NameError",
     "evalue": "name 'df_test' is not defined",
     "output_type": "error",
     "traceback": [
      "\u001b[0;31m---------------------------------------------------------------------------\u001b[0m",
      "\u001b[0;31mNameError\u001b[0m                                 Traceback (most recent call last)",
      "\u001b[0;32m<ipython-input-5-59d2a3db6f98>\u001b[0m in \u001b[0;36m<module>\u001b[0;34m\u001b[0m\n\u001b[0;32m----> 1\u001b[0;31m \u001b[0mdf_test\u001b[0m\u001b[0;34m.\u001b[0m\u001b[0minfo\u001b[0m\u001b[0;34m(\u001b[0m\u001b[0;34m)\u001b[0m\u001b[0;34m\u001b[0m\u001b[0;34m\u001b[0m\u001b[0m\n\u001b[0m",
      "\u001b[0;31mNameError\u001b[0m: name 'df_test' is not defined"
     ]
    }
   ],
   "source": [
    "df_test.info()"
   ]
  },
  {
   "cell_type": "code",
   "execution_count": 30,
   "id": "41fd4b2a",
   "metadata": {},
   "outputs": [
    {
     "data": {
      "text/html": [
       "<div>\n",
       "<style scoped>\n",
       "    .dataframe tbody tr th:only-of-type {\n",
       "        vertical-align: middle;\n",
       "    }\n",
       "\n",
       "    .dataframe tbody tr th {\n",
       "        vertical-align: top;\n",
       "    }\n",
       "\n",
       "    .dataframe thead th {\n",
       "        text-align: right;\n",
       "    }\n",
       "</style>\n",
       "<table border=\"1\" class=\"dataframe\">\n",
       "  <thead>\n",
       "    <tr style=\"text-align: right;\">\n",
       "      <th></th>\n",
       "      <th>fl_date</th>\n",
       "      <th>mkt_unique_carrier</th>\n",
       "      <th>branded_code_share</th>\n",
       "      <th>mkt_carrier</th>\n",
       "      <th>mkt_carrier_fl_num</th>\n",
       "      <th>op_unique_carrier</th>\n",
       "      <th>tail_num</th>\n",
       "      <th>op_carrier_fl_num</th>\n",
       "      <th>origin_airport_id</th>\n",
       "      <th>origin</th>\n",
       "      <th>origin_city_name</th>\n",
       "      <th>dest_airport_id</th>\n",
       "      <th>dest</th>\n",
       "      <th>dest_city_name</th>\n",
       "      <th>crs_dep_time</th>\n",
       "      <th>crs_arr_time</th>\n",
       "      <th>dup</th>\n",
       "      <th>crs_elapsed_time</th>\n",
       "      <th>flights</th>\n",
       "      <th>distance</th>\n",
       "    </tr>\n",
       "  </thead>\n",
       "  <tbody>\n",
       "    <tr>\n",
       "      <th>0</th>\n",
       "      <td>2020-01-01</td>\n",
       "      <td>WN</td>\n",
       "      <td>WN</td>\n",
       "      <td>WN</td>\n",
       "      <td>5888</td>\n",
       "      <td>WN</td>\n",
       "      <td>N951WN</td>\n",
       "      <td>5888</td>\n",
       "      <td>13891</td>\n",
       "      <td>ONT</td>\n",
       "      <td>Ontario, CA</td>\n",
       "      <td>14771</td>\n",
       "      <td>SFO</td>\n",
       "      <td>San Francisco, CA</td>\n",
       "      <td>1810</td>\n",
       "      <td>1945</td>\n",
       "      <td>N</td>\n",
       "      <td>95</td>\n",
       "      <td>1</td>\n",
       "      <td>363</td>\n",
       "    </tr>\n",
       "    <tr>\n",
       "      <th>1</th>\n",
       "      <td>2020-01-01</td>\n",
       "      <td>WN</td>\n",
       "      <td>WN</td>\n",
       "      <td>WN</td>\n",
       "      <td>6276</td>\n",
       "      <td>WN</td>\n",
       "      <td>N467WN</td>\n",
       "      <td>6276</td>\n",
       "      <td>13891</td>\n",
       "      <td>ONT</td>\n",
       "      <td>Ontario, CA</td>\n",
       "      <td>14771</td>\n",
       "      <td>SFO</td>\n",
       "      <td>San Francisco, CA</td>\n",
       "      <td>1150</td>\n",
       "      <td>1320</td>\n",
       "      <td>N</td>\n",
       "      <td>90</td>\n",
       "      <td>1</td>\n",
       "      <td>363</td>\n",
       "    </tr>\n",
       "    <tr>\n",
       "      <th>2</th>\n",
       "      <td>2020-01-01</td>\n",
       "      <td>WN</td>\n",
       "      <td>WN</td>\n",
       "      <td>WN</td>\n",
       "      <td>4598</td>\n",
       "      <td>WN</td>\n",
       "      <td>N7885A</td>\n",
       "      <td>4598</td>\n",
       "      <td>13891</td>\n",
       "      <td>ONT</td>\n",
       "      <td>Ontario, CA</td>\n",
       "      <td>14831</td>\n",
       "      <td>SJC</td>\n",
       "      <td>San Jose, CA</td>\n",
       "      <td>2020</td>\n",
       "      <td>2130</td>\n",
       "      <td>N</td>\n",
       "      <td>70</td>\n",
       "      <td>1</td>\n",
       "      <td>333</td>\n",
       "    </tr>\n",
       "    <tr>\n",
       "      <th>3</th>\n",
       "      <td>2020-01-01</td>\n",
       "      <td>WN</td>\n",
       "      <td>WN</td>\n",
       "      <td>WN</td>\n",
       "      <td>4761</td>\n",
       "      <td>WN</td>\n",
       "      <td>N551WN</td>\n",
       "      <td>4761</td>\n",
       "      <td>13891</td>\n",
       "      <td>ONT</td>\n",
       "      <td>Ontario, CA</td>\n",
       "      <td>14831</td>\n",
       "      <td>SJC</td>\n",
       "      <td>San Jose, CA</td>\n",
       "      <td>1340</td>\n",
       "      <td>1455</td>\n",
       "      <td>N</td>\n",
       "      <td>75</td>\n",
       "      <td>1</td>\n",
       "      <td>333</td>\n",
       "    </tr>\n",
       "    <tr>\n",
       "      <th>4</th>\n",
       "      <td>2020-01-01</td>\n",
       "      <td>WN</td>\n",
       "      <td>WN</td>\n",
       "      <td>WN</td>\n",
       "      <td>5162</td>\n",
       "      <td>WN</td>\n",
       "      <td>N968WN</td>\n",
       "      <td>5162</td>\n",
       "      <td>13891</td>\n",
       "      <td>ONT</td>\n",
       "      <td>Ontario, CA</td>\n",
       "      <td>14831</td>\n",
       "      <td>SJC</td>\n",
       "      <td>San Jose, CA</td>\n",
       "      <td>915</td>\n",
       "      <td>1035</td>\n",
       "      <td>N</td>\n",
       "      <td>80</td>\n",
       "      <td>1</td>\n",
       "      <td>333</td>\n",
       "    </tr>\n",
       "  </tbody>\n",
       "</table>\n",
       "</div>"
      ],
      "text/plain": [
       "     fl_date mkt_unique_carrier branded_code_share mkt_carrier  \\\n",
       "0 2020-01-01                 WN                 WN          WN   \n",
       "1 2020-01-01                 WN                 WN          WN   \n",
       "2 2020-01-01                 WN                 WN          WN   \n",
       "3 2020-01-01                 WN                 WN          WN   \n",
       "4 2020-01-01                 WN                 WN          WN   \n",
       "\n",
       "   mkt_carrier_fl_num op_unique_carrier tail_num  op_carrier_fl_num  \\\n",
       "0                5888                WN   N951WN               5888   \n",
       "1                6276                WN   N467WN               6276   \n",
       "2                4598                WN   N7885A               4598   \n",
       "3                4761                WN   N551WN               4761   \n",
       "4                5162                WN   N968WN               5162   \n",
       "\n",
       "   origin_airport_id origin origin_city_name  dest_airport_id dest  \\\n",
       "0              13891    ONT      Ontario, CA            14771  SFO   \n",
       "1              13891    ONT      Ontario, CA            14771  SFO   \n",
       "2              13891    ONT      Ontario, CA            14831  SJC   \n",
       "3              13891    ONT      Ontario, CA            14831  SJC   \n",
       "4              13891    ONT      Ontario, CA            14831  SJC   \n",
       "\n",
       "      dest_city_name  crs_dep_time  crs_arr_time dup  crs_elapsed_time  \\\n",
       "0  San Francisco, CA          1810          1945   N                95   \n",
       "1  San Francisco, CA          1150          1320   N                90   \n",
       "2       San Jose, CA          2020          2130   N                70   \n",
       "3       San Jose, CA          1340          1455   N                75   \n",
       "4       San Jose, CA           915          1035   N                80   \n",
       "\n",
       "   flights  distance  \n",
       "0        1       363  \n",
       "1        1       363  \n",
       "2        1       333  \n",
       "3        1       333  \n",
       "4        1       333  "
      ]
     },
     "execution_count": 30,
     "metadata": {},
     "output_type": "execute_result"
    }
   ],
   "source": [
    "df_test"
   ]
  }
 ],
 "metadata": {
  "kernelspec": {
   "display_name": "Python 3 (ipykernel)",
   "language": "python",
   "name": "python3"
  },
  "language_info": {
   "codemirror_mode": {
    "name": "ipython",
    "version": 3
   },
   "file_extension": ".py",
   "mimetype": "text/x-python",
   "name": "python",
   "nbconvert_exporter": "python",
   "pygments_lexer": "ipython3",
   "version": "3.8.10"
  }
 },
 "nbformat": 4,
 "nbformat_minor": 5
}
