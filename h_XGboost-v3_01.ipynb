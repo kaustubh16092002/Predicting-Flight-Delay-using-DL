{
 "cells": [
  {
   "cell_type": "code",
   "execution_count": 2,
   "id": "f99ecdb4",
   "metadata": {
    "colab": {
     "base_uri": "https://localhost:8080/"
    },
    "id": "Gx6Js4F8VdBf",
    "outputId": "300d454d-5e5f-4c00-b419-febd89d44dd9"
   },
   "outputs": [
    {
     "name": "stdout",
     "output_type": "stream",
     "text": [
      "Drive already mounted at /drive; to attempt to forcibly remount, call drive.mount(\"/drive\", force_remount=True).\n"
     ]
    }
   ],
   "source": [
    "from google.colab import drive\n",
    "drive.mount('/drive')"
   ]
  },
  {
   "cell_type": "code",
   "execution_count": 1,
   "id": "302ab982",
   "metadata": {},
   "outputs": [
    {
     "name": "stdout",
     "output_type": "stream",
     "text": [
      "Looking in indexes: https://pypi.org/simple, https://pip.repos.neuron.amazonaws.com\n",
      "Collecting xgboost\n",
      "  Downloading xgboost-1.4.2-py3-none-manylinux2010_x86_64.whl (166.7 MB)\n",
      "\u001b[K     |████████████████████████████████| 166.7 MB 10 kB/s /s eta 0:00:01\n",
      "\u001b[?25hRequirement already satisfied: numpy in /home/ec2-user/anaconda3/envs/pytorch_latest_p37/lib/python3.7/site-packages (from xgboost) (1.19.2)\n",
      "Requirement already satisfied: scipy in /home/ec2-user/anaconda3/envs/pytorch_latest_p37/lib/python3.7/site-packages (from xgboost) (1.6.1)\n",
      "Installing collected packages: xgboost\n",
      "Successfully installed xgboost-1.4.2\n",
      "\u001b[33mWARNING: You are using pip version 21.1.3; however, version 21.2.4 is available.\n",
      "You should consider upgrading via the '/home/ec2-user/anaconda3/envs/pytorch_latest_p37/bin/python -m pip install --upgrade pip' command.\u001b[0m\n"
     ]
    }
   ],
   "source": [
    "!pip install  xgboost"
   ]
  },
  {
   "cell_type": "code",
   "execution_count": 48,
   "id": "97cd1873",
   "metadata": {
    "id": "281d07c9-b978-4a43-980d-1a991c1cf0d1"
   },
   "outputs": [],
   "source": [
    "import pandas as pd\n",
    "import numpy as np\n",
    "from datetime import datetime\n",
    "import holidays\n",
    "from sklearn.model_selection import train_test_split\n",
    "from sklearn.model_selection import GridSearchCV\n",
    "from sklearn.linear_model import LinearRegression,ElasticNet\n",
    "from sklearn.preprocessing import StandardScaler\n",
    "from sklearn.model_selection import RandomizedSearchCV\n",
    "import xgboost as xgb\n",
    "from sklearn.metrics import mean_squared_error\n",
    "from sklearn.metrics import mean_absolute_error\n",
    "from sklearn.metrics import r2_score\n",
    "from scipy.stats import  randint\n",
    "from scipy.stats import uniform\n",
    "import math"
   ]
  },
  {
   "cell_type": "markdown",
   "id": "d8c307ae",
   "metadata": {
    "id": "8d5704a2-0584-4232-90cd-0eff389fb4aa"
   },
   "source": [
    "## Build X_train"
   ]
  },
  {
   "cell_type": "code",
   "execution_count": 7,
   "id": "ee29b8f9",
   "metadata": {
    "id": "4d18123c-d7b1-460d-95f7-5d277e6768b5"
   },
   "outputs": [],
   "source": [
    "X_train = pd.read_csv('fl01_train')"
   ]
  },
  {
   "cell_type": "code",
   "execution_count": 30,
   "id": "e2e005af",
   "metadata": {
    "colab": {
     "base_uri": "https://localhost:8080/",
     "height": 165
    },
    "id": "Rx_vwvNL6wno",
    "outputId": "13002839-153b-40f8-a9df-bce831d27b0b"
   },
   "outputs": [
    {
     "name": "stdout",
     "output_type": "stream",
     "text": [
      "<class 'pandas.core.frame.DataFrame'>\n",
      "Int64Index: 990398 entries, 0 to 991893\n",
      "Data columns (total 7 columns):\n",
      " #   Column            Non-Null Count   Dtype  \n",
      "---  ------            --------------   -----  \n",
      " 0   distance          990398 non-null  float64\n",
      " 1   uni_fl            990398 non-null  float64\n",
      " 2   arr_airport_hour  990398 non-null  float64\n",
      " 3   dep_airport_hour  990398 non-null  float64\n",
      " 4   is_holiday        990398 non-null  int64  \n",
      " 5   dow_sin           990398 non-null  float64\n",
      " 6   dow_cos           990398 non-null  float64\n",
      "dtypes: float64(6), int64(1)\n",
      "memory usage: 60.4 MB\n"
     ]
    }
   ],
   "source": [
    "X_train.info()"
   ]
  },
  {
   "cell_type": "code",
   "execution_count": 9,
   "id": "0ca1e759",
   "metadata": {
    "id": "9ceccaf7-f84c-408e-8caa-9c11595f4779"
   },
   "outputs": [],
   "source": [
    "X_train = X_train[['fl_date','op_unique_carrier','op_carrier_fl_num','origin_airport_id','crs_dep_time','dest_airport_id','crs_arr_time','distance','arr_delay']]"
   ]
  },
  {
   "cell_type": "code",
   "execution_count": 31,
   "id": "684dcbd7",
   "metadata": {},
   "outputs": [
    {
     "data": {
      "text/html": [
       "<div>\n",
       "<style scoped>\n",
       "    .dataframe tbody tr th:only-of-type {\n",
       "        vertical-align: middle;\n",
       "    }\n",
       "\n",
       "    .dataframe tbody tr th {\n",
       "        vertical-align: top;\n",
       "    }\n",
       "\n",
       "    .dataframe thead th {\n",
       "        text-align: right;\n",
       "    }\n",
       "</style>\n",
       "<table border=\"1\" class=\"dataframe\">\n",
       "  <thead>\n",
       "    <tr style=\"text-align: right;\">\n",
       "      <th></th>\n",
       "      <th>distance</th>\n",
       "      <th>uni_fl</th>\n",
       "      <th>arr_airport_hour</th>\n",
       "      <th>dep_airport_hour</th>\n",
       "      <th>is_holiday</th>\n",
       "      <th>dow_sin</th>\n",
       "      <th>dow_cos</th>\n",
       "    </tr>\n",
       "  </thead>\n",
       "  <tbody>\n",
       "    <tr>\n",
       "      <th>0</th>\n",
       "      <td>2106.0</td>\n",
       "      <td>-8.642857</td>\n",
       "      <td>-6.284264</td>\n",
       "      <td>0.133843</td>\n",
       "      <td>0</td>\n",
       "      <td>-0.974927</td>\n",
       "      <td>-0.222525</td>\n",
       "    </tr>\n",
       "    <tr>\n",
       "      <th>1</th>\n",
       "      <td>1243.0</td>\n",
       "      <td>-1.666667</td>\n",
       "      <td>-4.724080</td>\n",
       "      <td>8.300518</td>\n",
       "      <td>0</td>\n",
       "      <td>-0.781834</td>\n",
       "      <td>0.623486</td>\n",
       "    </tr>\n",
       "    <tr>\n",
       "      <th>2</th>\n",
       "      <td>612.0</td>\n",
       "      <td>-1.461538</td>\n",
       "      <td>10.078550</td>\n",
       "      <td>15.230415</td>\n",
       "      <td>0</td>\n",
       "      <td>-0.000005</td>\n",
       "      <td>1.000000</td>\n",
       "    </tr>\n",
       "    <tr>\n",
       "      <th>3</th>\n",
       "      <td>515.0</td>\n",
       "      <td>-5.575758</td>\n",
       "      <td>1.696279</td>\n",
       "      <td>4.401942</td>\n",
       "      <td>0</td>\n",
       "      <td>-0.974927</td>\n",
       "      <td>-0.222525</td>\n",
       "    </tr>\n",
       "    <tr>\n",
       "      <th>4</th>\n",
       "      <td>1561.0</td>\n",
       "      <td>-7.333333</td>\n",
       "      <td>2.227273</td>\n",
       "      <td>-0.149701</td>\n",
       "      <td>0</td>\n",
       "      <td>-0.000005</td>\n",
       "      <td>1.000000</td>\n",
       "    </tr>\n",
       "  </tbody>\n",
       "</table>\n",
       "</div>"
      ],
      "text/plain": [
       "   distance    uni_fl  arr_airport_hour  dep_airport_hour  is_holiday  \\\n",
       "0    2106.0 -8.642857         -6.284264          0.133843           0   \n",
       "1    1243.0 -1.666667         -4.724080          8.300518           0   \n",
       "2     612.0 -1.461538         10.078550         15.230415           0   \n",
       "3     515.0 -5.575758          1.696279          4.401942           0   \n",
       "4    1561.0 -7.333333          2.227273         -0.149701           0   \n",
       "\n",
       "    dow_sin   dow_cos  \n",
       "0 -0.974927 -0.222525  \n",
       "1 -0.781834  0.623486  \n",
       "2 -0.000005  1.000000  \n",
       "3 -0.974927 -0.222525  \n",
       "4 -0.000005  1.000000  "
      ]
     },
     "execution_count": 31,
     "metadata": {},
     "output_type": "execute_result"
    }
   ],
   "source": [
    "X_train.head()"
   ]
  },
  {
   "cell_type": "code",
   "execution_count": 11,
   "id": "53a8937f",
   "metadata": {
    "id": "e849635b-4b09-44d0-a009-d2bf371e8d20"
   },
   "outputs": [],
   "source": [
    "# after test data, arr_delay should be 0. \n",
    "X_train['arr_delay'].fillna(0,inplace=True)\n",
    "\n",
    "#remove outliner\n",
    "X_train = X_train[(X_train['arr_delay'] > -80) & (X_train['arr_delay'] <= 480)] \n",
    "\n",
    "#combine features\n",
    "def combine_str_num(x,y):\n",
    "    return x + str(y)\n",
    "X_train['uni_fl'] = np.vectorize(combine_str_num)(X_train['op_unique_carrier'],X_train['op_carrier_fl_num'])\n",
    "X_train.drop(columns=['op_unique_carrier','op_carrier_fl_num'],inplace=True)\n",
    "\n",
    "# feature coding\n",
    "unifl_target_mean = X_train.groupby(['uni_fl'])['arr_delay'].mean()\n",
    "X_train['uni_fl'] =X_train['uni_fl'].map(unifl_target_mean)"
   ]
  },
  {
   "cell_type": "code",
   "execution_count": 13,
   "id": "e74eecc2",
   "metadata": {},
   "outputs": [],
   "source": [
    "## Combine the airportid and related hour\n",
    "def airport_hour(id,t):\n",
    "    '''\n",
    "    combine airport and hour to a new field\n",
    "    '''\n",
    "    h = str(t)[:-2]\n",
    "    if len(h) < 1:\n",
    "        return str(id) + '24'\n",
    "    elif len(h) < 2:\n",
    "        return str(id) + '0' + h\n",
    "    else:\n",
    "        return str(id) + h\n",
    "    \n",
    "X_train['arr_airport_hour'] = np.vectorize(airport_hour)(X_train['dest_airport_id'],X_train['crs_arr_time'])\n",
    "X_train['dep_airport_hour'] = np.vectorize(airport_hour)(X_train['origin_airport_id'],X_train['crs_dep_time'])\n",
    "\n",
    "# feature coding\n",
    "dep_hour_target_mean = X_train.groupby(['dep_airport_hour'])['arr_delay'].mean()\n",
    "X_train['dep_airport_hour'] =X_train['dep_airport_hour'].map(dep_hour_target_mean)\n",
    "arr_hour_target_mean = X_train.groupby(['arr_airport_hour'])['arr_delay'].mean()\n",
    "X_train['arr_airport_hour'] =X_train['arr_airport_hour'].map(arr_hour_target_mean)\n",
    "\n",
    "X_train.drop(columns=['dest_airport_id','crs_arr_time','origin_airport_id','crs_dep_time'],inplace=True)"
   ]
  },
  {
   "cell_type": "code",
   "execution_count": 16,
   "id": "42bfbddf",
   "metadata": {
    "id": "5b5e18d7-de3c-4053-8c68-bc250dcb9b97"
   },
   "outputs": [],
   "source": [
    "#transform fl_date\n",
    "#def getmonth(x):\n",
    "#    return x.split(sep='-')[1]\n",
    "#X_train['month'] = X_train['fl_date'].apply(getmonth)\n",
    "\n",
    "def getdayofweek(x):\n",
    "    year_s, mon_s, day_s = x.split('-')\n",
    "    fl_d = datetime(int(year_s), int(mon_s), int(day_s))\n",
    "    return fl_d.weekday() + 1\n",
    "X_train['day_of_week'] = X_train['fl_date'].apply(getdayofweek)\n",
    "\n",
    "us_holidays = holidays.UnitedStates()\n",
    "def isholiday(x):\n",
    "    year_s, mon_s, day_s = x.split('-')\n",
    "    if datetime(int(year_s), int(mon_s), int(day_s)) in us_holidays:\n",
    "        return 1\n",
    "    else:\n",
    "        return 0\n",
    "X_train['is_holiday'] = X_train['fl_date'].apply(isholiday)\n",
    "\n",
    "\n",
    "pi=3.14159\n",
    "def transformation(column):\n",
    "  max_value = column.max()\n",
    "  sin_values = [math.sin((2*pi*x)/max_value) for x in list(column)]\n",
    "  cos_values = [math.cos((2*pi*x)/max_value) for x in list(column)]\n",
    "  return sin_values, cos_values\n",
    "\n",
    "sin_l, cos_l = transformation(X_train['day_of_week'])\n",
    "\n",
    "X_train['dow_sin'] = sin_l\n",
    "X_train['dow_cos'] = cos_l"
   ]
  },
  {
   "cell_type": "code",
   "execution_count": 29,
   "id": "e630c1b6",
   "metadata": {},
   "outputs": [],
   "source": [
    "y_train = X_train['arr_delay']\n",
    "\n",
    "X_train = X_train.drop(columns=['fl_date','arr_delay','day_of_week'])\n",
    "\n",
    "#X_train = pd.get_dummies(X_train,columns=['month','day_of_week'])"
   ]
  },
  {
   "cell_type": "code",
   "execution_count": 18,
   "id": "d05912e4",
   "metadata": {
    "id": "86f88a4d-8db0-4d15-82bf-f83747c52265"
   },
   "outputs": [],
   "source": [
    "#scaler = StandardScaler()\n",
    "#X = scaler.fit_transform(X_train)"
   ]
  },
  {
   "cell_type": "code",
   "execution_count": null,
   "id": "ddd2332f",
   "metadata": {
    "id": "c249cef2-421b-493c-be1d-3ad3ad891db8"
   },
   "outputs": [],
   "source": [
    "#x_small = X[:100000]\n",
    "#y_small = y_train[:100000]"
   ]
  },
  {
   "cell_type": "markdown",
   "id": "21479011",
   "metadata": {
    "id": "83b52da6-73f3-408f-ad3a-a9b61387ca9b"
   },
   "source": [
    "### Build X_test"
   ]
  },
  {
   "cell_type": "code",
   "execution_count": 67,
   "id": "15c1c4f6",
   "metadata": {
    "id": "fda72711-48ba-4bb2-bc74-bb85e3ffee12"
   },
   "outputs": [],
   "source": [
    "X_test = pd.read_csv('fl01_test')"
   ]
  },
  {
   "cell_type": "code",
   "execution_count": 73,
   "id": "a06eecd9",
   "metadata": {},
   "outputs": [
    {
     "data": {
      "text/html": [
       "<div>\n",
       "<style scoped>\n",
       "    .dataframe tbody tr th:only-of-type {\n",
       "        vertical-align: middle;\n",
       "    }\n",
       "\n",
       "    .dataframe tbody tr th {\n",
       "        vertical-align: top;\n",
       "    }\n",
       "\n",
       "    .dataframe thead th {\n",
       "        text-align: right;\n",
       "    }\n",
       "</style>\n",
       "<table border=\"1\" class=\"dataframe\">\n",
       "  <thead>\n",
       "    <tr style=\"text-align: right;\">\n",
       "      <th></th>\n",
       "      <th>Unnamed: 0</th>\n",
       "      <th>Unnamed: 0.1</th>\n",
       "      <th>fl_date</th>\n",
       "      <th>op_unique_carrier</th>\n",
       "      <th>tail_num</th>\n",
       "      <th>op_carrier_fl_num</th>\n",
       "      <th>origin_airport_id</th>\n",
       "      <th>dest_airport_id</th>\n",
       "      <th>crs_dep_time</th>\n",
       "      <th>dep_delay</th>\n",
       "      <th>...</th>\n",
       "      <th>cancellation_code</th>\n",
       "      <th>crs_elapsed_time</th>\n",
       "      <th>distance</th>\n",
       "      <th>carrier_delay</th>\n",
       "      <th>weather_delay</th>\n",
       "      <th>nas_delay</th>\n",
       "      <th>security_delay</th>\n",
       "      <th>late_aircraft_delay</th>\n",
       "      <th>month</th>\n",
       "      <th>pred</th>\n",
       "    </tr>\n",
       "  </thead>\n",
       "  <tbody>\n",
       "    <tr>\n",
       "      <th>0</th>\n",
       "      <td>4487605</td>\n",
       "      <td>4487605</td>\n",
       "      <td>2018-01-21</td>\n",
       "      <td>AA</td>\n",
       "      <td>N102NN</td>\n",
       "      <td>9</td>\n",
       "      <td>12478</td>\n",
       "      <td>14771</td>\n",
       "      <td>700</td>\n",
       "      <td>-9.0</td>\n",
       "      <td>...</td>\n",
       "      <td>NaN</td>\n",
       "      <td>409.0</td>\n",
       "      <td>2586.0</td>\n",
       "      <td>NaN</td>\n",
       "      <td>NaN</td>\n",
       "      <td>NaN</td>\n",
       "      <td>NaN</td>\n",
       "      <td>NaN</td>\n",
       "      <td>1</td>\n",
       "      <td>-10.617328</td>\n",
       "    </tr>\n",
       "    <tr>\n",
       "      <th>1</th>\n",
       "      <td>4318176</td>\n",
       "      <td>4318176</td>\n",
       "      <td>2018-01-12</td>\n",
       "      <td>WN</td>\n",
       "      <td>N946WN</td>\n",
       "      <td>1832</td>\n",
       "      <td>11278</td>\n",
       "      <td>13204</td>\n",
       "      <td>600</td>\n",
       "      <td>81.0</td>\n",
       "      <td>...</td>\n",
       "      <td>NaN</td>\n",
       "      <td>145.0</td>\n",
       "      <td>759.0</td>\n",
       "      <td>81.0</td>\n",
       "      <td>0.0</td>\n",
       "      <td>1.0</td>\n",
       "      <td>0.0</td>\n",
       "      <td>0.0</td>\n",
       "      <td>1</td>\n",
       "      <td>-4.975438</td>\n",
       "    </tr>\n",
       "    <tr>\n",
       "      <th>2</th>\n",
       "      <td>13918767</td>\n",
       "      <td>13918767</td>\n",
       "      <td>2019-01-27</td>\n",
       "      <td>WN</td>\n",
       "      <td>N780SW</td>\n",
       "      <td>1699</td>\n",
       "      <td>14893</td>\n",
       "      <td>10423</td>\n",
       "      <td>825</td>\n",
       "      <td>-3.0</td>\n",
       "      <td>...</td>\n",
       "      <td>NaN</td>\n",
       "      <td>200.0</td>\n",
       "      <td>1481.0</td>\n",
       "      <td>NaN</td>\n",
       "      <td>NaN</td>\n",
       "      <td>NaN</td>\n",
       "      <td>NaN</td>\n",
       "      <td>NaN</td>\n",
       "      <td>1</td>\n",
       "      <td>-1.330982</td>\n",
       "    </tr>\n",
       "    <tr>\n",
       "      <th>3</th>\n",
       "      <td>4096990</td>\n",
       "      <td>4096990</td>\n",
       "      <td>2018-01-01</td>\n",
       "      <td>EV</td>\n",
       "      <td>N13992</td>\n",
       "      <td>3978</td>\n",
       "      <td>13930</td>\n",
       "      <td>14524</td>\n",
       "      <td>715</td>\n",
       "      <td>13.0</td>\n",
       "      <td>...</td>\n",
       "      <td>NaN</td>\n",
       "      <td>123.0</td>\n",
       "      <td>642.0</td>\n",
       "      <td>NaN</td>\n",
       "      <td>NaN</td>\n",
       "      <td>NaN</td>\n",
       "      <td>NaN</td>\n",
       "      <td>NaN</td>\n",
       "      <td>1</td>\n",
       "      <td>1.030587</td>\n",
       "    </tr>\n",
       "    <tr>\n",
       "      <th>4</th>\n",
       "      <td>4505704</td>\n",
       "      <td>4505704</td>\n",
       "      <td>2018-01-22</td>\n",
       "      <td>F9</td>\n",
       "      <td>N232FR</td>\n",
       "      <td>649</td>\n",
       "      <td>12953</td>\n",
       "      <td>11193</td>\n",
       "      <td>920</td>\n",
       "      <td>-8.0</td>\n",
       "      <td>...</td>\n",
       "      <td>NaN</td>\n",
       "      <td>133.0</td>\n",
       "      <td>585.0</td>\n",
       "      <td>0.0</td>\n",
       "      <td>0.0</td>\n",
       "      <td>19.0</td>\n",
       "      <td>0.0</td>\n",
       "      <td>0.0</td>\n",
       "      <td>1</td>\n",
       "      <td>16.868534</td>\n",
       "    </tr>\n",
       "  </tbody>\n",
       "</table>\n",
       "<p>5 rows × 23 columns</p>\n",
       "</div>"
      ],
      "text/plain": [
       "   Unnamed: 0  Unnamed: 0.1     fl_date op_unique_carrier tail_num  \\\n",
       "0     4487605       4487605  2018-01-21                AA   N102NN   \n",
       "1     4318176       4318176  2018-01-12                WN   N946WN   \n",
       "2    13918767      13918767  2019-01-27                WN   N780SW   \n",
       "3     4096990       4096990  2018-01-01                EV   N13992   \n",
       "4     4505704       4505704  2018-01-22                F9   N232FR   \n",
       "\n",
       "   op_carrier_fl_num  origin_airport_id  dest_airport_id  crs_dep_time  \\\n",
       "0                  9              12478            14771           700   \n",
       "1               1832              11278            13204           600   \n",
       "2               1699              14893            10423           825   \n",
       "3               3978              13930            14524           715   \n",
       "4                649              12953            11193           920   \n",
       "\n",
       "   dep_delay  ...  cancellation_code  crs_elapsed_time  distance  \\\n",
       "0       -9.0  ...                NaN             409.0    2586.0   \n",
       "1       81.0  ...                NaN             145.0     759.0   \n",
       "2       -3.0  ...                NaN             200.0    1481.0   \n",
       "3       13.0  ...                NaN             123.0     642.0   \n",
       "4       -8.0  ...                NaN             133.0     585.0   \n",
       "\n",
       "  carrier_delay  weather_delay  nas_delay  security_delay  \\\n",
       "0           NaN            NaN        NaN             NaN   \n",
       "1          81.0            0.0        1.0             0.0   \n",
       "2           NaN            NaN        NaN             NaN   \n",
       "3           NaN            NaN        NaN             NaN   \n",
       "4           0.0            0.0       19.0             0.0   \n",
       "\n",
       "   late_aircraft_delay  month       pred  \n",
       "0                  NaN      1 -10.617328  \n",
       "1                  0.0      1  -4.975438  \n",
       "2                  NaN      1  -1.330982  \n",
       "3                  NaN      1   1.030587  \n",
       "4                  0.0      1  16.868534  \n",
       "\n",
       "[5 rows x 23 columns]"
      ]
     },
     "execution_count": 73,
     "metadata": {},
     "output_type": "execute_result"
    }
   ],
   "source": [
    "X_test.head()"
   ]
  },
  {
   "cell_type": "code",
   "execution_count": 77,
   "id": "6182b6c1",
   "metadata": {},
   "outputs": [
    {
     "data": {
      "text/html": [
       "<div>\n",
       "<style scoped>\n",
       "    .dataframe tbody tr th:only-of-type {\n",
       "        vertical-align: middle;\n",
       "    }\n",
       "\n",
       "    .dataframe tbody tr th {\n",
       "        vertical-align: top;\n",
       "    }\n",
       "\n",
       "    .dataframe thead th {\n",
       "        text-align: right;\n",
       "    }\n",
       "</style>\n",
       "<table border=\"1\" class=\"dataframe\">\n",
       "  <thead>\n",
       "    <tr style=\"text-align: right;\">\n",
       "      <th></th>\n",
       "      <th>pred</th>\n",
       "      <th>arr_delay</th>\n",
       "    </tr>\n",
       "  </thead>\n",
       "  <tbody>\n",
       "    <tr>\n",
       "      <th>count</th>\n",
       "      <td>247974.000000</td>\n",
       "      <td>243605.000000</td>\n",
       "    </tr>\n",
       "    <tr>\n",
       "      <th>mean</th>\n",
       "      <td>2.684310</td>\n",
       "      <td>4.038053</td>\n",
       "    </tr>\n",
       "    <tr>\n",
       "      <th>std</th>\n",
       "      <td>12.404495</td>\n",
       "      <td>50.270705</td>\n",
       "    </tr>\n",
       "    <tr>\n",
       "      <th>min</th>\n",
       "      <td>-57.346992</td>\n",
       "      <td>-244.000000</td>\n",
       "    </tr>\n",
       "    <tr>\n",
       "      <th>25%</th>\n",
       "      <td>-5.063082</td>\n",
       "      <td>-16.000000</td>\n",
       "    </tr>\n",
       "    <tr>\n",
       "      <th>50%</th>\n",
       "      <td>0.407817</td>\n",
       "      <td>-7.000000</td>\n",
       "    </tr>\n",
       "    <tr>\n",
       "      <th>75%</th>\n",
       "      <td>7.765238</td>\n",
       "      <td>7.000000</td>\n",
       "    </tr>\n",
       "    <tr>\n",
       "      <th>max</th>\n",
       "      <td>237.414001</td>\n",
       "      <td>1778.000000</td>\n",
       "    </tr>\n",
       "  </tbody>\n",
       "</table>\n",
       "</div>"
      ],
      "text/plain": [
       "                pred      arr_delay\n",
       "count  247974.000000  243605.000000\n",
       "mean        2.684310       4.038053\n",
       "std        12.404495      50.270705\n",
       "min       -57.346992    -244.000000\n",
       "25%        -5.063082     -16.000000\n",
       "50%         0.407817      -7.000000\n",
       "75%         7.765238       7.000000\n",
       "max       237.414001    1778.000000"
      ]
     },
     "execution_count": 77,
     "metadata": {},
     "output_type": "execute_result"
    }
   ],
   "source": [
    "X_test[['pred','arr_delay']].describe()"
   ]
  },
  {
   "cell_type": "code",
   "execution_count": 34,
   "id": "5adb1c8e",
   "metadata": {
    "id": "5037196b-82ad-46b5-9949-d3fcffffb6ce"
   },
   "outputs": [],
   "source": [
    "X_test = X_test[['fl_date','op_unique_carrier','op_carrier_fl_num','origin_airport_id','crs_dep_time','dest_airport_id','crs_arr_time','distance','arr_delay']]"
   ]
  },
  {
   "cell_type": "code",
   "execution_count": 35,
   "id": "8cf5dff2",
   "metadata": {
    "id": "7c958fab-6d0e-45e4-b8be-402408ab0825"
   },
   "outputs": [],
   "source": [
    "# after test data, arr_delay should be 0. \n",
    "X_test['arr_delay'].fillna(0,inplace=True)\n",
    "\n",
    "#remove outliner\n",
    "#X_train = X_train[(X_train['arr_delay'] > -80) & (X_train['arr_delay'] < 180)] \n",
    "\n",
    "#combine features\n",
    "def combine_str_num(x,y):\n",
    "    return x + str(y)\n",
    "X_test['uni_fl'] = np.vectorize(combine_str_num)(X_test['op_unique_carrier'],X_test['op_carrier_fl_num'])\n",
    "X_test.drop(columns=['op_unique_carrier','op_carrier_fl_num'],inplace=True)\n",
    "\n",
    "# feature coding\n",
    "#unifl_target_mean = X_test.groupby(['uni_fl'])['arr_delay'].mean()\n",
    "X_test['uni_fl'] =X_test['uni_fl'].map(unifl_target_mean)"
   ]
  },
  {
   "cell_type": "code",
   "execution_count": 37,
   "id": "9e185b07",
   "metadata": {},
   "outputs": [],
   "source": [
    "## Combine the airportid and related hour\n",
    "def airport_hour(id,t):\n",
    "    '''\n",
    "    combine airport and hour to a new field\n",
    "    '''\n",
    "    h = str(t)[:-2]\n",
    "    if len(h) < 1:\n",
    "        return str(id) + '24'\n",
    "    elif len(h) < 2:\n",
    "        return str(id) + '0' + h\n",
    "    else:\n",
    "        return str(id) + h\n",
    "    \n",
    "X_test['arr_airport_hour'] = np.vectorize(airport_hour)(X_test['dest_airport_id'],X_test['crs_arr_time'])\n",
    "X_test['dep_airport_hour'] = np.vectorize(airport_hour)(X_test['origin_airport_id'],X_test['crs_dep_time'])\n",
    "\n",
    "# feature coding\n",
    "#dep_hour_target_mean = X_train.groupby(['dep_airport_hour'])['arr_delay'].mean()\n",
    "X_test['dep_airport_hour'] =X_test['dep_airport_hour'].map(dep_hour_target_mean)\n",
    "#arr_hour_target_mean = X_train.groupby(['arr_airport_hour'])['arr_delay'].mean()\n",
    "X_test['arr_airport_hour'] =X_test['arr_airport_hour'].map(arr_hour_target_mean)\n",
    "\n",
    "X_test.drop(columns=['dest_airport_id','crs_arr_time','origin_airport_id','crs_dep_time'],inplace=True)"
   ]
  },
  {
   "cell_type": "code",
   "execution_count": 39,
   "id": "7f8daa21",
   "metadata": {
    "id": "91074fc0-666f-4ce1-98fd-6db8f14567c9"
   },
   "outputs": [],
   "source": [
    "#transform fl_date\n",
    "#def getmonth(x):\n",
    "#    return x.split(sep='-')[1]\n",
    "#X_test['month'] = X_test['fl_date'].apply(getmonth)\n",
    "\n",
    "def getdayofweek(x):\n",
    "    year_s, mon_s, day_s = x.split('-')\n",
    "    fl_d = datetime(int(year_s), int(mon_s), int(day_s))\n",
    "    return fl_d.weekday() + 1\n",
    "X_test['day_of_week'] = X_test['fl_date'].apply(getdayofweek)\n",
    "\n",
    "us_holidays = holidays.UnitedStates()\n",
    "def isholiday(x):\n",
    "    year_s, mon_s, day_s = x.split('-')\n",
    "    if datetime(int(year_s), int(mon_s), int(day_s)) in us_holidays:\n",
    "        return 1\n",
    "    else:\n",
    "        return 0\n",
    "X_test['is_holiday'] = X_test['fl_date'].apply(isholiday)\n",
    "\n",
    "\n",
    "\n",
    "pi=3.14159\n",
    "def transformation(column):\n",
    "  max_value = column.max()\n",
    "  sin_values = [math.sin((2*pi*x)/max_value) for x in list(column)]\n",
    "  cos_values = [math.cos((2*pi*x)/max_value) for x in list(column)]\n",
    "  return sin_values, cos_values\n",
    "\n",
    "sin_l, cos_l = transformation(X_test['day_of_week'])\n",
    "\n",
    "X_test['dow_sin'] = sin_l\n",
    "X_test['dow_cos'] = cos_l\n",
    "\n"
   ]
  },
  {
   "cell_type": "code",
   "execution_count": 41,
   "id": "9e003167",
   "metadata": {
    "id": "e825a156-999d-4e66-95b7-aced207cd477"
   },
   "outputs": [],
   "source": [
    "y_test = X_test['arr_delay']\n",
    "X_test = X_test.drop(columns=['fl_date','arr_delay','day_of_week'])\n",
    "\n",
    "#X_test = pd.get_dummies(X_test,columns=['month','day_of_week'])\n",
    "\n",
    "#X_test = scaler.transform(X_test)"
   ]
  },
  {
   "cell_type": "markdown",
   "id": "79b9238d",
   "metadata": {
    "id": "AFLyQ9fnMA0V"
   },
   "source": []
  },
  {
   "cell_type": "code",
   "execution_count": 14,
   "id": "9f080e25",
   "metadata": {
    "id": "wrqH53hG1rsI"
   },
   "outputs": [],
   "source": [
    "###  XGBoost Modeling"
   ]
  },
  {
   "cell_type": "code",
   "execution_count": 49,
   "id": "9659b81d",
   "metadata": {},
   "outputs": [
    {
     "name": "stdout",
     "output_type": "stream",
     "text": [
      "Baseline MAE is 23.82\n"
     ]
    }
   ],
   "source": [
    "## build benchmark\n",
    "mean_train = np.mean(y_train)\n",
    "# Get predictions on the test set\n",
    "baseline_predictions = np.ones(y_test.shape) * mean_train\n",
    "# Compute MAE\n",
    "mae_baseline = mean_absolute_error(y_test, baseline_predictions)\n",
    "print(\"Baseline MAE is {:.2f}\".format(mae_baseline))"
   ]
  },
  {
   "cell_type": "code",
   "execution_count": 50,
   "id": "c72ae181",
   "metadata": {
    "id": "d3h-Z4YS1we8"
   },
   "outputs": [],
   "source": [
    "dtrain = xgb.DMatrix(X_train, label=y_train)\n",
    "dtest = xgb.DMatrix(X_test, label=y_test)"
   ]
  },
  {
   "cell_type": "code",
   "execution_count": 51,
   "id": "7f8dea18",
   "metadata": {
    "id": "HqmjQ3Vt3i-z"
   },
   "outputs": [],
   "source": [
    "params = {\n",
    "    # Parameters that we are going to tune.\n",
    "    'max_depth':11,\n",
    "    'min_child_weight': 5,\n",
    "    'eta':.3,\n",
    "    'subsample': 0.7,\n",
    "    'colsample_bytree': 1,\n",
    "    # Other parameters\n",
    "    'objective':'reg:squarederror',\n",
    "}"
   ]
  },
  {
   "cell_type": "code",
   "execution_count": 59,
   "id": "21cdcb59",
   "metadata": {},
   "outputs": [
    {
     "data": {
      "text/plain": [
       "{'max_depth': 10,\n",
       " 'min_child_weight': 8,\n",
       " 'eta': 0.3,\n",
       " 'subsample': 1.0,\n",
       " 'colsample_bytree': 1.0,\n",
       " 'objective': 'reg:squarederror'}"
      ]
     },
     "execution_count": 59,
     "metadata": {},
     "output_type": "execute_result"
    }
   ],
   "source": [
    "params"
   ]
  },
  {
   "cell_type": "code",
   "execution_count": 52,
   "id": "e8f43796",
   "metadata": {
    "id": "fPh_yhhc4BUd"
   },
   "outputs": [],
   "source": [
    "num_boost_round = 30"
   ]
  },
  {
   "cell_type": "code",
   "execution_count": 62,
   "id": "379a48f2",
   "metadata": {
    "colab": {
     "base_uri": "https://localhost:8080/"
    },
    "id": "14a09f24-70ca-4b4f-908e-c714d3505d81",
    "outputId": "ac2d431a-4f32-4ad0-c10c-bc27858f3c46"
   },
   "outputs": [
    {
     "name": "stdout",
     "output_type": "stream",
     "text": [
      "[0]\tTest-rmse:49.41376\n",
      "[1]\tTest-rmse:49.18554\n",
      "[2]\tTest-rmse:49.10697\n",
      "[3]\tTest-rmse:49.09246\n",
      "[4]\tTest-rmse:49.09764\n",
      "[5]\tTest-rmse:49.11550\n",
      "[6]\tTest-rmse:49.13012\n",
      "[7]\tTest-rmse:49.14700\n",
      "[8]\tTest-rmse:49.16047\n",
      "[9]\tTest-rmse:49.16863\n",
      "[10]\tTest-rmse:49.17392\n",
      "[11]\tTest-rmse:49.17789\n",
      "[12]\tTest-rmse:49.17870\n"
     ]
    }
   ],
   "source": [
    "model = xgb.train(\n",
    "    params,\n",
    "    dtrain,\n",
    "    num_boost_round=num_boost_round,\n",
    "    evals=[(dtest, \"Test\")],\n",
    "    early_stopping_rounds=10\n",
    ")"
   ]
  },
  {
   "cell_type": "code",
   "execution_count": 63,
   "id": "1c21e43d",
   "metadata": {
    "id": "_rJPxGTWHVwk"
   },
   "outputs": [],
   "source": [
    "y_pred = model.predict(dtest)"
   ]
  },
  {
   "cell_type": "code",
   "execution_count": 65,
   "id": "351535c8",
   "metadata": {},
   "outputs": [
    {
     "data": {
      "text/plain": [
       "247974"
      ]
     },
     "execution_count": 65,
     "metadata": {},
     "output_type": "execute_result"
    }
   ],
   "source": [
    "len(y_pred)"
   ]
  },
  {
   "cell_type": "code",
   "execution_count": 64,
   "id": "bf4d720c",
   "metadata": {},
   "outputs": [
    {
     "data": {
      "text/plain": [
       "0.025932099879509285"
      ]
     },
     "execution_count": 64,
     "metadata": {},
     "output_type": "execute_result"
    }
   ],
   "source": [
    "## four round  48.09246\n",
    "r2_score(y_test,y_pred)"
   ]
  },
  {
   "cell_type": "code",
   "execution_count": 94,
   "id": "c73023aa",
   "metadata": {},
   "outputs": [
    {
     "data": {
      "text/plain": [
       "0.03500066824855497"
      ]
     },
     "execution_count": 94,
     "metadata": {},
     "output_type": "execute_result"
    }
   ],
   "source": [
    "## third round  48.67\n",
    "r2_score(y_test,y_pred)"
   ]
  },
  {
   "cell_type": "code",
   "execution_count": 21,
   "id": "53fe921c",
   "metadata": {
    "colab": {
     "base_uri": "https://localhost:8080/"
    },
    "id": "f8yRtaY6Ex2v",
    "outputId": "929ba4d5-538a-452c-c09e-51e2369ab379"
   },
   "outputs": [
    {
     "data": {
      "text/plain": [
       "0.02144653066658464"
      ]
     },
     "execution_count": 21,
     "metadata": {},
     "output_type": "execute_result"
    }
   ],
   "source": [
    "## second round with arr_delay <480\n",
    "#r2_score(y_test, y_pred)"
   ]
  },
  {
   "cell_type": "code",
   "execution_count": 27,
   "id": "e446118a",
   "metadata": {
    "colab": {
     "base_uri": "https://localhost:8080/"
    },
    "id": "yDDBGFlLGqW9",
    "outputId": "e03b69c0-cf2d-4108-e099-577638215d1a"
   },
   "outputs": [
    {
     "data": {
      "text/plain": [
       "0.013895135285908466"
      ]
     },
     "execution_count": 27,
     "metadata": {},
     "output_type": "execute_result"
    }
   ],
   "source": [
    "## first round with arr_delay < 180\n",
    "#"
   ]
  },
  {
   "cell_type": "code",
   "execution_count": 53,
   "id": "20af9222",
   "metadata": {
    "id": "yNnjAjc3aMZT"
   },
   "outputs": [],
   "source": [
    "gridsearch_params = [\n",
    "    (subsample, colsample)\n",
    "    for subsample in [i/10. for i in range(6,11)]\n",
    "    for colsample in [i/10. for i in range(8,11)]\n",
    "]"
   ]
  },
  {
   "cell_type": "code",
   "execution_count": 54,
   "id": "9d44c53f",
   "metadata": {
    "colab": {
     "base_uri": "https://localhost:8080/"
    },
    "id": "rJzgW2RDjVHY",
    "outputId": "9ff389a6-5a1c-4014-92d5-9b1f346b8e94"
   },
   "outputs": [
    {
     "name": "stdout",
     "output_type": "stream",
     "text": [
      "CV with subsample=1.0, colsample=1.0\n",
      "\tMAE 21.380279199999997 for 1 rounds\n",
      "CV with subsample=1.0, colsample=0.9\n",
      "\tMAE 21.4046162 for 1 rounds\n",
      "CV with subsample=1.0, colsample=0.8\n",
      "\tMAE 21.444791400000003 for 1 rounds\n",
      "CV with subsample=0.9, colsample=1.0\n",
      "\tMAE 21.3905212 for 1 rounds\n",
      "CV with subsample=0.9, colsample=0.9\n",
      "\tMAE 21.4491734 for 1 rounds\n",
      "CV with subsample=0.9, colsample=0.8\n",
      "\tMAE 21.4839048 for 1 rounds\n",
      "CV with subsample=0.8, colsample=1.0\n",
      "\tMAE 21.3959534 for 1 rounds\n",
      "CV with subsample=0.8, colsample=0.9\n",
      "\tMAE 21.4521944 for 1 rounds\n",
      "CV with subsample=0.8, colsample=0.8\n",
      "\tMAE 21.4824892 for 1 rounds\n",
      "CV with subsample=0.7, colsample=1.0\n",
      "\tMAE 21.3997034 for 1 rounds\n",
      "CV with subsample=0.7, colsample=0.9\n",
      "\tMAE 21.461330800000002 for 1 rounds\n",
      "CV with subsample=0.7, colsample=0.8\n",
      "\tMAE 21.489507600000003 for 0 rounds\n",
      "CV with subsample=0.6, colsample=1.0\n",
      "\tMAE 21.402399600000003 for 1 rounds\n",
      "CV with subsample=0.6, colsample=0.9\n",
      "\tMAE 21.466983999999997 for 1 rounds\n",
      "CV with subsample=0.6, colsample=0.8\n",
      "\tMAE 21.489710000000002 for 0 rounds\n",
      "Best params: 1.0, 1.0, MAE: 21.380279199999997\n"
     ]
    }
   ],
   "source": [
    "min_mae = float(\"Inf\")\n",
    "best_params = None\n",
    "# We start by the largest values and go down to the smallest\n",
    "for subsample, colsample in reversed(gridsearch_params):\n",
    "    print(\"CV with subsample={}, colsample={}\".format(\n",
    "                             subsample,\n",
    "                             colsample))\n",
    "    # We update our parameters\n",
    "    params['subsample'] = subsample\n",
    "    params['colsample_bytree'] = colsample\n",
    "    # Run CV\n",
    "    cv_results = xgb.cv(\n",
    "        params,\n",
    "        dtrain,\n",
    "        num_boost_round=num_boost_round,\n",
    "        seed=42,\n",
    "        nfold=5,\n",
    "        metrics={'mae'},\n",
    "        early_stopping_rounds=3\n",
    "    )\n",
    "    # Update best score\n",
    "    mean_mae = cv_results['test-mae-mean'].min()\n",
    "    boost_rounds = cv_results['test-mae-mean'].argmin()\n",
    "    print(\"\\tMAE {} for {} rounds\".format(mean_mae, boost_rounds))\n",
    "    if mean_mae < min_mae:\n",
    "        min_mae = mean_mae\n",
    "        best_params = (subsample,colsample)\n",
    "print(\"Best params: {}, {}, MAE: {}\".format(best_params[0], best_params[1], min_mae))"
   ]
  },
  {
   "cell_type": "code",
   "execution_count": 55,
   "id": "f8b7769c",
   "metadata": {},
   "outputs": [],
   "source": [
    "params['subsample'] = 1.\n",
    "params['colsample_bytree'] = 1."
   ]
  },
  {
   "cell_type": "code",
   "execution_count": 56,
   "id": "134f1454",
   "metadata": {},
   "outputs": [],
   "source": [
    "gridsearch_params = [\n",
    "    (max_depth, min_child_weight)\n",
    "    for max_depth in range(4,13,2)\n",
    "    for min_child_weight in range(2,10,2)\n",
    "]"
   ]
  },
  {
   "cell_type": "code",
   "execution_count": 57,
   "id": "12d3e01d",
   "metadata": {},
   "outputs": [
    {
     "name": "stdout",
     "output_type": "stream",
     "text": [
      "CV with max_depth=4, min_child_weight=2\n",
      "\tMAE 21.481610999999997 for 1 rounds\n",
      "CV with max_depth=4, min_child_weight=4\n",
      "\tMAE 21.4816116 for 1 rounds\n",
      "CV with max_depth=4, min_child_weight=6\n",
      "\tMAE 21.481611800000003 for 1 rounds\n",
      "CV with max_depth=4, min_child_weight=8\n",
      "\tMAE 21.4816118 for 1 rounds\n",
      "CV with max_depth=6, min_child_weight=2\n",
      "\tMAE 21.4182596 for 1 rounds\n",
      "CV with max_depth=6, min_child_weight=4\n",
      "\tMAE 21.418219 for 1 rounds\n",
      "CV with max_depth=6, min_child_weight=6\n",
      "\tMAE 21.4181666 for 1 rounds\n",
      "CV with max_depth=6, min_child_weight=8\n",
      "\tMAE 21.418130400000003 for 1 rounds\n",
      "CV with max_depth=8, min_child_weight=2\n",
      "\tMAE 21.384932999999997 for 1 rounds\n",
      "CV with max_depth=8, min_child_weight=4\n",
      "\tMAE 21.3844036 for 1 rounds\n",
      "CV with max_depth=8, min_child_weight=6\n",
      "\tMAE 21.384256 for 1 rounds\n",
      "CV with max_depth=8, min_child_weight=8\n",
      "\tMAE 21.3846292 for 1 rounds\n",
      "CV with max_depth=10, min_child_weight=2\n",
      "\tMAE 21.378034800000002 for 1 rounds\n",
      "CV with max_depth=10, min_child_weight=4\n",
      "\tMAE 21.3766188 for 1 rounds\n",
      "CV with max_depth=10, min_child_weight=6\n",
      "\tMAE 21.376501400000002 for 1 rounds\n",
      "CV with max_depth=10, min_child_weight=8\n",
      "\tMAE 21.376188 for 1 rounds\n",
      "CV with max_depth=12, min_child_weight=2\n",
      "\tMAE 21.3952762 for 1 rounds\n",
      "CV with max_depth=12, min_child_weight=4\n",
      "\tMAE 21.392948200000003 for 1 rounds\n",
      "CV with max_depth=12, min_child_weight=6\n",
      "\tMAE 21.391669 for 1 rounds\n",
      "CV with max_depth=12, min_child_weight=8\n",
      "\tMAE 21.3923288 for 1 rounds\n",
      "Best params: 10, 8, MAE: 21.376188\n"
     ]
    }
   ],
   "source": [
    "# Define initial best params and MAE\n",
    "min_mae = float(\"Inf\")\n",
    "best_params = None\n",
    "for max_depth, min_child_weight in gridsearch_params:\n",
    "    print(\"CV with max_depth={}, min_child_weight={}\".format(\n",
    "                             max_depth,\n",
    "                             min_child_weight))\n",
    "    # Update our parameters\n",
    "    params['max_depth'] = max_depth\n",
    "    params['min_child_weight'] = min_child_weight\n",
    "    # Run CV\n",
    "    cv_results = xgb.cv(\n",
    "        params,\n",
    "        dtrain,\n",
    "        num_boost_round=num_boost_round,\n",
    "        seed=42,\n",
    "        nfold=5,\n",
    "        metrics={'mae'},\n",
    "        early_stopping_rounds=3\n",
    "    )\n",
    "    # Update best MAE\n",
    "    mean_mae = cv_results['test-mae-mean'].min()\n",
    "    boost_rounds = cv_results['test-mae-mean'].argmin()\n",
    "    print(\"\\tMAE {} for {} rounds\".format(mean_mae, boost_rounds))\n",
    "    if mean_mae < min_mae:\n",
    "        min_mae = mean_mae\n",
    "        best_params = (max_depth,min_child_weight)\n",
    "print(\"Best params: {}, {}, MAE: {}\".format(best_params[0], best_params[1], min_mae))"
   ]
  },
  {
   "cell_type": "code",
   "execution_count": 58,
   "id": "3b550eeb",
   "metadata": {},
   "outputs": [],
   "source": [
    "params['max_depth'] = 10\n",
    "params['min_child_weight'] = 8"
   ]
  },
  {
   "cell_type": "code",
   "execution_count": null,
   "id": "73fe80c1",
   "metadata": {
    "id": "b2d6400c-ddf7-49a6-bc61-5ab1996fdf9f",
    "outputId": "250a38db-04bd-47d8-e41c-77e7b31cf44c"
   },
   "outputs": [
    {
     "data": {
      "text/plain": [
       "-0.0005833909885790689"
      ]
     },
     "execution_count": 43,
     "metadata": {},
     "output_type": "execute_result"
    }
   ],
   "source": [
    "## first try on XGBoost \n",
    "#r2_score(y_test,y_pred)"
   ]
  },
  {
   "cell_type": "code",
   "execution_count": null,
   "id": "a0ae6832",
   "metadata": {
    "id": "scFYw3vqNf43"
   },
   "outputs": [],
   "source": [
    "randm_src = RandomizedSearchCV(estimator=model, param_distributions = parameters,\n",
    "                               cv = 2, n_iter = 10, n_jobs=-1)"
   ]
  },
  {
   "cell_type": "code",
   "execution_count": null,
   "id": "cc2be785",
   "metadata": {
    "id": "8156602b-0319-43ce-8a95-a1e4cfb6ae14"
   },
   "outputs": [],
   "source": []
  }
 ],
 "metadata": {
  "colab": {
   "collapsed_sections": [],
   "name": "h_XGboost.ipynb",
   "provenance": [],
   "toc_visible": true
  },
  "kernelspec": {
   "display_name": "Python 3 (ipykernel)",
   "language": "python",
   "name": "python3"
  },
  "language_info": {
   "codemirror_mode": {
    "name": "ipython",
    "version": 3
   },
   "file_extension": ".py",
   "mimetype": "text/x-python",
   "name": "python",
   "nbconvert_exporter": "python",
   "pygments_lexer": "ipython3",
   "version": "3.8.10"
  }
 },
 "nbformat": 4,
 "nbformat_minor": 5
}
