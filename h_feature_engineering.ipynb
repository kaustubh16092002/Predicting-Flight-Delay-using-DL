{
 "cells": [
  {
   "cell_type": "code",
   "execution_count": 13,
   "id": "0baa5c96",
   "metadata": {},
   "outputs": [],
   "source": [
    "import pandas as pd\n",
    "import numpy as np\n",
    "from datetime import datetime\n",
    "import holidays\n",
    "from sklearn.model_selection import train_test_split\n",
    "from sklearn.model_selection import GridSearchCV\n",
    "from sklearn.linear_model import LinearRegression,ElasticNet\n",
    "from sklearn.preprocessing import StandardScaler\n",
    "import matplotlib.pyplot as plt"
   ]
  },
  {
   "cell_type": "code",
   "execution_count": null,
   "id": "d23bc36b",
   "metadata": {},
   "outputs": [],
   "source": [
    "df = pd.read_csv('flights')"
   ]
  },
  {
   "cell_type": "code",
   "execution_count": 9,
   "id": "0f4facee",
   "metadata": {},
   "outputs": [
    {
     "data": {
      "text/plain": [
       "Unnamed: 0                    0\n",
       "Unnamed: 0.1                  0\n",
       "fl_date                       0\n",
       "op_unique_carrier             0\n",
       "tail_num                  39483\n",
       "op_carrier_fl_num             0\n",
       "origin_airport_id             0\n",
       "dest_airport_id               0\n",
       "crs_dep_time                  0\n",
       "dep_delay                210562\n",
       "crs_arr_time                  0\n",
       "arr_delay                     0\n",
       "cancelled                     0\n",
       "cancellation_code      12527071\n",
       "crs_elapsed_time             18\n",
       "distance                      0\n",
       "carrier_delay          10335164\n",
       "weather_delay          10335164\n",
       "nas_delay              10335164\n",
       "security_delay         10335164\n",
       "late_aircraft_delay    10335164\n",
       "dtype: int64"
      ]
     },
     "execution_count": 9,
     "metadata": {},
     "output_type": "execute_result"
    }
   ],
   "source": [
    "df.isnull().sum()"
   ]
  },
  {
   "cell_type": "code",
   "execution_count": 10,
   "id": "c916ee56",
   "metadata": {},
   "outputs": [
    {
     "data": {
      "text/plain": [
       "4867629"
      ]
     },
     "execution_count": 10,
     "metadata": {},
     "output_type": "execute_result"
    }
   ],
   "source": [
    "sum(df['arr_delay'] >= 0)"
   ]
  },
  {
   "cell_type": "code",
   "execution_count": 11,
   "id": "3d6f2453",
   "metadata": {},
   "outputs": [],
   "source": [
    "y0 = df.loc[df['arr_delay'] <= 0, 'arr_delay']"
   ]
  },
  {
   "cell_type": "code",
   "execution_count": 16,
   "id": "da5a4d06",
   "metadata": {},
   "outputs": [
    {
     "data": {
      "text/plain": [
       "(-80.0, 0.0)"
      ]
     },
     "execution_count": 16,
     "metadata": {},
     "output_type": "execute_result"
    },
    {
     "data": {
      "image/png": "[encoded data removed]",
      "text/plain": [
       "<Figure size 432x288 with 1 Axes>"
      ]
     },
     "metadata": {
      "needs_background": "light"
     },
     "output_type": "display_data"
    }
   ],
   "source": [
    "plt.hist(y0, bins=100)\n",
    "plt.xlim(-80,0)"
   ]
  },
  {
   "cell_type": "code",
   "execution_count": 17,
   "id": "4c0c15d7",
   "metadata": {},
   "outputs": [],
   "source": [
    "y1 = df.loc[df['arr_delay'] > 0, 'arr_delay']"
   ]
  },
  {
   "cell_type": "code",
   "execution_count": 26,
   "id": "f42336e5",
   "metadata": {},
   "outputs": [
    {
     "data": {
      "text/plain": [
       "(40.0, 300.0)"
      ]
     },
     "execution_count": 26,
     "metadata": {},
     "output_type": "execute_result"
    },
    {
     "data": {
      "image/png": "[encoded data removed]",
      "text/plain": [
       "<Figure size 432x288 with 1 Axes>"
      ]
     },
     "metadata": {
      "needs_background": "light"
     },
     "output_type": "display_data"
    }
   ],
   "source": [
    "plt.hist(y1, bins=400)\n",
    "plt.xlim(40,300)"
   ]
  },
  {
   "cell_type": "code",
   "execution_count": 8,
   "id": "ba41fa2c",
   "metadata": {},
   "outputs": [],
   "source": [
    "df['arr_delay'].fillna(0,inplace=True)"
   ]
  },
  {
   "cell_type": "code",
   "execution_count": 73,
   "id": "b2a6848f",
   "metadata": {},
   "outputs": [],
   "source": [
    "df_train = df[['fl_date','op_unique_carrier','tail_num','op_carrier_fl_num','origin_airport_id','dest_airport_id','crs_dep_time','crs_arr_time','crs_elapsed_time','distance']]"
   ]
  },
  {
   "cell_type": "code",
   "execution_count": 92,
   "id": "846c6023",
   "metadata": {},
   "outputs": [],
   "source": [
    "y = df['arr_delay']"
   ]
  },
  {
   "cell_type": "code",
   "execution_count": 140,
   "id": "dda0dcf1",
   "metadata": {},
   "outputs": [],
   "source": [
    "X_train, X_test = train_test_split(df, test_size=0.2) "
   ]
  },
  {
   "cell_type": "code",
   "execution_count": 145,
   "id": "1a7454eb",
   "metadata": {},
   "outputs": [],
   "source": [
    "df_train = X_train[['fl_date','op_unique_carrier','op_carrier_fl_num','arr_delay']]"
   ]
  },
  {
   "cell_type": "code",
   "execution_count": 178,
   "id": "fc5c1337",
   "metadata": {},
   "outputs": [
    {
     "name": "stdout",
     "output_type": "stream",
     "text": [
      "<class 'pandas.core.frame.DataFrame'>\n",
      "Int64Index: 12591836 entries, 11774876 to 5066841\n",
      "Data columns (total 3 columns):\n",
      " #   Column     Dtype  \n",
      "---  ------     -----  \n",
      " 0   fl_date    object \n",
      " 1   arr_delay  float64\n",
      " 2   uni_fl     float64\n",
      "dtypes: float64(2), object(1)\n",
      "memory usage: 384.3+ MB\n"
     ]
    }
   ],
   "source": [
    "df_train.info()"
   ]
  },
  {
   "cell_type": "code",
   "execution_count": 187,
   "id": "e65111b0",
   "metadata": {},
   "outputs": [
    {
     "name": "stdout",
     "output_type": "stream",
     "text": [
      "<class 'pandas.core.frame.DataFrame'>\n",
      "Int64Index: 12591836 entries, 11774876 to 5066841\n",
      "Data columns (total 4 columns):\n",
      " #   Column       Dtype  \n",
      "---  ------       -----  \n",
      " 0   uni_fl       float64\n",
      " 1   month        object \n",
      " 2   day_of_week  int64  \n",
      " 3   is_holiday   int64  \n",
      "dtypes: float64(1), int64(2), object(1)\n",
      "memory usage: 480.3+ MB\n"
     ]
    }
   ],
   "source": [
    "df_train.info()"
   ]
  },
  {
   "cell_type": "code",
   "execution_count": 184,
   "id": "f1e298c4",
   "metadata": {},
   "outputs": [
    {
     "data": {
      "text/plain": [
       "is_holiday\n",
       "0    1.740948\n",
       "1    1.362521\n",
       "Name: arr_delay, dtype: float64"
      ]
     },
     "execution_count": 184,
     "metadata": {},
     "output_type": "execute_result"
    }
   ],
   "source": [
    "df_train.groupby('is_holiday')['arr_delay'].mean()"
   ]
  },
  {
   "cell_type": "code",
   "execution_count": 177,
   "id": "f667b0d0",
   "metadata": {},
   "outputs": [],
   "source": [
    "unifl_target_mean.to_csv('unifl_target_mean')"
   ]
  },
  {
   "cell_type": "code",
   "execution_count": null,
   "id": "ca527aa4",
   "metadata": {},
   "outputs": [],
   "source": [
    "#choose set of features\n",
    "df_train = X_train[['fl_date','op_unique_carrier','op_carrier_fl_num','arr_delay']]\n",
    "\n",
    "# after test data, arr_delay should be 0. \n",
    "df_train['arr_delay'].fillna(0,inplace=True)\n",
    "\n",
    "#remove outliner\n",
    "df_train = df_train[(df_train['arr_delay'] > -80) & (df_train['arr_delay'] < 180)] \n",
    "\n",
    "#combine features\n",
    "def combine_str_num(x,y):\n",
    "    return x + str(y)\n",
    "df_train['uni_fl'] = np.vectorize(combine_str_num)(df_train['op_unique_carrier'],df_train['op_carrier_fl_num'])\n",
    "df_train.drop(columns=['op_unique_carrier','op_carrier_fl_num'],inplace=True)\n",
    "\n",
    "# feature coding\n",
    "unifl_target_mean = df_train.groupby(['uni_fl'])['arr_delay'].mean()\n",
    "df_train['uni_fl'] = df_train['uni_fl'].map(unifl_target_mean)"
   ]
  },
  {
   "cell_type": "code",
   "execution_count": 189,
   "id": "7a25f9dd",
   "metadata": {},
   "outputs": [],
   "source": [
    "#transform fl_date\n",
    "def getmonth(x):\n",
    "    return x.split(sep='-')[1]\n",
    "df_train['month'] = df_train['fl_date'].apply(getmonth)\n",
    "\n",
    "def getdayofweek(x):\n",
    "    year_s, mon_s, day_s = x.split('-')\n",
    "    fl_d = datetime(int(year_s), int(mon_s), int(day_s))\n",
    "    return fl_d.weekday()\n",
    "df_train['day_of_week'] = df_train['fl_date'].apply(getdayofweek)\n",
    "\n",
    "us_holidays = holidays.UnitedStates()\n",
    "def isholiday(x):\n",
    "    year_s, mon_s, day_s = x.split('-')\n",
    "    if datetime(int(year_s), int(mon_s), int(day_s)) in us_holidays:\n",
    "        return 1\n",
    "    else:\n",
    "        return 0\n",
    "df_train['is_holiday'] = df_train['fl_date'].apply(isholiday)\n",
    "\n",
    "y_train = df_train['arr_delay']\n",
    "\n",
    "df_train = df_train.drop(columns=['fl_date','arr_delay'])\n",
    "\n",
    "df_train = pd.get_dummies(df_train,columns=['month','day_of_week'])"
   ]
  },
  {
   "cell_type": "code",
   "execution_count": 208,
   "id": "c54bafc2",
   "metadata": {},
   "outputs": [],
   "source": [
    "scaler = StandardScaler()"
   ]
  },
  {
   "cell_type": "code",
   "execution_count": 209,
   "id": "77077957",
   "metadata": {},
   "outputs": [],
   "source": [
    "X = scaler.fit_transform(df_train)"
   ]
  },
  {
   "cell_type": "code",
   "execution_count": null,
   "id": "f2f3d1e5",
   "metadata": {},
   "outputs": [],
   "source": [
    "X.shape"
   ]
  },
  {
   "cell_type": "code",
   "execution_count": 190,
   "id": "4cbec2dc",
   "metadata": {},
   "outputs": [],
   "source": [
    "y_train = df_train['arr_delay']"
   ]
  },
  {
   "cell_type": "code",
   "execution_count": 207,
   "id": "b87c8119",
   "metadata": {},
   "outputs": [
    {
     "name": "stdout",
     "output_type": "stream",
     "text": [
      "<class 'pandas.core.frame.DataFrame'>\n",
      "Int64Index: 12591836 entries, 11774876 to 5066841\n",
      "Data columns (total 21 columns):\n",
      " #   Column         Dtype  \n",
      "---  ------         -----  \n",
      " 0   uni_fl         float64\n",
      " 1   is_holiday     int64  \n",
      " 2   month_01       uint8  \n",
      " 3   month_02       uint8  \n",
      " 4   month_03       uint8  \n",
      " 5   month_04       uint8  \n",
      " 6   month_05       uint8  \n",
      " 7   month_06       uint8  \n",
      " 8   month_07       uint8  \n",
      " 9   month_08       uint8  \n",
      " 10  month_09       uint8  \n",
      " 11  month_10       uint8  \n",
      " 12  month_11       uint8  \n",
      " 13  month_12       uint8  \n",
      " 14  day_of_week_0  uint8  \n",
      " 15  day_of_week_1  uint8  \n",
      " 16  day_of_week_2  uint8  \n",
      " 17  day_of_week_3  uint8  \n",
      " 18  day_of_week_4  uint8  \n",
      " 19  day_of_week_5  uint8  \n",
      " 20  day_of_week_6  uint8  \n",
      "dtypes: float64(1), int64(1), uint8(19)\n",
      "memory usage: 516.4 MB\n"
     ]
    }
   ],
   "source": [
    "df_train.info()"
   ]
  },
  {
   "cell_type": "code",
   "execution_count": 197,
   "id": "f54959e4",
   "metadata": {},
   "outputs": [
    {
     "data": {
      "text/html": [
       "<div>\n",
       "<style scoped>\n",
       "    .dataframe tbody tr th:only-of-type {\n",
       "        vertical-align: middle;\n",
       "    }\n",
       "\n",
       "    .dataframe tbody tr th {\n",
       "        vertical-align: top;\n",
       "    }\n",
       "\n",
       "    .dataframe thead th {\n",
       "        text-align: right;\n",
       "    }\n",
       "</style>\n",
       "<table border=\"1\" class=\"dataframe\">\n",
       "  <thead>\n",
       "    <tr style=\"text-align: right;\">\n",
       "      <th></th>\n",
       "      <th>uni_fl</th>\n",
       "      <th>is_holiday</th>\n",
       "      <th>month_01</th>\n",
       "      <th>month_02</th>\n",
       "      <th>month_03</th>\n",
       "      <th>month_04</th>\n",
       "      <th>month_05</th>\n",
       "      <th>month_06</th>\n",
       "      <th>month_07</th>\n",
       "      <th>month_08</th>\n",
       "      <th>...</th>\n",
       "      <th>month_10</th>\n",
       "      <th>month_11</th>\n",
       "      <th>month_12</th>\n",
       "      <th>day_of_week_0</th>\n",
       "      <th>day_of_week_1</th>\n",
       "      <th>day_of_week_2</th>\n",
       "      <th>day_of_week_3</th>\n",
       "      <th>day_of_week_4</th>\n",
       "      <th>day_of_week_5</th>\n",
       "      <th>day_of_week_6</th>\n",
       "    </tr>\n",
       "  </thead>\n",
       "  <tbody>\n",
       "    <tr>\n",
       "      <th>11774876</th>\n",
       "      <td>4.592269</td>\n",
       "      <td>0</td>\n",
       "      <td>0</td>\n",
       "      <td>0</td>\n",
       "      <td>0</td>\n",
       "      <td>0</td>\n",
       "      <td>0</td>\n",
       "      <td>0</td>\n",
       "      <td>0</td>\n",
       "      <td>0</td>\n",
       "      <td>...</td>\n",
       "      <td>1</td>\n",
       "      <td>0</td>\n",
       "      <td>0</td>\n",
       "      <td>0</td>\n",
       "      <td>0</td>\n",
       "      <td>0</td>\n",
       "      <td>0</td>\n",
       "      <td>1</td>\n",
       "      <td>0</td>\n",
       "      <td>0</td>\n",
       "    </tr>\n",
       "    <tr>\n",
       "      <th>8648414</th>\n",
       "      <td>13.292593</td>\n",
       "      <td>0</td>\n",
       "      <td>0</td>\n",
       "      <td>0</td>\n",
       "      <td>0</td>\n",
       "      <td>0</td>\n",
       "      <td>0</td>\n",
       "      <td>0</td>\n",
       "      <td>0</td>\n",
       "      <td>1</td>\n",
       "      <td>...</td>\n",
       "      <td>0</td>\n",
       "      <td>0</td>\n",
       "      <td>0</td>\n",
       "      <td>0</td>\n",
       "      <td>0</td>\n",
       "      <td>0</td>\n",
       "      <td>0</td>\n",
       "      <td>0</td>\n",
       "      <td>0</td>\n",
       "      <td>1</td>\n",
       "    </tr>\n",
       "    <tr>\n",
       "      <th>11648639</th>\n",
       "      <td>5.556188</td>\n",
       "      <td>0</td>\n",
       "      <td>0</td>\n",
       "      <td>0</td>\n",
       "      <td>0</td>\n",
       "      <td>0</td>\n",
       "      <td>0</td>\n",
       "      <td>0</td>\n",
       "      <td>0</td>\n",
       "      <td>0</td>\n",
       "      <td>...</td>\n",
       "      <td>1</td>\n",
       "      <td>0</td>\n",
       "      <td>0</td>\n",
       "      <td>0</td>\n",
       "      <td>0</td>\n",
       "      <td>0</td>\n",
       "      <td>0</td>\n",
       "      <td>0</td>\n",
       "      <td>1</td>\n",
       "      <td>0</td>\n",
       "    </tr>\n",
       "    <tr>\n",
       "      <th>724728</th>\n",
       "      <td>-5.047619</td>\n",
       "      <td>0</td>\n",
       "      <td>0</td>\n",
       "      <td>0</td>\n",
       "      <td>0</td>\n",
       "      <td>0</td>\n",
       "      <td>0</td>\n",
       "      <td>0</td>\n",
       "      <td>1</td>\n",
       "      <td>0</td>\n",
       "      <td>...</td>\n",
       "      <td>0</td>\n",
       "      <td>0</td>\n",
       "      <td>0</td>\n",
       "      <td>0</td>\n",
       "      <td>0</td>\n",
       "      <td>0</td>\n",
       "      <td>0</td>\n",
       "      <td>1</td>\n",
       "      <td>0</td>\n",
       "      <td>0</td>\n",
       "    </tr>\n",
       "    <tr>\n",
       "      <th>3151471</th>\n",
       "      <td>2.464879</td>\n",
       "      <td>0</td>\n",
       "      <td>0</td>\n",
       "      <td>0</td>\n",
       "      <td>1</td>\n",
       "      <td>0</td>\n",
       "      <td>0</td>\n",
       "      <td>0</td>\n",
       "      <td>0</td>\n",
       "      <td>0</td>\n",
       "      <td>...</td>\n",
       "      <td>0</td>\n",
       "      <td>0</td>\n",
       "      <td>0</td>\n",
       "      <td>0</td>\n",
       "      <td>0</td>\n",
       "      <td>0</td>\n",
       "      <td>0</td>\n",
       "      <td>1</td>\n",
       "      <td>0</td>\n",
       "      <td>0</td>\n",
       "    </tr>\n",
       "  </tbody>\n",
       "</table>\n",
       "<p>5 rows × 21 columns</p>\n",
       "</div>"
      ],
      "text/plain": [
       "             uni_fl  is_holiday  month_01  month_02  month_03  month_04  \\\n",
       "11774876   4.592269           0         0         0         0         0   \n",
       "8648414   13.292593           0         0         0         0         0   \n",
       "11648639   5.556188           0         0         0         0         0   \n",
       "724728    -5.047619           0         0         0         0         0   \n",
       "3151471    2.464879           0         0         0         1         0   \n",
       "\n",
       "          month_05  month_06  month_07  month_08  ...  month_10  month_11  \\\n",
       "11774876         0         0         0         0  ...         1         0   \n",
       "8648414          0         0         0         1  ...         0         0   \n",
       "11648639         0         0         0         0  ...         1         0   \n",
       "724728           0         0         1         0  ...         0         0   \n",
       "3151471          0         0         0         0  ...         0         0   \n",
       "\n",
       "          month_12  day_of_week_0  day_of_week_1  day_of_week_2  \\\n",
       "11774876         0              0              0              0   \n",
       "8648414          0              0              0              0   \n",
       "11648639         0              0              0              0   \n",
       "724728           0              0              0              0   \n",
       "3151471          0              0              0              0   \n",
       "\n",
       "          day_of_week_3  day_of_week_4  day_of_week_5  day_of_week_6  \n",
       "11774876              0              1              0              0  \n",
       "8648414               0              0              0              1  \n",
       "11648639              0              0              1              0  \n",
       "724728                0              1              0              0  \n",
       "3151471               0              1              0              0  \n",
       "\n",
       "[5 rows x 21 columns]"
      ]
     },
     "execution_count": 197,
     "metadata": {},
     "output_type": "execute_result"
    }
   ],
   "source": [
    "df_train.head()"
   ]
  },
  {
   "cell_type": "code",
   "execution_count": 210,
   "id": "8968d327",
   "metadata": {},
   "outputs": [],
   "source": [
    "parametersGrid = {    \"alpha\": [0.0001, 0.001, 0.01, 0.1, 1, 10],\n",
    "                      \"l1_ratio\": [0,0.2,0,5,0.8]}"
   ]
  },
  {
   "cell_type": "code",
   "execution_count": 211,
   "id": "1fcaf4b0",
   "metadata": {},
   "outputs": [],
   "source": [
    "ent = ElasticNet()"
   ]
  },
  {
   "cell_type": "code",
   "execution_count": null,
   "id": "57d33063",
   "metadata": {},
   "outputs": [],
   "source": [
    "grid = GridSearchCV(ent, parametersGrid, scoring='r2', cv=5)\n",
    "grid.fit(x_small, y_small)\n",
    "#Y_pred = grid.predict(X_test)"
   ]
  }
 ],
 "metadata": {
  "kernelspec": {
   "display_name": "Python 3 (ipykernel)",
   "language": "python",
   "name": "python3"
  },
  "language_info": {
   "codemirror_mode": {
    "name": "ipython",
    "version": 3
   },
   "file_extension": ".py",
   "mimetype": "text/x-python",
   "name": "python",
   "nbconvert_exporter": "python",
   "pygments_lexer": "ipython3",
   "version": "3.8.10"
  }
 },
 "nbformat": 4,
 "nbformat_minor": 5
}
