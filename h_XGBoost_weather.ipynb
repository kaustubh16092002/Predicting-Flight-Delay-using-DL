{
 "cells": [
  {
   "cell_type": "code",
   "execution_count": 2,
   "id": "767aa084",
   "metadata": {
    "colab": {
     "base_uri": "https://localhost:8080/"
    },
    "id": "Gx6Js4F8VdBf",
    "outputId": "300d454d-5e5f-4c00-b419-febd89d44dd9"
   },
   "outputs": [
    {
     "name": "stdout",
     "output_type": "stream",
     "text": [
      "Drive already mounted at /drive; to attempt to forcibly remount, call drive.mount(\"/drive\", force_remount=True).\n"
     ]
    }
   ],
   "source": [
    "from google.colab import drive\n",
    "drive.mount('/drive')"
   ]
  },
  {
   "cell_type": "code",
   "execution_count": 6,
   "id": "dfef99cd",
   "metadata": {},
   "outputs": [
    {
     "name": "stdout",
     "output_type": "stream",
     "text": [
      "Looking in indexes: https://pypi.org/simple, https://pip.repos.neuron.amazonaws.com\n",
      "Collecting xgboost\n",
      "  Downloading xgboost-1.4.2-py3-none-manylinux2010_x86_64.whl (166.7 MB)\n",
      "\u001b[K     |████████████████████████████████| 166.7 MB 3.3 kB/s s eta 0:00:01\n",
      "\u001b[?25hRequirement already satisfied: scipy in /home/ec2-user/anaconda3/envs/pytorch_latest_p37/lib/python3.7/site-packages (from xgboost) (1.6.1)\n",
      "Requirement already satisfied: numpy in /home/ec2-user/anaconda3/envs/pytorch_latest_p37/lib/python3.7/site-packages (from xgboost) (1.19.2)\n",
      "Installing collected packages: xgboost\n",
      "Successfully installed xgboost-1.4.2\n",
      "\u001b[33mWARNING: You are using pip version 21.1.3; however, version 21.2.4 is available.\n",
      "You should consider upgrading via the '/home/ec2-user/anaconda3/envs/pytorch_latest_p37/bin/python -m pip install --upgrade pip' command.\u001b[0m\n"
     ]
    }
   ],
   "source": [
    "!pip install xgboost"
   ]
  },
  {
   "cell_type": "code",
   "execution_count": 2,
   "id": "095c65c3",
   "metadata": {},
   "outputs": [],
   "source": [
    "## Training with weather data"
   ]
  },
  {
   "cell_type": "code",
   "execution_count": 5,
   "id": "9a8223bf",
   "metadata": {
    "id": "281d07c9-b978-4a43-980d-1a991c1cf0d1"
   },
   "outputs": [],
   "source": [
    "import pandas as pd\n",
    "import numpy as np\n",
    "from datetime import datetime\n",
    "import holidays\n",
    "from sklearn.model_selection import train_test_split\n",
    "from sklearn.model_selection import GridSearchCV\n",
    "#import xgboost as xgb\n",
    "from sklearn.preprocessing import StandardScaler\n",
    "from sklearn.metrics import mean_squared_error\n",
    "from sklearn.metrics import mean_absolute_error\n",
    "from sklearn.metrics import r2_score\n",
    "from scipy.stats import  randint\n",
    "from scipy.stats import uniform\n",
    "import math\n",
    "import matplotlib.pyplot as plt\n",
    "import seaborn as sns"
   ]
  },
  {
   "cell_type": "code",
   "execution_count": 3,
   "id": "aa870b17",
   "metadata": {},
   "outputs": [],
   "source": [
    "import warnings\n",
    "warnings.filterwarnings('ignore')"
   ]
  },
  {
   "cell_type": "markdown",
   "id": "3d6be3c3",
   "metadata": {
    "id": "8d5704a2-0584-4232-90cd-0eff389fb4aa"
   },
   "source": [
    "## Build X_train"
   ]
  },
  {
   "cell_type": "code",
   "execution_count": 4,
   "id": "5e28bbd6",
   "metadata": {
    "id": "4d18123c-d7b1-460d-95f7-5d277e6768b5"
   },
   "outputs": [],
   "source": [
    "df_train = pd.read_csv('fl_wea_train.csv')"
   ]
  },
  {
   "cell_type": "code",
   "execution_count": 7,
   "id": "236ef7a2-5a1b-4b14-9bea-181cc66557d9",
   "metadata": {},
   "outputs": [
    {
     "data": {
      "text/plain": [
       "Text(0.5, 1.0, 'Distribution of delay in minutes')"
      ]
     },
     "execution_count": 7,
     "metadata": {},
     "output_type": "execute_result"
    },
    {
     "data": {
      "image/png": "[encoded data removed]",
      "text/plain": [
       "<Figure size 864x216 with 1 Axes>"
      ]
     },
     "metadata": {
      "needs_background": "light"
     },
     "output_type": "display_data"
    }
   ],
   "source": [
    "plt.figure(figsize=(12,3))\n",
    "sns.histplot(df_train['arr_delay'])\n",
    "plt.title('Distribution of delay in minutes')"
   ]
  },
  {
   "cell_type": "code",
   "execution_count": 5,
   "id": "29ac9499",
   "metadata": {},
   "outputs": [],
   "source": [
    "col = df_train.columns.tolist()"
   ]
  },
  {
   "cell_type": "code",
   "execution_count": 28,
   "id": "339c4e42",
   "metadata": {},
   "outputs": [],
   "source": [
    "col = ['fl_date', 'op_unique_carrier', 'op_carrier_fl_num', 'origin_airport_id', 'dest_airport_id',\n",
    " 'crs_dep_time',  'crs_arr_time', 'arr_delay',  'distance',     \n",
    " 'tmpf', 'sknt', 'vsby', 'gust', 'skyl1', 'ice_accretion_3hr',\n",
    " 'tmpf_arr', 'sknt_arr', 'vsby_arr', 'gust_arr', 'skyl1_arr', 'ice_accretion_3hr_arr']"
   ]
  },
  {
   "cell_type": "code",
   "execution_count": 20,
   "id": "55430079",
   "metadata": {
    "colab": {
     "base_uri": "https://localhost:8080/",
     "height": 165
    },
    "id": "Rx_vwvNL6wno",
    "outputId": "13002839-153b-40f8-a9df-bce831d27b0b"
   },
   "outputs": [],
   "source": [
    "X_train = df_train[col]"
   ]
  },
  {
   "cell_type": "code",
   "execution_count": 61,
   "id": "2b2a6ac8",
   "metadata": {},
   "outputs": [
    {
     "name": "stdout",
     "output_type": "stream",
     "text": [
      "<class 'pandas.core.frame.DataFrame'>\n",
      "Int64Index: 949679 entries, 0 to 951087\n",
      "Data columns (total 22 columns):\n",
      " #   Column                 Non-Null Count   Dtype  \n",
      "---  ------                 --------------   -----  \n",
      " 0   fl_date                949679 non-null  object \n",
      " 1   arr_delay              949679 non-null  float64\n",
      " 2   distance               949679 non-null  float64\n",
      " 3   tmpf                   949679 non-null  float64\n",
      " 4   sknt                   949679 non-null  float64\n",
      " 5   vsby                   949679 non-null  float64\n",
      " 6   gust                   949679 non-null  float64\n",
      " 7   skyl1                  949679 non-null  float64\n",
      " 8   ice_accretion_3hr      949679 non-null  float64\n",
      " 9   tmpf_arr               949679 non-null  float64\n",
      " 10  sknt_arr               949679 non-null  float64\n",
      " 11  vsby_arr               949679 non-null  float64\n",
      " 12  gust_arr               949679 non-null  float64\n",
      " 13  skyl1_arr              949679 non-null  float64\n",
      " 14  ice_accretion_3hr_arr  949679 non-null  float64\n",
      " 15  uni_fl                 949679 non-null  float64\n",
      " 16  arr_airport_hour       949679 non-null  float64\n",
      " 17  dep_airport_hour       949679 non-null  float64\n",
      " 18  day_of_week            949679 non-null  int64  \n",
      " 19  is_holiday             949679 non-null  int64  \n",
      " 20  dow_sin                949679 non-null  float64\n",
      " 21  dow_cos                949679 non-null  float64\n",
      "dtypes: float64(19), int64(2), object(1)\n",
      "memory usage: 166.6+ MB\n"
     ]
    }
   ],
   "source": [
    "X_train.info()"
   ]
  },
  {
   "cell_type": "code",
   "execution_count": 21,
   "id": "692c099b",
   "metadata": {
    "id": "e849635b-4b09-44d0-a009-d2bf371e8d20"
   },
   "outputs": [],
   "source": [
    "# after test data, arr_delay should be 0. \n",
    "X_train['arr_delay'].fillna(0,inplace=True)\n",
    "\n",
    "#remove outliner\n",
    "X_train = X_train[(X_train['arr_delay'] > -80) & (X_train['arr_delay'] <= 480)] \n",
    "\n",
    "#combine features\n",
    "def combine_str_num(x,y):\n",
    "    return x + str(y)\n",
    "X_train['uni_fl'] = np.vectorize(combine_str_num)(X_train['op_unique_carrier'],X_train['op_carrier_fl_num'])\n",
    "X_train.drop(columns=['op_unique_carrier','op_carrier_fl_num'],inplace=True)\n",
    "\n",
    "# target encoding -- flight numbers\n",
    "total_target_mean = np.mean(X_train['arr_delay'])\n",
    "unifl_target_mean = X_train.groupby(['uni_fl'])['arr_delay'].mean()\n",
    "X_train['uni_fl'] =X_train['uni_fl'].map(unifl_target_mean)\n",
    "\n"
   ]
  },
  {
   "cell_type": "code",
   "execution_count": null,
   "id": "925a42aa-8610-474f-9803-86de22bb71f5",
   "metadata": {},
   "outputs": [],
   "source": [
    "# target encoding -- flight numbers\n",
    "total_target_mean = np.mean(X_train['arr_delay'])\n",
    "unifl_target_mean = X_train.groupby(['uni_fl'])['arr_delay'].mean()\n",
    "X_train['uni_fl'] =X_train['uni_fl'].map(unifl_target_mean)\n",
    "\n",
    "# target  encoding -- airport in detail hour\n",
    "dep_hour_target_mean = X_train.groupby(['dep_airport_hour'])['arr_delay'].mean()\n",
    "X_train['dep_airport_hour'] =X_train['dep_airport_hour'].map(dep_hour_target_mean)\n",
    "arr_hour_target_mean = X_train.groupby(['arr_airport_hour'])['arr_delay'].mean()\n",
    "X_train['arr_airport_hour'] =X_train['arr_airport_hour'].map(arr_hour_target_mean"
   ]
  },
  {
   "cell_type": "code",
   "execution_count": 22,
   "id": "c86aceae",
   "metadata": {},
   "outputs": [],
   "source": [
    "## Combine the airportid and related hour\n",
    "## Combine the airportid and related hour\n",
    "def airport_hour(id,t):\n",
    "    '''\n",
    "    combine airport and hour to a new field\n",
    "    '''\n",
    "    t = t // 100\n",
    "    if t == 24:\n",
    "        t = 0\n",
    "    l = '0' + str(t)\n",
    "    return str(id) + l[-2:]\n",
    "    \n",
    "X_train['arr_airport_hour'] = np.vectorize(airport_hour)(X_train['dest_airport_id'],X_train['crs_arr_time'])\n",
    "X_train['dep_airport_hour'] = np.vectorize(airport_hour)(X_train['origin_airport_id'],X_train['crs_dep_time'])\n",
    "\n",
    "# feature coding\n",
    "dep_hour_target_mean = X_train.groupby(['dep_airport_hour'])['arr_delay'].mean()\n",
    "X_train['dep_airport_hour'] =X_train['dep_airport_hour'].map(dep_hour_target_mean)\n",
    "arr_hour_target_mean = X_train.groupby(['arr_airport_hour'])['arr_delay'].mean()\n",
    "X_train['arr_airport_hour'] =X_train['arr_airport_hour'].map(arr_hour_target_mean)\n",
    "\n",
    "X_train.drop(columns=['dest_airport_id','crs_arr_time','origin_airport_id','crs_dep_time'],inplace=True)"
   ]
  },
  {
   "cell_type": "code",
   "execution_count": 23,
   "id": "adf579f8",
   "metadata": {
    "id": "5b5e18d7-de3c-4053-8c68-bc250dcb9b97"
   },
   "outputs": [],
   "source": [
    "pi=3.14159\n",
    "def transformation(column):\n",
    "  max_value = column.max()\n",
    "  sin_values = [math.sin((2*pi*x)/max_value) for x in list(column)]\n",
    "  cos_values = [math.cos((2*pi*x)/max_value) for x in list(column)]\n",
    "  return sin_values, cos_values\n",
    "\n",
    "#transform fl_date\n",
    "#def getmonth(x):\n",
    "#    return x.split(sep='-')[1]\n",
    "#X_train['month'] = X_train['fl_date'].apply(getmonth)\n",
    "\n",
    "#sin_m, cos_m = transformation(X_train['month'].astype('int32'))\n",
    "#X_train['mon_sin'] = sin_m\n",
    "#X_train['mon_cos'] = cos_m\n",
    "\n",
    "\n",
    "def getdayofweek(x):\n",
    "    year_s, mon_s, day_s = x.split('-')\n",
    "    fl_d = datetime(int(year_s), int(mon_s), int(day_s))\n",
    "    return fl_d.weekday() + 1\n",
    "X_train['day_of_week'] = X_train['fl_date'].apply(getdayofweek)\n",
    "\n",
    "us_holidays = holidays.UnitedStates()\n",
    "def isholiday(x):\n",
    "    year_s, mon_s, day_s = x.split('-')\n",
    "    if datetime(int(year_s), int(mon_s), int(day_s)) in us_holidays:\n",
    "        return 1\n",
    "    else:\n",
    "        return 0\n",
    "X_train['is_holiday'] = X_train['fl_date'].apply(isholiday)\n",
    "\n",
    "\n",
    "\n",
    "sin_l, cos_l = transformation(X_train['day_of_week'])\n",
    "\n",
    "X_train['dow_sin'] = sin_l\n",
    "X_train['dow_cos'] = cos_l"
   ]
  },
  {
   "cell_type": "code",
   "execution_count": 24,
   "id": "886e596a",
   "metadata": {},
   "outputs": [],
   "source": [
    "y_train = X_train['arr_delay']\n",
    "\n",
    "X_train = X_train.drop(columns=['fl_date','arr_delay','day_of_week'])\n",
    "\n",
    "#X_train = pd.get_dummies(X_train,columns=['month','day_of_week'])"
   ]
  },
  {
   "cell_type": "code",
   "execution_count": 86,
   "id": "28929d08",
   "metadata": {
    "id": "86f88a4d-8db0-4d15-82bf-f83747c52265"
   },
   "outputs": [],
   "source": [
    "scaler = StandardScaler()\n",
    "X_train = scaler.fit_transform(X_train)"
   ]
  },
  {
   "cell_type": "code",
   "execution_count": null,
   "id": "95aa812b",
   "metadata": {
    "id": "c249cef2-421b-493c-be1d-3ad3ad891db8"
   },
   "outputs": [],
   "source": [
    "#x_small = X[:100000]\n",
    "#y_small = y_train[:100000]"
   ]
  },
  {
   "cell_type": "markdown",
   "id": "8b514dff",
   "metadata": {
    "id": "83b52da6-73f3-408f-ad3a-a9b61387ca9b"
   },
   "source": [
    "### Build X_test"
   ]
  },
  {
   "cell_type": "code",
   "execution_count": 14,
   "id": "d080da3d",
   "metadata": {
    "id": "fda72711-48ba-4bb2-bc74-bb85e3ffee12"
   },
   "outputs": [],
   "source": [
    "df_test = pd.read_csv('fl_wea_eval.csv')"
   ]
  },
  {
   "cell_type": "code",
   "execution_count": 72,
   "id": "d82d1af9",
   "metadata": {},
   "outputs": [],
   "source": [
    "col=['fl_date','mkt_carrier','mkt_carrier_fl_num','origin','dest','predicted_delay']"
   ]
  },
  {
   "cell_type": "code",
   "execution_count": 12,
   "id": "a2e6ed1a",
   "metadata": {},
   "outputs": [],
   "source": [
    "df_test=df_test[col]"
   ]
  },
  {
   "cell_type": "code",
   "execution_count": 36,
   "id": "af3bbe74",
   "metadata": {},
   "outputs": [
    {
     "name": "stdout",
     "output_type": "stream",
     "text": [
      "<class 'pandas.core.frame.DataFrame'>\n",
      "RangeIndex: 147051 entries, 0 to 147050\n",
      "Data columns (total 39 columns):\n",
      " #   Column                 Non-Null Count   Dtype  \n",
      "---  ------                 --------------   -----  \n",
      " 0   Unnamed: 0             147051 non-null  int64  \n",
      " 1   fl_date                147051 non-null  object \n",
      " 2   op_unique_carrier      147051 non-null  object \n",
      " 3   op_carrier_fl_num      147051 non-null  int64  \n",
      " 4   origin_airport_id      147051 non-null  int64  \n",
      " 5   dest_airport_id        147051 non-null  int64  \n",
      " 6   crs_dep_time           147051 non-null  int64  \n",
      " 7   dep_delay              146354 non-null  float64\n",
      " 8   crs_arr_time           147051 non-null  int64  \n",
      " 9   arr_delay              146132 non-null  float64\n",
      " 10  cancelled              147051 non-null  float64\n",
      " 11  cancellation_code      739 non-null     object \n",
      " 12  crs_elapsed_time       147051 non-null  float64\n",
      " 13  distance               147051 non-null  float64\n",
      " 14  carrier_delay          17806 non-null   float64\n",
      " 15  weather_delay          17806 non-null   float64\n",
      " 16  nas_delay              17806 non-null   float64\n",
      " 17  security_delay         17806 non-null   float64\n",
      " 18  late_aircraft_delay    17806 non-null   float64\n",
      " 19  mkt_carrier            147051 non-null  object \n",
      " 20  mkt_carrier_fl_num     147051 non-null  int64  \n",
      " 21  origin                 147051 non-null  object \n",
      " 22  dest                   147051 non-null  object \n",
      " 23  arr_hour               147051 non-null  int64  \n",
      " 24  dep_hour               147051 non-null  int64  \n",
      " 25  arr_key                147051 non-null  object \n",
      " 26  dep_key                147051 non-null  object \n",
      " 27  tmpf                   147051 non-null  float64\n",
      " 28  sknt                   147051 non-null  float64\n",
      " 29  vsby                   147051 non-null  float64\n",
      " 30  gust                   147051 non-null  float64\n",
      " 31  skyl1                  147051 non-null  float64\n",
      " 32  ice_accretion_3hr      147051 non-null  float64\n",
      " 33  tmpf_arr               147051 non-null  float64\n",
      " 34  sknt_arr               147051 non-null  float64\n",
      " 35  vsby_arr               147051 non-null  float64\n",
      " 36  gust_arr               147051 non-null  float64\n",
      " 37  skyl1_arr              147051 non-null  float64\n",
      " 38  ice_accretion_3hr_arr  147051 non-null  float64\n",
      "dtypes: float64(22), int64(9), object(8)\n",
      "memory usage: 43.8+ MB\n"
     ]
    }
   ],
   "source": [
    "df_test.info()"
   ]
  },
  {
   "cell_type": "code",
   "execution_count": 37,
   "id": "17b50b1e",
   "metadata": {},
   "outputs": [
    {
     "name": "stdout",
     "output_type": "stream",
     "text": [
      "<class 'pandas.core.frame.DataFrame'>\n",
      "RangeIndex: 147051 entries, 0 to 147050\n",
      "Data columns (total 20 columns):\n",
      " #   Column                 Non-Null Count   Dtype  \n",
      "---  ------                 --------------   -----  \n",
      " 0   arr_delay              146132 non-null  float64\n",
      " 1   distance               147051 non-null  float64\n",
      " 2   tmpf                   147051 non-null  float64\n",
      " 3   sknt                   147051 non-null  float64\n",
      " 4   vsby                   147051 non-null  float64\n",
      " 5   gust                   147051 non-null  float64\n",
      " 6   skyl1                  147051 non-null  float64\n",
      " 7   ice_accretion_3hr      147051 non-null  float64\n",
      " 8   tmpf_arr               147051 non-null  float64\n",
      " 9   sknt_arr               147051 non-null  float64\n",
      " 10  vsby_arr               147051 non-null  float64\n",
      " 11  gust_arr               147051 non-null  float64\n",
      " 12  skyl1_arr              147051 non-null  float64\n",
      " 13  ice_accretion_3hr_arr  147051 non-null  float64\n",
      " 14  uni_fl                 147051 non-null  float64\n",
      " 15  arr_airport_hour       147051 non-null  float64\n",
      " 16  dep_airport_hour       147051 non-null  float64\n",
      " 17  is_holiday             147051 non-null  int64  \n",
      " 18  dow_sin                147051 non-null  float64\n",
      " 19  dow_cos                147051 non-null  float64\n",
      "dtypes: float64(19), int64(1)\n",
      "memory usage: 22.4 MB\n"
     ]
    }
   ],
   "source": [
    "X_test.info()"
   ]
  },
  {
   "cell_type": "code",
   "execution_count": 141,
   "id": "4123fb4b",
   "metadata": {},
   "outputs": [
    {
     "data": {
      "text/plain": [
       "(-80.0, 150.0)"
      ]
     },
     "execution_count": 141,
     "metadata": {},
     "output_type": "execute_result"
    },
    {
     "data": {
      "image/png": "[encoded data removed]",
      "text/plain": [
       "<Figure size 432x288 with 1 Axes>"
      ]
     },
     "metadata": {
      "needs_background": "light"
     },
     "output_type": "display_data"
    }
   ],
   "source": [
    "plt.hist(y_pred,bins=100)\n",
    "#plt.hist(X_train['arr_delay'],bins=300)\n",
    "plt.xlim(-80,150)"
   ]
  },
  {
   "cell_type": "code",
   "execution_count": 15,
   "id": "3a5942af",
   "metadata": {},
   "outputs": [],
   "source": [
    "col = ['fl_date', 'op_unique_carrier', 'op_carrier_fl_num', 'origin_airport_id', 'dest_airport_id',\n",
    " 'crs_dep_time',  'crs_arr_time',   'distance',     \n",
    " 'tmpf', 'sknt', 'vsby', 'gust', 'skyl1', 'ice_accretion_3hr',\n",
    " 'tmpf_arr', 'sknt_arr', 'vsby_arr', 'gust_arr', 'skyl1_arr', 'ice_accretion_3hr_arr']"
   ]
  },
  {
   "cell_type": "code",
   "execution_count": 43,
   "id": "b93fcded",
   "metadata": {
    "id": "5037196b-82ad-46b5-9949-d3fcffffb6ce"
   },
   "outputs": [],
   "source": [
    "X_test = df_test[col]"
   ]
  },
  {
   "cell_type": "code",
   "execution_count": 44,
   "id": "ef6b8991",
   "metadata": {
    "id": "7c958fab-6d0e-45e4-b8be-402408ab0825"
   },
   "outputs": [],
   "source": [
    "# after test data, arr_delay should be 0. \n",
    "X_test['arr_delay'].fillna(0,inplace=True)\n",
    "\n",
    "#remove outliner\n",
    "#X_test = X_test[(X_test['arr_delay'] > -80) & (X_test['arr_delay'] < 480)] \n",
    "\n",
    "#combine features\n",
    "def combine_str_num(x,y):\n",
    "    return x + str(y)\n",
    "X_test['uni_fl'] = np.vectorize(combine_str_num)(X_test['op_unique_carrier'],X_test['op_carrier_fl_num'])\n",
    "X_test.drop(columns=['op_unique_carrier','op_carrier_fl_num'],inplace=True)\n",
    "\n",
    "# feature coding\n",
    "#unifl_target_mean = X_test.groupby(['uni_fl'])['arr_delay'].mean()\n",
    "X_test['uni_fl'] =X_test['uni_fl'].map(unifl_target_mean)\n",
    "X_test['uni_fl'].fillna(total_target_mean,inplace=True)"
   ]
  },
  {
   "cell_type": "code",
   "execution_count": 45,
   "id": "dad602eb",
   "metadata": {},
   "outputs": [],
   "source": [
    "## Combine the airportid and related hour\n",
    "\n",
    "    \n",
    "X_test['arr_airport_hour'] = np.vectorize(airport_hour)(X_test['dest_airport_id'],X_test['crs_arr_time'])\n",
    "X_test['dep_airport_hour'] = np.vectorize(airport_hour)(X_test['origin_airport_id'],X_test['crs_dep_time'])\n",
    "\n",
    "\n",
    "# feature coding\n",
    "#dep_hour_target_mean = X_train.groupby(['dep_airport_hour'])['arr_delay'].mean()\n",
    "X_test['dep_airport_hour'] =X_test['dep_airport_hour'].map(dep_hour_target_mean)\n",
    "#arr_hour_target_mean = X_train.groupby(['arr_airport_hour'])['arr_delay'].mean()\n",
    "X_test['arr_airport_hour'] =X_test['arr_airport_hour'].map(arr_hour_target_mean)\n",
    "\n",
    "X_test['arr_airport_hour'].fillna(total_target_mean,inplace=True)\n",
    "X_test['dep_airport_hour'].fillna(total_target_mean,inplace=True)\n",
    "\n",
    "X_test.drop(columns=['dest_airport_id','crs_arr_time','origin_airport_id','crs_dep_time'],inplace=True)"
   ]
  },
  {
   "cell_type": "code",
   "execution_count": 46,
   "id": "1a14586e",
   "metadata": {
    "id": "91074fc0-666f-4ce1-98fd-6db8f14567c9"
   },
   "outputs": [],
   "source": [
    "\n",
    "#transform fl_date\n",
    "#def getmonth(x):\n",
    "#    return x.split(sep='-')[1]\n",
    "#X_test['month'] = X_test['fl_date'].apply(getmonth)\n",
    "\n",
    "#sin_m, cos_m = transformation(X_test['month'].astype('int32'))\n",
    "#X_test['mon_sin'] = sin_m\n",
    "#X_test['mon_cos'] = cos_m\n",
    "\n",
    "def getdayofweek(x):\n",
    "    year_s, mon_s, day_s = x.split('-')\n",
    "    fl_d = datetime(int(year_s), int(mon_s), int(day_s))\n",
    "    return fl_d.weekday() + 1\n",
    "X_test['day_of_week'] = X_test['fl_date'].apply(getdayofweek)\n",
    "\n",
    "us_holidays = holidays.UnitedStates()\n",
    "def isholiday(x):\n",
    "    year_s, mon_s, day_s = x.split('-')\n",
    "    if datetime(int(year_s), int(mon_s), int(day_s)) in us_holidays:\n",
    "        return 1\n",
    "    else:\n",
    "        return 0\n",
    "X_test['is_holiday'] = X_test['fl_date'].apply(isholiday)\n",
    "\n",
    "\n",
    "\n",
    "pi=3.14159\n",
    "def transformation(column):\n",
    "  max_value = column.max()\n",
    "  sin_values = [math.sin((2*pi*x)/max_value) for x in list(column)]\n",
    "  cos_values = [math.cos((2*pi*x)/max_value) for x in list(column)]\n",
    "  return sin_values, cos_values\n",
    "\n",
    "sin_l, cos_l = transformation(X_test['day_of_week'])\n",
    "\n",
    "X_test['dow_sin'] = sin_l\n",
    "X_test['dow_cos'] = cos_l\n",
    "\n"
   ]
  },
  {
   "cell_type": "code",
   "execution_count": 38,
   "id": "c3f3e3a8",
   "metadata": {},
   "outputs": [],
   "source": []
  },
  {
   "cell_type": "code",
   "execution_count": 47,
   "id": "1607eb0a",
   "metadata": {
    "id": "e825a156-999d-4e66-95b7-aced207cd477"
   },
   "outputs": [],
   "source": [
    "y_test = X_test['arr_delay']\n",
    "X_test = X_test.drop(columns=['fl_date','day_of_week','arr_delay'])\n",
    "\n",
    "#X_test = pd.get_dummies(X_test,columns=['month','day_of_week'])\n",
    "\n",
    "#X_test = scaler.transform(X_test)"
   ]
  },
  {
   "cell_type": "code",
   "execution_count": null,
   "id": "19e60f9b",
   "metadata": {},
   "outputs": [],
   "source": []
  },
  {
   "cell_type": "code",
   "execution_count": 55,
   "id": "f6aea11c",
   "metadata": {},
   "outputs": [
    {
     "data": {
      "text/plain": [
       "['distance',\n",
       " 'tmpf',\n",
       " 'sknt',\n",
       " 'vsby',\n",
       " 'gust',\n",
       " 'skyl1',\n",
       " 'ice_accretion_3hr',\n",
       " 'tmpf_arr',\n",
       " 'sknt_arr',\n",
       " 'vsby_arr',\n",
       " 'gust_arr',\n",
       " 'skyl1_arr',\n",
       " 'ice_accretion_3hr_arr',\n",
       " 'uni_fl',\n",
       " 'arr_airport_hour',\n",
       " 'dep_airport_hour',\n",
       " 'is_holiday',\n",
       " 'dow_sin',\n",
       " 'dow_cos']"
      ]
     },
     "execution_count": 55,
     "metadata": {},
     "output_type": "execute_result"
    }
   ],
   "source": [
    "X_test.columns.tolist()"
   ]
  },
  {
   "cell_type": "code",
   "execution_count": 1,
   "id": "7e7c4776",
   "metadata": {
    "id": "wrqH53hG1rsI"
   },
   "outputs": [],
   "source": [
    "###  XGBoost Modeling"
   ]
  },
  {
   "cell_type": "code",
   "execution_count": 17,
   "id": "8e53208a",
   "metadata": {},
   "outputs": [
    {
     "name": "stdout",
     "output_type": "stream",
     "text": [
      "Baseline MAE is 24.10\n"
     ]
    }
   ],
   "source": [
    "## build benchmark\n",
    "mean_train = np.mean(y_train)\n",
    "# Get predictions on the test set\n",
    "baseline_predictions = np.ones(y_test.shape) * mean_train\n",
    "# Compute MAE\n",
    "mae_baseline = mean_absolute_error(y_test, baseline_predictions)\n",
    "print(\"Baseline MAE is {:.2f}\".format(mae_baseline))"
   ]
  },
  {
   "cell_type": "code",
   "execution_count": 20,
   "id": "09b0be33",
   "metadata": {
    "id": "d3h-Z4YS1we8"
   },
   "outputs": [],
   "source": [
    "dtrain = xgb.DMatrix(X_train, label=y_train)\n",
    "dtest = xgb.DMatrix(X_test, label=y_test)"
   ]
  },
  {
   "cell_type": "code",
   "execution_count": 40,
   "id": "4d9968fe",
   "metadata": {},
   "outputs": [],
   "source": [
    "dtest = xgb.DMatrix(X_test)"
   ]
  },
  {
   "cell_type": "code",
   "execution_count": 21,
   "id": "c2fc4f7c",
   "metadata": {
    "id": "HqmjQ3Vt3i-z"
   },
   "outputs": [],
   "source": [
    "params = {\n",
    "    # Parameters that we are going to tune.\n",
    "    'max_depth':11,\n",
    "    'min_child_weight': 5,\n",
    "    'eta':.3,\n",
    "    'subsample': 0.8,\n",
    "    'colsample_bytree': 1,\n",
    "    # Other parameters\n",
    "    'objective':'reg:squarederror',\n",
    "}"
   ]
  },
  {
   "cell_type": "code",
   "execution_count": 46,
   "id": "6adb3864",
   "metadata": {
    "id": "fPh_yhhc4BUd"
   },
   "outputs": [],
   "source": [
    "num_boost_round = 500"
   ]
  },
  {
   "cell_type": "code",
   "execution_count": 41,
   "id": "38b06e40",
   "metadata": {},
   "outputs": [
    {
     "data": {
      "text/plain": [
       "{'max_depth': 12,\n",
       " 'min_child_weight': 8,\n",
       " 'eta': 0.1,\n",
       " 'subsample': 1.0,\n",
       " 'colsample_bytree': 1.0,\n",
       " 'objective': 'reg:squarederror'}"
      ]
     },
     "execution_count": 41,
     "metadata": {},
     "output_type": "execute_result"
    }
   ],
   "source": [
    "params"
   ]
  },
  {
   "cell_type": "code",
   "execution_count": 47,
   "id": "8a381223",
   "metadata": {
    "colab": {
     "base_uri": "https://localhost:8080/"
    },
    "id": "14a09f24-70ca-4b4f-908e-c714d3505d81",
    "outputId": "ac2d431a-4f32-4ad0-c10c-bc27858f3c46"
   },
   "outputs": [
    {
     "name": "stdout",
     "output_type": "stream",
     "text": [
      "[0]\tTest-rmse:51.20920\n",
      "[1]\tTest-rmse:50.92854\n",
      "[2]\tTest-rmse:50.69104\n",
      "[3]\tTest-rmse:50.48877\n",
      "[4]\tTest-rmse:50.32322\n",
      "[5]\tTest-rmse:50.18262\n",
      "[6]\tTest-rmse:50.06393\n",
      "[7]\tTest-rmse:49.96063\n",
      "[8]\tTest-rmse:49.88371\n",
      "[9]\tTest-rmse:49.81524\n",
      "[10]\tTest-rmse:49.75923\n",
      "[11]\tTest-rmse:49.71231\n",
      "[12]\tTest-rmse:49.67196\n",
      "[13]\tTest-rmse:49.63862\n",
      "[14]\tTest-rmse:49.60767\n",
      "[15]\tTest-rmse:49.57820\n",
      "[16]\tTest-rmse:49.55329\n",
      "[17]\tTest-rmse:49.52473\n",
      "[18]\tTest-rmse:49.50364\n",
      "[19]\tTest-rmse:49.48058\n",
      "[20]\tTest-rmse:49.46899\n",
      "[21]\tTest-rmse:49.45284\n",
      "[22]\tTest-rmse:49.44171\n",
      "[23]\tTest-rmse:49.42855\n",
      "[24]\tTest-rmse:49.41633\n",
      "[25]\tTest-rmse:49.40064\n",
      "[26]\tTest-rmse:49.38629\n",
      "[27]\tTest-rmse:49.37100\n",
      "[28]\tTest-rmse:49.36093\n",
      "[29]\tTest-rmse:49.35405\n",
      "[30]\tTest-rmse:49.34539\n",
      "[31]\tTest-rmse:49.32847\n",
      "[32]\tTest-rmse:49.32617\n",
      "[33]\tTest-rmse:49.30929\n",
      "[34]\tTest-rmse:49.30367\n",
      "[35]\tTest-rmse:49.29261\n",
      "[36]\tTest-rmse:49.28808\n",
      "[37]\tTest-rmse:49.26897\n",
      "[38]\tTest-rmse:49.26466\n",
      "[39]\tTest-rmse:49.25057\n",
      "[40]\tTest-rmse:49.24612\n",
      "[41]\tTest-rmse:49.24187\n",
      "[42]\tTest-rmse:49.22122\n",
      "[43]\tTest-rmse:49.19771\n",
      "[44]\tTest-rmse:49.18812\n",
      "[45]\tTest-rmse:49.17638\n",
      "[46]\tTest-rmse:49.15800\n",
      "[47]\tTest-rmse:49.14906\n",
      "[48]\tTest-rmse:49.14148\n",
      "[49]\tTest-rmse:49.13745\n",
      "[50]\tTest-rmse:49.12960\n",
      "[51]\tTest-rmse:49.12273\n",
      "[52]\tTest-rmse:49.12193\n",
      "[53]\tTest-rmse:49.10762\n",
      "[54]\tTest-rmse:49.10410\n",
      "[55]\tTest-rmse:49.10175\n",
      "[56]\tTest-rmse:49.09899\n",
      "[57]\tTest-rmse:49.09839\n",
      "[58]\tTest-rmse:49.09516\n",
      "[59]\tTest-rmse:49.08873\n",
      "[60]\tTest-rmse:49.08576\n",
      "[61]\tTest-rmse:49.07658\n",
      "[62]\tTest-rmse:49.07523\n",
      "[63]\tTest-rmse:49.07194\n",
      "[64]\tTest-rmse:49.06647\n",
      "[65]\tTest-rmse:49.06252\n",
      "[66]\tTest-rmse:49.05846\n",
      "[67]\tTest-rmse:49.05785\n",
      "[68]\tTest-rmse:49.05689\n",
      "[69]\tTest-rmse:49.04907\n",
      "[70]\tTest-rmse:49.04773\n",
      "[71]\tTest-rmse:49.04213\n",
      "[72]\tTest-rmse:49.03954\n",
      "[73]\tTest-rmse:49.03576\n",
      "[74]\tTest-rmse:49.03085\n",
      "[75]\tTest-rmse:49.03045\n",
      "[76]\tTest-rmse:49.02843\n",
      "[77]\tTest-rmse:49.02384\n",
      "[78]\tTest-rmse:49.02134\n",
      "[79]\tTest-rmse:49.01069\n",
      "[80]\tTest-rmse:49.00917\n",
      "[81]\tTest-rmse:49.00151\n",
      "[82]\tTest-rmse:48.99662\n",
      "[83]\tTest-rmse:48.98701\n",
      "[84]\tTest-rmse:48.98581\n",
      "[85]\tTest-rmse:48.97656\n",
      "[86]\tTest-rmse:48.97589\n",
      "[87]\tTest-rmse:48.96906\n",
      "[88]\tTest-rmse:48.96636\n",
      "[89]\tTest-rmse:48.96567\n",
      "[90]\tTest-rmse:48.96338\n",
      "[91]\tTest-rmse:48.96125\n",
      "[92]\tTest-rmse:48.95920\n",
      "[93]\tTest-rmse:48.95760\n",
      "[94]\tTest-rmse:48.95551\n",
      "[95]\tTest-rmse:48.95481\n",
      "[96]\tTest-rmse:48.95374\n",
      "[97]\tTest-rmse:48.94796\n",
      "[98]\tTest-rmse:48.94203\n",
      "[99]\tTest-rmse:48.94079\n",
      "[100]\tTest-rmse:48.93718\n",
      "[101]\tTest-rmse:48.93269\n",
      "[102]\tTest-rmse:48.93182\n",
      "[103]\tTest-rmse:48.92564\n",
      "[104]\tTest-rmse:48.92284\n",
      "[105]\tTest-rmse:48.91473\n",
      "[106]\tTest-rmse:48.91167\n",
      "[107]\tTest-rmse:48.91173\n",
      "[108]\tTest-rmse:48.91199\n",
      "[109]\tTest-rmse:48.91024\n",
      "[110]\tTest-rmse:48.91109\n",
      "[111]\tTest-rmse:48.90993\n",
      "[112]\tTest-rmse:48.90837\n",
      "[113]\tTest-rmse:48.90888\n",
      "[114]\tTest-rmse:48.90731\n",
      "[115]\tTest-rmse:48.90572\n",
      "[116]\tTest-rmse:48.90606\n",
      "[117]\tTest-rmse:48.90331\n",
      "[118]\tTest-rmse:48.89819\n",
      "[119]\tTest-rmse:48.89476\n",
      "[120]\tTest-rmse:48.88968\n",
      "[121]\tTest-rmse:48.88420\n",
      "[122]\tTest-rmse:48.87965\n",
      "[123]\tTest-rmse:48.87580\n",
      "[124]\tTest-rmse:48.87455\n",
      "[125]\tTest-rmse:48.87386\n",
      "[126]\tTest-rmse:48.87442\n",
      "[127]\tTest-rmse:48.87214\n",
      "[128]\tTest-rmse:48.87092\n",
      "[129]\tTest-rmse:48.87104\n",
      "[130]\tTest-rmse:48.86910\n",
      "[131]\tTest-rmse:48.86657\n",
      "[132]\tTest-rmse:48.85968\n",
      "[133]\tTest-rmse:48.85588\n",
      "[134]\tTest-rmse:48.85627\n",
      "[135]\tTest-rmse:48.85636\n",
      "[136]\tTest-rmse:48.84719\n",
      "[137]\tTest-rmse:48.84477\n",
      "[138]\tTest-rmse:48.84370\n",
      "[139]\tTest-rmse:48.84159\n",
      "[140]\tTest-rmse:48.83603\n",
      "[141]\tTest-rmse:48.83374\n",
      "[142]\tTest-rmse:48.83104\n",
      "[143]\tTest-rmse:48.83181\n",
      "[144]\tTest-rmse:48.83334\n",
      "[145]\tTest-rmse:48.83066\n",
      "[146]\tTest-rmse:48.83028\n",
      "[147]\tTest-rmse:48.82640\n",
      "[148]\tTest-rmse:48.82065\n",
      "[149]\tTest-rmse:48.81289\n",
      "[150]\tTest-rmse:48.81284\n",
      "[151]\tTest-rmse:48.81208\n",
      "[152]\tTest-rmse:48.81213\n",
      "[153]\tTest-rmse:48.81059\n",
      "[154]\tTest-rmse:48.80758\n",
      "[155]\tTest-rmse:48.80726\n",
      "[156]\tTest-rmse:48.80792\n",
      "[157]\tTest-rmse:48.79835\n",
      "[158]\tTest-rmse:48.79665\n",
      "[159]\tTest-rmse:48.79530\n",
      "[160]\tTest-rmse:48.79002\n",
      "[161]\tTest-rmse:48.78176\n",
      "[162]\tTest-rmse:48.77696\n",
      "[163]\tTest-rmse:48.77543\n",
      "[164]\tTest-rmse:48.77490\n",
      "[165]\tTest-rmse:48.77465\n",
      "[166]\tTest-rmse:48.77306\n",
      "[167]\tTest-rmse:48.77292\n",
      "[168]\tTest-rmse:48.77102\n",
      "[169]\tTest-rmse:48.76735\n",
      "[170]\tTest-rmse:48.76662\n",
      "[171]\tTest-rmse:48.76438\n",
      "[172]\tTest-rmse:48.76062\n",
      "[173]\tTest-rmse:48.75855\n",
      "[174]\tTest-rmse:48.75293\n",
      "[175]\tTest-rmse:48.75075\n",
      "[176]\tTest-rmse:48.75037\n",
      "[177]\tTest-rmse:48.75089\n",
      "[178]\tTest-rmse:48.75131\n",
      "[179]\tTest-rmse:48.75098\n",
      "[180]\tTest-rmse:48.75009\n",
      "[181]\tTest-rmse:48.74995\n",
      "[182]\tTest-rmse:48.74877\n",
      "[183]\tTest-rmse:48.74760\n",
      "[184]\tTest-rmse:48.74348\n",
      "[185]\tTest-rmse:48.74303\n",
      "[186]\tTest-rmse:48.73814\n",
      "[187]\tTest-rmse:48.73808\n",
      "[188]\tTest-rmse:48.73722\n",
      "[189]\tTest-rmse:48.73569\n",
      "[190]\tTest-rmse:48.73403\n",
      "[191]\tTest-rmse:48.73383\n",
      "[192]\tTest-rmse:48.73258\n",
      "[193]\tTest-rmse:48.73278\n",
      "[194]\tTest-rmse:48.73295\n",
      "[195]\tTest-rmse:48.72854\n",
      "[196]\tTest-rmse:48.72722\n",
      "[197]\tTest-rmse:48.72394\n",
      "[198]\tTest-rmse:48.71741\n",
      "[199]\tTest-rmse:48.71637\n",
      "[200]\tTest-rmse:48.71293\n",
      "[201]\tTest-rmse:48.71279\n",
      "[202]\tTest-rmse:48.71155\n",
      "[203]\tTest-rmse:48.71057\n",
      "[204]\tTest-rmse:48.70838\n",
      "[205]\tTest-rmse:48.70900\n",
      "[206]\tTest-rmse:48.70916\n",
      "[207]\tTest-rmse:48.70787\n",
      "[208]\tTest-rmse:48.70596\n",
      "[209]\tTest-rmse:48.70403\n",
      "[210]\tTest-rmse:48.70363\n",
      "[211]\tTest-rmse:48.70332\n",
      "[212]\tTest-rmse:48.70441\n",
      "[213]\tTest-rmse:48.70402\n",
      "[214]\tTest-rmse:48.70214\n",
      "[215]\tTest-rmse:48.69800\n",
      "[216]\tTest-rmse:48.69940\n",
      "[217]\tTest-rmse:48.69632\n",
      "[218]\tTest-rmse:48.69058\n",
      "[219]\tTest-rmse:48.69054\n",
      "[220]\tTest-rmse:48.68918\n",
      "[221]\tTest-rmse:48.68934\n",
      "[222]\tTest-rmse:48.68893\n",
      "[223]\tTest-rmse:48.68898\n",
      "[224]\tTest-rmse:48.69048\n",
      "[225]\tTest-rmse:48.69114\n",
      "[226]\tTest-rmse:48.68990\n",
      "[227]\tTest-rmse:48.68986\n",
      "[228]\tTest-rmse:48.68881\n",
      "[229]\tTest-rmse:48.68841\n",
      "[230]\tTest-rmse:48.68840\n",
      "[231]\tTest-rmse:48.68514\n",
      "[232]\tTest-rmse:48.68413\n",
      "[233]\tTest-rmse:48.68340\n",
      "[234]\tTest-rmse:48.68319\n",
      "[235]\tTest-rmse:48.68200\n",
      "[236]\tTest-rmse:48.68208\n",
      "[237]\tTest-rmse:48.68153\n",
      "[238]\tTest-rmse:48.67950\n",
      "[239]\tTest-rmse:48.67350\n",
      "[240]\tTest-rmse:48.67380\n",
      "[241]\tTest-rmse:48.67170\n",
      "[242]\tTest-rmse:48.67125\n",
      "[243]\tTest-rmse:48.66981\n",
      "[244]\tTest-rmse:48.66822\n",
      "[245]\tTest-rmse:48.66704\n",
      "[246]\tTest-rmse:48.66602\n",
      "[247]\tTest-rmse:48.66216\n",
      "[248]\tTest-rmse:48.66099\n",
      "[249]\tTest-rmse:48.66242\n",
      "[250]\tTest-rmse:48.66237\n",
      "[251]\tTest-rmse:48.66036\n",
      "[252]\tTest-rmse:48.66019\n",
      "[253]\tTest-rmse:48.66029\n",
      "[254]\tTest-rmse:48.66067\n",
      "[255]\tTest-rmse:48.66011\n",
      "[256]\tTest-rmse:48.65995\n",
      "[257]\tTest-rmse:48.65987\n",
      "[258]\tTest-rmse:48.65961\n",
      "[259]\tTest-rmse:48.65701\n",
      "[260]\tTest-rmse:48.65640\n",
      "[261]\tTest-rmse:48.65580\n",
      "[262]\tTest-rmse:48.65562\n",
      "[263]\tTest-rmse:48.65529\n",
      "[264]\tTest-rmse:48.65463\n",
      "[265]\tTest-rmse:48.65559\n",
      "[266]\tTest-rmse:48.65557\n",
      "[267]\tTest-rmse:48.65573\n",
      "[268]\tTest-rmse:48.65528\n",
      "[269]\tTest-rmse:48.65471\n",
      "[270]\tTest-rmse:48.65345\n",
      "[271]\tTest-rmse:48.65390\n",
      "[272]\tTest-rmse:48.65285\n",
      "[273]\tTest-rmse:48.65102\n",
      "[274]\tTest-rmse:48.65122\n",
      "[275]\tTest-rmse:48.65179\n",
      "[276]\tTest-rmse:48.65217\n",
      "[277]\tTest-rmse:48.65223\n",
      "[278]\tTest-rmse:48.64957\n",
      "[279]\tTest-rmse:48.64932\n",
      "[280]\tTest-rmse:48.64856\n",
      "[281]\tTest-rmse:48.64933\n",
      "[282]\tTest-rmse:48.64901\n",
      "[283]\tTest-rmse:48.64974\n",
      "[284]\tTest-rmse:48.64852\n",
      "[285]\tTest-rmse:48.64823\n",
      "[286]\tTest-rmse:48.64801\n",
      "[287]\tTest-rmse:48.64773\n",
      "[288]\tTest-rmse:48.64311\n",
      "[289]\tTest-rmse:48.64379\n",
      "[290]\tTest-rmse:48.64207\n",
      "[291]\tTest-rmse:48.64311\n",
      "[292]\tTest-rmse:48.64092\n",
      "[293]\tTest-rmse:48.64000\n",
      "[294]\tTest-rmse:48.63776\n",
      "[295]\tTest-rmse:48.63805\n",
      "[296]\tTest-rmse:48.63786\n",
      "[297]\tTest-rmse:48.63689\n",
      "[298]\tTest-rmse:48.63672\n",
      "[299]\tTest-rmse:48.63041\n",
      "[300]\tTest-rmse:48.63046\n",
      "[301]\tTest-rmse:48.63005\n",
      "[302]\tTest-rmse:48.63065\n",
      "[303]\tTest-rmse:48.63023\n",
      "[304]\tTest-rmse:48.63041\n",
      "[305]\tTest-rmse:48.62947\n",
      "[306]\tTest-rmse:48.62934\n",
      "[307]\tTest-rmse:48.62826\n",
      "[308]\tTest-rmse:48.62880\n",
      "[309]\tTest-rmse:48.62814\n",
      "[310]\tTest-rmse:48.62672\n",
      "[311]\tTest-rmse:48.62555\n",
      "[312]\tTest-rmse:48.62432\n",
      "[313]\tTest-rmse:48.62372\n",
      "[314]\tTest-rmse:48.62246\n",
      "[315]\tTest-rmse:48.62240\n",
      "[316]\tTest-rmse:48.62013\n",
      "[317]\tTest-rmse:48.61887\n",
      "[318]\tTest-rmse:48.61841\n",
      "[319]\tTest-rmse:48.62010\n",
      "[320]\tTest-rmse:48.61733\n",
      "[321]\tTest-rmse:48.61425\n",
      "[322]\tTest-rmse:48.61305\n",
      "[323]\tTest-rmse:48.61418\n",
      "[324]\tTest-rmse:48.61307\n",
      "[325]\tTest-rmse:48.61226\n",
      "[326]\tTest-rmse:48.61282\n",
      "[327]\tTest-rmse:48.61300\n",
      "[328]\tTest-rmse:48.61227\n",
      "[329]\tTest-rmse:48.61314\n",
      "[330]\tTest-rmse:48.61316\n",
      "[331]\tTest-rmse:48.61335\n",
      "[332]\tTest-rmse:48.61208\n",
      "[333]\tTest-rmse:48.61195\n",
      "[334]\tTest-rmse:48.61211\n",
      "[335]\tTest-rmse:48.61168\n",
      "[336]\tTest-rmse:48.61160\n",
      "[337]\tTest-rmse:48.61127\n",
      "[338]\tTest-rmse:48.61224\n",
      "[339]\tTest-rmse:48.61309\n",
      "[340]\tTest-rmse:48.61283\n",
      "[341]\tTest-rmse:48.61374\n",
      "[342]\tTest-rmse:48.61319\n",
      "[343]\tTest-rmse:48.61420\n",
      "[344]\tTest-rmse:48.61492\n",
      "[345]\tTest-rmse:48.61428\n",
      "[346]\tTest-rmse:48.61457\n",
      "[347]\tTest-rmse:48.61595\n"
     ]
    }
   ],
   "source": [
    "model = xgb.train(\n",
    "    params,\n",
    "    dtrain,\n",
    "    num_boost_round=num_boost_round,\n",
    "    evals=[(dtest, \"Test\")],\n",
    "    early_stopping_rounds=10\n",
    ")"
   ]
  },
  {
   "cell_type": "code",
   "execution_count": 84,
   "id": "85b077c9",
   "metadata": {
    "id": "_rJPxGTWHVwk"
   },
   "outputs": [],
   "source": [
    "y_pred = model.predict(dtest)"
   ]
  },
  {
   "cell_type": "code",
   "execution_count": 49,
   "id": "6e674c80",
   "metadata": {},
   "outputs": [
    {
     "data": {
      "text/plain": [
       "0.10632535011862199"
      ]
     },
     "execution_count": 49,
     "metadata": {},
     "output_type": "execute_result"
    }
   ],
   "source": [
    "r2_score(y_test, y_pred)"
   ]
  },
  {
   "cell_type": "code",
   "execution_count": 85,
   "id": "60e5cd87",
   "metadata": {},
   "outputs": [
    {
     "data": {
      "text/plain": [
       "0.10632535011862199"
      ]
     },
     "execution_count": 85,
     "metadata": {},
     "output_type": "execute_result"
    }
   ],
   "source": [
    "r2_score(y_test, y_pred)"
   ]
  },
  {
   "cell_type": "code",
   "execution_count": 67,
   "id": "5e6fd48f",
   "metadata": {},
   "outputs": [
    {
     "data": {
      "text/plain": [
       "-0.13822176"
      ]
     },
     "execution_count": 67,
     "metadata": {},
     "output_type": "execute_result"
    }
   ],
   "source": [
    "np.mean(y_pred)"
   ]
  },
  {
   "cell_type": "code",
   "execution_count": 86,
   "id": "b4c4375f",
   "metadata": {},
   "outputs": [
    {
     "data": {
      "text/plain": [
       "2.9101858"
      ]
     },
     "execution_count": 86,
     "metadata": {},
     "output_type": "execute_result"
    }
   ],
   "source": [
    "np.mean(y_pred)"
   ]
  },
  {
   "cell_type": "code",
   "execution_count": 27,
   "id": "25b085e7",
   "metadata": {
    "id": "yNnjAjc3aMZT"
   },
   "outputs": [],
   "source": [
    "gridsearch_params = [\n",
    "    (subsample, colsample)\n",
    "    for subsample in [i/10. for i in range(6,11)]\n",
    "    for colsample in [i/10. for i in range(8,11)]\n",
    "]"
   ]
  },
  {
   "cell_type": "code",
   "execution_count": 28,
   "id": "c2bfcd2e",
   "metadata": {
    "colab": {
     "base_uri": "https://localhost:8080/"
    },
    "id": "rJzgW2RDjVHY",
    "outputId": "9ff389a6-5a1c-4014-92d5-9b1f346b8e94"
   },
   "outputs": [
    {
     "name": "stdout",
     "output_type": "stream",
     "text": [
      "CV with subsample=1.0, colsample=1.0\n",
      "\tMAE 20.828282199999997 for 29 rounds\n",
      "CV with subsample=1.0, colsample=0.9\n",
      "\tMAE 21.021713400000003 for 4 rounds\n",
      "CV with subsample=1.0, colsample=0.8\n",
      "\tMAE 21.0093928 for 5 rounds\n",
      "CV with subsample=0.9, colsample=1.0\n",
      "\tMAE 21.044908799999998 for 3 rounds\n",
      "CV with subsample=0.9, colsample=0.9\n",
      "\tMAE 20.8410932 for 29 rounds\n",
      "CV with subsample=0.9, colsample=0.8\n",
      "\tMAE 20.8470106 for 29 rounds\n",
      "CV with subsample=0.8, colsample=1.0\n",
      "\tMAE 21.0612216 for 3 rounds\n",
      "CV with subsample=0.8, colsample=0.9\n",
      "\tMAE 20.922130600000003 for 29 rounds\n",
      "CV with subsample=0.8, colsample=0.8\n",
      "\tMAE 21.026153400000002 for 6 rounds\n",
      "CV with subsample=0.7, colsample=1.0\n",
      "\tMAE 21.080008600000003 for 3 rounds\n",
      "CV with subsample=0.7, colsample=0.9\n",
      "\tMAE 20.980058399999997 for 26 rounds\n",
      "CV with subsample=0.7, colsample=0.8\n",
      "\tMAE 21.0566214 for 6 rounds\n",
      "CV with subsample=0.6, colsample=1.0\n",
      "\tMAE 21.095358600000004 for 3 rounds\n",
      "CV with subsample=0.6, colsample=0.9\n",
      "\tMAE 21.099454799999997 for 5 rounds\n",
      "CV with subsample=0.6, colsample=0.8\n",
      "\tMAE 21.0878788 for 5 rounds\n",
      "Best params: 1.0, 1.0, MAE: 20.828282199999997\n"
     ]
    }
   ],
   "source": [
    "min_mae = float(\"Inf\")\n",
    "best_params = None\n",
    "# We start by the largest values and go down to the smallest\n",
    "for subsample, colsample in reversed(gridsearch_params):\n",
    "    print(\"CV with subsample={}, colsample={}\".format(\n",
    "                             subsample,\n",
    "                             colsample))\n",
    "    # We update our parameters\n",
    "    params['subsample'] = subsample\n",
    "    params['colsample_bytree'] = colsample\n",
    "    # Run CV\n",
    "    cv_results = xgb.cv(\n",
    "        params,\n",
    "        dtrain,\n",
    "        num_boost_round=num_boost_round,\n",
    "        seed=42,\n",
    "        nfold=5,\n",
    "        metrics={'mae'},\n",
    "        early_stopping_rounds=3\n",
    "    )\n",
    "    # Update best score\n",
    "    mean_mae = cv_results['test-mae-mean'].min()\n",
    "    boost_rounds = cv_results['test-mae-mean'].argmin()\n",
    "    print(\"\\tMAE {} for {} rounds\".format(mean_mae, boost_rounds))\n",
    "    if mean_mae < min_mae:\n",
    "        min_mae = mean_mae\n",
    "        best_params = (subsample,colsample)\n",
    "print(\"Best params: {}, {}, MAE: {}\".format(best_params[0], best_params[1], min_mae))"
   ]
  },
  {
   "cell_type": "code",
   "execution_count": 29,
   "id": "2787f1ef",
   "metadata": {},
   "outputs": [],
   "source": [
    "params['subsample'] = 1.\n",
    "params['colsample_bytree'] = 1."
   ]
  },
  {
   "cell_type": "code",
   "execution_count": 31,
   "id": "6baedf90",
   "metadata": {
    "colab": {
     "base_uri": "https://localhost:8080/"
    },
    "id": "rJzgW2RDjVHY",
    "outputId": "9ff389a6-5a1c-4014-92d5-9b1f346b8e94"
   },
   "outputs": [],
   "source": [
    "gridsearch_params = [\n",
    "    (max_depth, min_child_weight)\n",
    "    for max_depth in range(6,13,3)\n",
    "    for min_child_weight in range(2,9,3)\n",
    "]"
   ]
  },
  {
   "cell_type": "code",
   "execution_count": 32,
   "id": "8734e66d",
   "metadata": {},
   "outputs": [
    {
     "name": "stdout",
     "output_type": "stream",
     "text": [
      "CV with max_depth=6, min_child_weight=2\n",
      "\tMAE 21.1088116 for 29 rounds\n",
      "CV with max_depth=6, min_child_weight=5\n",
      "\tMAE 21.1058972 for 29 rounds\n",
      "CV with max_depth=6, min_child_weight=8\n",
      "\tMAE 21.1073398 for 29 rounds\n",
      "CV with max_depth=9, min_child_weight=2\n",
      "\tMAE 20.874133800000003 for 29 rounds\n",
      "CV with max_depth=9, min_child_weight=5\n",
      "\tMAE 20.882386 for 29 rounds\n",
      "CV with max_depth=9, min_child_weight=8\n",
      "\tMAE 20.874651800000002 for 29 rounds\n",
      "CV with max_depth=12, min_child_weight=2\n",
      "\tMAE 20.8730242 for 29 rounds\n",
      "CV with max_depth=12, min_child_weight=5\n",
      "\tMAE 20.8632702 for 29 rounds\n",
      "CV with max_depth=12, min_child_weight=8\n",
      "\tMAE 20.854372400000003 for 29 rounds\n",
      "Best params: 12, 8, MAE: 20.854372400000003\n"
     ]
    }
   ],
   "source": [
    "# Define initial best params and MAE\n",
    "min_mae = float(\"Inf\")\n",
    "best_params = None\n",
    "for max_depth, min_child_weight in gridsearch_params:\n",
    "    print(\"CV with max_depth={}, min_child_weight={}\".format(\n",
    "                             max_depth,\n",
    "                             min_child_weight))\n",
    "    # Update our parameters\n",
    "    params['max_depth'] = max_depth\n",
    "    params['min_child_weight'] = min_child_weight\n",
    "    # Run CV\n",
    "    cv_results = xgb.cv(\n",
    "        params,\n",
    "        dtrain,\n",
    "        num_boost_round=num_boost_round,\n",
    "        seed=42,\n",
    "        nfold=5,\n",
    "        metrics={'mae'},\n",
    "        early_stopping_rounds=10\n",
    "    )\n",
    "    # Update best MAE\n",
    "    mean_mae = cv_results['test-mae-mean'].min()\n",
    "    boost_rounds = cv_results['test-mae-mean'].argmin()\n",
    "    print(\"\\tMAE {} for {} rounds\".format(mean_mae, boost_rounds))\n",
    "    if mean_mae < min_mae:\n",
    "        min_mae = mean_mae\n",
    "        best_params = (max_depth,min_child_weight)\n",
    "print(\"Best params: {}, {}, MAE: {}\".format(best_params[0], best_params[1], min_mae))"
   ]
  },
  {
   "cell_type": "code",
   "execution_count": 33,
   "id": "780ee919",
   "metadata": {},
   "outputs": [],
   "source": [
    "params['max_depth'] = 12\n",
    "params['min_child_weight'] = 8"
   ]
  },
  {
   "cell_type": "code",
   "execution_count": 39,
   "id": "07ba1c66",
   "metadata": {},
   "outputs": [
    {
     "name": "stdout",
     "output_type": "stream",
     "text": [
      "CPU times: user 7 µs, sys: 0 ns, total: 7 µs\n",
      "Wall time: 12.9 µs\n",
      "CV with eta=0.3\n",
      "CPU times: user 39min 44s, sys: 37 s, total: 40min 21s\n",
      "Wall time: 1min 9s\n",
      "\tMAE 20.8174058 for 42 rounds\n",
      "\n",
      "CV with eta=0.1\n",
      "CPU times: user 1h 13min 38s, sys: 1min 5s, total: 1h 14min 43s\n",
      "Wall time: 2min 6s\n",
      "\tMAE 20.592021600000002 for 99 rounds\n",
      "\n",
      "CV with eta=0.05\n",
      "CPU times: user 1h 18min 27s, sys: 1min 10s, total: 1h 19min 38s\n",
      "Wall time: 2min 14s\n",
      "\tMAE 20.6861096 for 99 rounds\n",
      "\n",
      "CV with eta=0.01\n",
      "CPU times: user 1h 14min 41s, sys: 1min 6s, total: 1h 15min 48s\n",
      "Wall time: 2min 8s\n",
      "\tMAE 20.9193024 for 99 rounds\n",
      "\n",
      "CV with eta=0.005\n",
      "CPU times: user 1h 24min 28s, sys: 1min 18s, total: 1h 25min 47s\n",
      "Wall time: 2min 24s\n",
      "\tMAE 21.1582538 for 99 rounds\n",
      "\n",
      "Best params: 0.1, MAE: 20.592021600000002\n"
     ]
    }
   ],
   "source": [
    "%time\n",
    "# This can take some time…\n",
    "min_mae = float(\"Inf\")\n",
    "best_params = None\n",
    "for eta in [.3,  .1, .05, .01, .005]:\n",
    "    print(\"CV with eta={}\".format(eta))\n",
    "    # We update our parameters\n",
    "    params['eta'] = eta\n",
    "    # Run and time CV\n",
    "    %time  cv_results = xgb.cv(params, dtrain, num_boost_round=num_boost_round, seed=42,  nfold=5,metrics=['mae'],early_stopping_rounds=10)\n",
    "    # Update best score\n",
    "    mean_mae = cv_results['test-mae-mean'].min()\n",
    "    boost_rounds = cv_results['test-mae-mean'].argmin()\n",
    "    print(\"\\tMAE {} for {} rounds\\n\".format(mean_mae, boost_rounds))\n",
    "    if mean_mae < min_mae:\n",
    "        min_mae = mean_mae\n",
    "        best_params = eta\n",
    "print(\"Best params: {}, MAE: {}\".format(best_params, min_mae))"
   ]
  },
  {
   "cell_type": "code",
   "execution_count": 40,
   "id": "d413f176",
   "metadata": {},
   "outputs": [],
   "source": [
    "params['eta'] = 0.1"
   ]
  },
  {
   "cell_type": "code",
   "execution_count": 25,
   "id": "d07426d0",
   "metadata": {},
   "outputs": [
    {
     "data": {
      "text/plain": [
       "0.08636958850864554"
      ]
     },
     "execution_count": 25,
     "metadata": {},
     "output_type": "execute_result"
    }
   ],
   "source": [
    "## flights only data round1\n",
    "grid.best_score_"
   ]
  },
  {
   "cell_type": "code",
   "execution_count": 21,
   "id": "dad03482",
   "metadata": {
    "colab": {
     "base_uri": "https://localhost:8080/"
    },
    "id": "f8yRtaY6Ex2v",
    "outputId": "929ba4d5-538a-452c-c09e-51e2369ab379"
   },
   "outputs": [
    {
     "data": {
      "text/plain": [
       "0.02144653066658464"
      ]
     },
     "execution_count": 21,
     "metadata": {},
     "output_type": "execute_result"
    }
   ],
   "source": [
    "## second round with arr_delay <480\n",
    "#r2_score(y_test, y_pred)"
   ]
  },
  {
   "cell_type": "code",
   "execution_count": 27,
   "id": "99a7e367",
   "metadata": {
    "colab": {
     "base_uri": "https://localhost:8080/"
    },
    "id": "yDDBGFlLGqW9",
    "outputId": "e03b69c0-cf2d-4108-e099-577638215d1a"
   },
   "outputs": [
    {
     "data": {
      "text/plain": [
       "0.013895135285908466"
      ]
     },
     "execution_count": 27,
     "metadata": {},
     "output_type": "execute_result"
    }
   ],
   "source": [
    "## first round with arr_delay < 180\n",
    "#"
   ]
  },
  {
   "cell_type": "code",
   "execution_count": 1,
   "id": "ce75210a",
   "metadata": {},
   "outputs": [],
   "source": [
    "import pickle"
   ]
  },
  {
   "cell_type": "code",
   "execution_count": 51,
   "id": "6ee44cde",
   "metadata": {},
   "outputs": [],
   "source": [
    "pickle.dump(model,open('final_model.sav','wb'))"
   ]
  },
  {
   "cell_type": "code",
   "execution_count": 39,
   "id": "2c4b2943",
   "metadata": {},
   "outputs": [],
   "source": [
    "load_model = pickle.load(open('final_model.sav','rb'))"
   ]
  },
  {
   "cell_type": "code",
   "execution_count": 41,
   "id": "0df2e1c2",
   "metadata": {},
   "outputs": [],
   "source": [
    "y_pred = load_model.predict(dtest)"
   ]
  },
  {
   "cell_type": "code",
   "execution_count": 49,
   "id": "190eac24",
   "metadata": {},
   "outputs": [
    {
     "data": {
      "text/plain": [
       "-0.6838302"
      ]
     },
     "execution_count": 49,
     "metadata": {},
     "output_type": "execute_result"
    }
   ],
   "source": [
    "np.mean(y_pred)"
   ]
  },
  {
   "cell_type": "code",
   "execution_count": 48,
   "id": "70375cdb",
   "metadata": {},
   "outputs": [
    {
     "data": {
      "text/plain": [
       "-0.08041162600054985"
      ]
     },
     "execution_count": 48,
     "metadata": {},
     "output_type": "execute_result"
    }
   ],
   "source": [
    "r2_score(y_test,y_pred)"
   ]
  }
 ],
 "metadata": {
  "colab": {
   "collapsed_sections": [],
   "name": "h_XGboost.ipynb",
   "provenance": [],
   "toc_visible": true
  },
  "kernelspec": {
   "display_name": "Python 3 (ipykernel)",
   "language": "python",
   "name": "python3"
  },
  "language_info": {
   "codemirror_mode": {
    "name": "ipython",
    "version": 3
   },
   "file_extension": ".py",
   "mimetype": "text/x-python",
   "name": "python",
   "nbconvert_exporter": "python",
   "pygments_lexer": "ipython3",
   "version": "3.8.10"
  }
 },
 "nbformat": 4,
 "nbformat_minor": 5
}
