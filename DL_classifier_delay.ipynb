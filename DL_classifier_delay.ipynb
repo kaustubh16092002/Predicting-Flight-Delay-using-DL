{
 "cells": [
  {
   "cell_type": "code",
   "execution_count": 2,
   "id": "767aa084",
   "metadata": {
    "colab": {
     "base_uri": "https://localhost:8080/"
    },
    "id": "Gx6Js4F8VdBf",
    "outputId": "300d454d-5e5f-4c00-b419-febd89d44dd9"
   },
   "outputs": [
    {
     "name": "stdout",
     "output_type": "stream",
     "text": [
      "Drive already mounted at /drive; to attempt to forcibly remount, call drive.mount(\"/drive\", force_remount=True).\n"
     ]
    }
   ],
   "source": [
    "from google.colab import drive\n",
    "drive.mount('/drive')"
   ]
  },
  {
   "cell_type": "markdown",
   "id": "714ec74c-6cd5-4a48-87cd-b9ccf1c669cc",
   "metadata": {},
   "source": [
    "## Apply Deep Learning to predict delay classes"
   ]
  },
  {
   "cell_type": "code",
   "execution_count": 2,
   "id": "095c65c3",
   "metadata": {},
   "outputs": [],
   "source": [
    "## Training with weather data"
   ]
  },
  {
   "cell_type": "code",
   "execution_count": 35,
   "id": "9a8223bf",
   "metadata": {
    "id": "281d07c9-b978-4a43-980d-1a991c1cf0d1"
   },
   "outputs": [
    {
     "ename": "ModuleNotFoundError",
     "evalue": "No module named 'keras'",
     "output_type": "error",
     "traceback": [
      "\u001b[1;31m---------------------------------------------------------------------------\u001b[0m",
      "\u001b[1;31mModuleNotFoundError\u001b[0m                       Traceback (most recent call last)",
      "\u001b[1;32m~\\AppData\\Local\\Temp/ipykernel_336/2313176363.py\u001b[0m in \u001b[0;36m<module>\u001b[1;34m\u001b[0m\n\u001b[0;32m      5\u001b[0m \u001b[1;32mfrom\u001b[0m \u001b[0msklearn\u001b[0m\u001b[1;33m.\u001b[0m\u001b[0mmodel_selection\u001b[0m \u001b[1;32mimport\u001b[0m \u001b[0mtrain_test_split\u001b[0m\u001b[1;33m\u001b[0m\u001b[1;33m\u001b[0m\u001b[0m\n\u001b[0;32m      6\u001b[0m \u001b[1;32mfrom\u001b[0m \u001b[0msklearn\u001b[0m\u001b[1;33m.\u001b[0m\u001b[0mpreprocessing\u001b[0m \u001b[1;32mimport\u001b[0m \u001b[0mStandardScaler\u001b[0m\u001b[1;33m\u001b[0m\u001b[1;33m\u001b[0m\u001b[0m\n\u001b[1;32m----> 7\u001b[1;33m \u001b[1;32mfrom\u001b[0m \u001b[0mkeras\u001b[0m\u001b[1;33m.\u001b[0m\u001b[0mmodels\u001b[0m \u001b[1;32mimport\u001b[0m \u001b[0mSequential\u001b[0m\u001b[1;33m\u001b[0m\u001b[1;33m\u001b[0m\u001b[0m\n\u001b[0m\u001b[0;32m      8\u001b[0m \u001b[1;32mfrom\u001b[0m \u001b[0mkeras\u001b[0m\u001b[1;33m.\u001b[0m\u001b[0mlayers\u001b[0m \u001b[1;32mimport\u001b[0m \u001b[0mDense\u001b[0m\u001b[1;33m\u001b[0m\u001b[1;33m\u001b[0m\u001b[0m\n\u001b[0;32m      9\u001b[0m \u001b[1;32mfrom\u001b[0m \u001b[0mkeras\u001b[0m\u001b[1;33m.\u001b[0m\u001b[0mcallbacks\u001b[0m \u001b[1;32mimport\u001b[0m \u001b[0mEarlyStopping\u001b[0m\u001b[1;33m\u001b[0m\u001b[1;33m\u001b[0m\u001b[0m\n",
      "\u001b[1;31mModuleNotFoundError\u001b[0m: No module named 'keras'"
     ]
    }
   ],
   "source": [
    "import pandas as pd\n",
    "import numpy as np\n",
    "from datetime import datetime\n",
    "import holidays\n",
    "from sklearn.model_selection import train_test_split\n",
    "from sklearn.preprocessing import StandardScaler\n",
    "from keras.models import Sequential\n",
    "from keras.layers import Dense\n",
    "from keras.callbacks import EarlyStopping\n",
    "from keras.backend import clear_session\n",
    "from sklearn.metrics import classification_report, roc_auc_score, confusion_matrix\n",
    "import tensorflow as tf\n",
    "from scipy.stats import  randint\n",
    "from scipy.stats import uniform\n",
    "import math\n",
    "import matplotlib.pyplot as plt\n",
    "import seaborn as sns"
   ]
  },
  {
   "cell_type": "code",
   "execution_count": 3,
   "id": "aa870b17",
   "metadata": {},
   "outputs": [],
   "source": [
    "import warnings\n",
    "warnings.filterwarnings('ignore')"
   ]
  },
  {
   "cell_type": "markdown",
   "id": "3d6be3c3",
   "metadata": {
    "id": "8d5704a2-0584-4232-90cd-0eff389fb4aa"
   },
   "source": [
    "## Build X_train"
   ]
  },
  {
   "cell_type": "code",
   "execution_count": 4,
   "id": "5e28bbd6",
   "metadata": {
    "id": "4d18123c-d7b1-460d-95f7-5d277e6768b5"
   },
   "outputs": [],
   "source": [
    "df_train = pd.read_csv('fl_wea_train.csv')"
   ]
  },
  {
   "cell_type": "code",
   "execution_count": 7,
   "id": "236ef7a2-5a1b-4b14-9bea-181cc66557d9",
   "metadata": {},
   "outputs": [
    {
     "data": {
      "text/plain": [
       "Text(0.5, 1.0, 'Distribution of delay in minutes')"
      ]
     },
     "execution_count": 7,
     "metadata": {},
     "output_type": "execute_result"
    },
    {
     "data": {
      "image/png": "[encoded data removed]",
      "text/plain": [
       "<Figure size 864x216 with 1 Axes>"
      ]
     },
     "metadata": {
      "needs_background": "light"
     },
     "output_type": "display_data"
    }
   ],
   "source": [
    "plt.figure(figsize=(12,3))\n",
    "sns.histplot(df_train['arr_delay'])\n",
    "plt.title('Distribution of delay in minutes')"
   ]
  },
  {
   "cell_type": "code",
   "execution_count": 5,
   "id": "29ac9499",
   "metadata": {},
   "outputs": [],
   "source": [
    "col = df_train.columns.tolist()"
   ]
  },
  {
   "cell_type": "code",
   "execution_count": 9,
   "id": "339c4e42",
   "metadata": {},
   "outputs": [],
   "source": [
    "col = ['fl_date', 'op_unique_carrier', 'op_carrier_fl_num', 'origin_airport_id', 'dest_airport_id',\n",
    " 'crs_dep_time',  'crs_arr_time', 'arr_delay',  'distance',     \n",
    " 'tmpf', 'sknt', 'vsby', 'gust', 'skyl1', 'ice_accretion_3hr',\n",
    " 'tmpf_arr', 'sknt_arr', 'vsby_arr', 'gust_arr', 'skyl1_arr', 'ice_accretion_3hr_arr']"
   ]
  },
  {
   "cell_type": "code",
   "execution_count": 10,
   "id": "55430079",
   "metadata": {
    "colab": {
     "base_uri": "https://localhost:8080/",
     "height": 165
    },
    "id": "Rx_vwvNL6wno",
    "outputId": "13002839-153b-40f8-a9df-bce831d27b0b"
   },
   "outputs": [],
   "source": [
    "X_train = df_train[col]"
   ]
  },
  {
   "cell_type": "code",
   "execution_count": 11,
   "id": "2b2a6ac8",
   "metadata": {},
   "outputs": [
    {
     "name": "stdout",
     "output_type": "stream",
     "text": [
      "<class 'pandas.core.frame.DataFrame'>\n",
      "RangeIndex: 117640 entries, 0 to 117639\n",
      "Data columns (total 21 columns):\n",
      " #   Column                 Non-Null Count   Dtype  \n",
      "---  ------                 --------------   -----  \n",
      " 0   fl_date                117640 non-null  object \n",
      " 1   op_unique_carrier      117640 non-null  object \n",
      " 2   op_carrier_fl_num      117640 non-null  int64  \n",
      " 3   origin_airport_id      117640 non-null  int64  \n",
      " 4   dest_airport_id        117640 non-null  int64  \n",
      " 5   crs_dep_time           117640 non-null  int64  \n",
      " 6   crs_arr_time           117640 non-null  int64  \n",
      " 7   arr_delay              116887 non-null  float64\n",
      " 8   distance               117640 non-null  float64\n",
      " 9   tmpf                   117640 non-null  float64\n",
      " 10  sknt                   117640 non-null  float64\n",
      " 11  vsby                   117640 non-null  float64\n",
      " 12  gust                   117640 non-null  float64\n",
      " 13  skyl1                  117640 non-null  float64\n",
      " 14  ice_accretion_3hr      117640 non-null  float64\n",
      " 15  tmpf_arr               117640 non-null  float64\n",
      " 16  sknt_arr               117640 non-null  float64\n",
      " 17  vsby_arr               117640 non-null  float64\n",
      " 18  gust_arr               117640 non-null  float64\n",
      " 19  skyl1_arr              117640 non-null  float64\n",
      " 20  ice_accretion_3hr_arr  117640 non-null  float64\n",
      "dtypes: float64(14), int64(5), object(2)\n",
      "memory usage: 18.8+ MB\n"
     ]
    }
   ],
   "source": [
    "X_train.info()"
   ]
  },
  {
   "cell_type": "code",
   "execution_count": 12,
   "id": "692c099b",
   "metadata": {
    "id": "e849635b-4b09-44d0-a009-d2bf371e8d20"
   },
   "outputs": [],
   "source": [
    "# after test data, arr_delay should be 0. \n",
    "X_train['arr_delay'].fillna(0,inplace=True)\n",
    "\n",
    "#remove outliner\n",
    "X_train = X_train[(X_train['arr_delay'] > -80) & (X_train['arr_delay'] <= 480)] \n",
    "\n",
    "#combine features\n",
    "def combine_str_num(x,y):\n",
    "    return x + str(y)\n",
    "X_train['uni_fl'] = np.vectorize(combine_str_num)(X_train['op_unique_carrier'],X_train['op_carrier_fl_num'])\n",
    "X_train.drop(columns=['op_unique_carrier','op_carrier_fl_num'],inplace=True)\n",
    "\n",
    "# target encoding -- flight numbers\n",
    "total_target_mean = np.mean(X_train['arr_delay'])\n",
    "unifl_target_mean = X_train.groupby(['uni_fl'])['arr_delay'].mean()\n",
    "X_train['uni_fl'] =X_train['uni_fl'].map(unifl_target_mean)\n",
    "\n"
   ]
  },
  {
   "cell_type": "markdown",
   "id": "dec1bee1-b667-4db8-946c-146625032b15",
   "metadata": {},
   "source": [
    "# target encoding -- flight numbers\n",
    "total_target_mean = np.mean(X_train['arr_delay'])\n",
    "unifl_target_mean = X_train.groupby(['uni_fl'])['arr_delay'].mean()\n",
    "X_train['uni_fl'] =X_train['uni_fl'].map(unifl_target_mean)\n",
    "\n",
    "# target  encoding -- airport in detail hour\n",
    "dep_hour_target_mean = X_train.groupby(['dep_airport_hour'])['arr_delay'].mean()\n",
    "X_train['dep_airport_hour'] =X_train['dep_airport_hour'].map(dep_hour_target_mean)\n",
    "arr_hour_target_mean = X_train.groupby(['arr_airport_hour'])['arr_delay'].mean()\n",
    "X_train['arr_airport_hour'] =X_train['arr_airport_hour'].map(arr_hour_target_mean)"
   ]
  },
  {
   "cell_type": "code",
   "execution_count": 15,
   "id": "c86aceae",
   "metadata": {},
   "outputs": [],
   "source": [
    "## Combine the airportid and related hour\n",
    "## Combine the airportid and related hour\n",
    "def airport_hour(id,t):\n",
    "    '''\n",
    "    combine airport and hour to a new field\n",
    "    '''\n",
    "    t = t // 100\n",
    "    if t == 24:\n",
    "        t = 0\n",
    "    l = '0' + str(t)\n",
    "    return str(id) + l[-2:]\n",
    "    \n",
    "X_train['arr_airport_hour'] = np.vectorize(airport_hour)(X_train['dest_airport_id'],X_train['crs_arr_time'])\n",
    "X_train['dep_airport_hour'] = np.vectorize(airport_hour)(X_train['origin_airport_id'],X_train['crs_dep_time'])\n",
    "\n",
    "# feature coding\n",
    "dep_hour_target_mean = X_train.groupby(['dep_airport_hour'])['arr_delay'].mean()\n",
    "X_train['dep_airport_hour'] =X_train['dep_airport_hour'].map(dep_hour_target_mean)\n",
    "arr_hour_target_mean = X_train.groupby(['arr_airport_hour'])['arr_delay'].mean()\n",
    "X_train['arr_airport_hour'] =X_train['arr_airport_hour'].map(arr_hour_target_mean)\n",
    "\n",
    "X_train.drop(columns=['dest_airport_id','crs_arr_time','origin_airport_id','crs_dep_time'],inplace=True)"
   ]
  },
  {
   "cell_type": "code",
   "execution_count": 16,
   "id": "adf579f8",
   "metadata": {
    "id": "5b5e18d7-de3c-4053-8c68-bc250dcb9b97"
   },
   "outputs": [],
   "source": [
    "pi=3.14159\n",
    "def transformation(column):\n",
    "  max_value = column.max()\n",
    "  sin_values = [math.sin((2*pi*x)/max_value) for x in list(column)]\n",
    "  cos_values = [math.cos((2*pi*x)/max_value) for x in list(column)]\n",
    "  return sin_values, cos_values\n",
    "\n",
    "#transform fl_date\n",
    "#def getmonth(x):\n",
    "#    return x.split(sep='-')[1]\n",
    "#X_train['month'] = X_train['fl_date'].apply(getmonth)\n",
    "\n",
    "#sin_m, cos_m = transformation(X_train['month'].astype('int32'))\n",
    "#X_train['mon_sin'] = sin_m\n",
    "#X_train['mon_cos'] = cos_m\n",
    "\n",
    "\n",
    "def getdayofweek(x):\n",
    "    year_s, mon_s, day_s = x.split('-')\n",
    "    fl_d = datetime(int(year_s), int(mon_s), int(day_s))\n",
    "    return fl_d.weekday() + 1\n",
    "X_train['day_of_week'] = X_train['fl_date'].apply(getdayofweek)\n",
    "\n",
    "us_holidays = holidays.UnitedStates()\n",
    "def isholiday(x):\n",
    "    year_s, mon_s, day_s = x.split('-')\n",
    "    if datetime(int(year_s), int(mon_s), int(day_s)) in us_holidays:\n",
    "        return 1\n",
    "    else:\n",
    "        return 0\n",
    "X_train['is_holiday'] = X_train['fl_date'].apply(isholiday)\n",
    "\n",
    "\n",
    "\n",
    "sin_l, cos_l = transformation(X_train['day_of_week'])\n",
    "\n",
    "X_train['dow_sin'] = sin_l\n",
    "X_train['dow_cos'] = cos_l"
   ]
  },
  {
   "cell_type": "code",
   "execution_count": 17,
   "id": "0a5c0d12-af3f-4172-ae71-e8f5444cca83",
   "metadata": {},
   "outputs": [],
   "source": [
    "# Transform arr_delay\n",
    "def tran_delay(x):\n",
    "    if x <= 0:\n",
    "        return 0\n",
    "    elif x <= 20:\n",
    "        return 1\n",
    "    elif x <= 60:\n",
    "        return 2\n",
    "    elif x <= 180:\n",
    "        return 3\n",
    "    else:\n",
    "        return 4\n",
    "    \n",
    "y_train = X_train['arr_delay'].apply(tran_delay)"
   ]
  },
  {
   "cell_type": "code",
   "execution_count": 18,
   "id": "886e596a",
   "metadata": {},
   "outputs": [],
   "source": [
    "\n",
    "X_train = X_train.drop(columns=['fl_date','arr_delay','day_of_week'])\n",
    "\n",
    "#X_train = pd.get_dummies(X_train,columns=['month','day_of_week'])"
   ]
  },
  {
   "cell_type": "code",
   "execution_count": 19,
   "id": "2e44044b-9e96-4403-8e4a-e9b4e43622a0",
   "metadata": {},
   "outputs": [
    {
     "data": {
      "text/plain": [
       "(117549, 19)"
      ]
     },
     "execution_count": 19,
     "metadata": {},
     "output_type": "execute_result"
    }
   ],
   "source": [
    "X_train.shape"
   ]
  },
  {
   "cell_type": "code",
   "execution_count": 20,
   "id": "20e12644-813d-40d1-b62a-6d40b605d878",
   "metadata": {},
   "outputs": [
    {
     "data": {
      "text/plain": [
       "(117549,)"
      ]
     },
     "execution_count": 20,
     "metadata": {},
     "output_type": "execute_result"
    }
   ],
   "source": [
    "y_train.shape"
   ]
  },
  {
   "cell_type": "code",
   "execution_count": 21,
   "id": "28929d08",
   "metadata": {
    "id": "86f88a4d-8db0-4d15-82bf-f83747c52265"
   },
   "outputs": [],
   "source": [
    "scaler = StandardScaler()\n",
    "X_train = scaler.fit_transform(X_train)"
   ]
  },
  {
   "cell_type": "code",
   "execution_count": null,
   "id": "95aa812b",
   "metadata": {
    "id": "c249cef2-421b-493c-be1d-3ad3ad891db8"
   },
   "outputs": [],
   "source": [
    "#x_small = X[:100000]\n",
    "#y_small = y_train[:100000]"
   ]
  },
  {
   "cell_type": "markdown",
   "id": "8b514dff",
   "metadata": {
    "id": "83b52da6-73f3-408f-ad3a-a9b61387ca9b"
   },
   "source": [
    "### Build X_test"
   ]
  },
  {
   "cell_type": "code",
   "execution_count": 26,
   "id": "d080da3d",
   "metadata": {
    "id": "fda72711-48ba-4bb2-bc74-bb85e3ffee12"
   },
   "outputs": [],
   "source": [
    "df_test = pd.read_csv('fl_wea_test.csv')"
   ]
  },
  {
   "cell_type": "code",
   "execution_count": 72,
   "id": "d82d1af9",
   "metadata": {},
   "outputs": [],
   "source": [
    "col=['fl_date','mkt_carrier','mkt_carrier_fl_num','origin','dest','predicted_delay']"
   ]
  },
  {
   "cell_type": "code",
   "execution_count": 24,
   "id": "a2e6ed1a",
   "metadata": {},
   "outputs": [],
   "source": [
    "df_test=df_test[col]"
   ]
  },
  {
   "cell_type": "code",
   "execution_count": 25,
   "id": "af3bbe74",
   "metadata": {},
   "outputs": [
    {
     "name": "stdout",
     "output_type": "stream",
     "text": [
      "<class 'pandas.core.frame.DataFrame'>\n",
      "RangeIndex: 29411 entries, 0 to 29410\n",
      "Data columns (total 21 columns):\n",
      " #   Column                 Non-Null Count  Dtype  \n",
      "---  ------                 --------------  -----  \n",
      " 0   fl_date                29411 non-null  object \n",
      " 1   op_unique_carrier      29411 non-null  object \n",
      " 2   op_carrier_fl_num      29411 non-null  int64  \n",
      " 3   origin_airport_id      29411 non-null  int64  \n",
      " 4   dest_airport_id        29411 non-null  int64  \n",
      " 5   crs_dep_time           29411 non-null  int64  \n",
      " 6   crs_arr_time           29411 non-null  int64  \n",
      " 7   arr_delay              29245 non-null  float64\n",
      " 8   distance               29411 non-null  float64\n",
      " 9   tmpf                   29411 non-null  float64\n",
      " 10  sknt                   29411 non-null  float64\n",
      " 11  vsby                   29411 non-null  float64\n",
      " 12  gust                   29411 non-null  float64\n",
      " 13  skyl1                  29411 non-null  float64\n",
      " 14  ice_accretion_3hr      29411 non-null  float64\n",
      " 15  tmpf_arr               29411 non-null  float64\n",
      " 16  sknt_arr               29411 non-null  float64\n",
      " 17  vsby_arr               29411 non-null  float64\n",
      " 18  gust_arr               29411 non-null  float64\n",
      " 19  skyl1_arr              29411 non-null  float64\n",
      " 20  ice_accretion_3hr_arr  29411 non-null  float64\n",
      "dtypes: float64(14), int64(5), object(2)\n",
      "memory usage: 4.7+ MB\n"
     ]
    }
   ],
   "source": [
    "df_test.info()"
   ]
  },
  {
   "cell_type": "code",
   "execution_count": 37,
   "id": "17b50b1e",
   "metadata": {},
   "outputs": [
    {
     "name": "stdout",
     "output_type": "stream",
     "text": [
      "<class 'pandas.core.frame.DataFrame'>\n",
      "RangeIndex: 147051 entries, 0 to 147050\n",
      "Data columns (total 20 columns):\n",
      " #   Column                 Non-Null Count   Dtype  \n",
      "---  ------                 --------------   -----  \n",
      " 0   arr_delay              146132 non-null  float64\n",
      " 1   distance               147051 non-null  float64\n",
      " 2   tmpf                   147051 non-null  float64\n",
      " 3   sknt                   147051 non-null  float64\n",
      " 4   vsby                   147051 non-null  float64\n",
      " 5   gust                   147051 non-null  float64\n",
      " 6   skyl1                  147051 non-null  float64\n",
      " 7   ice_accretion_3hr      147051 non-null  float64\n",
      " 8   tmpf_arr               147051 non-null  float64\n",
      " 9   sknt_arr               147051 non-null  float64\n",
      " 10  vsby_arr               147051 non-null  float64\n",
      " 11  gust_arr               147051 non-null  float64\n",
      " 12  skyl1_arr              147051 non-null  float64\n",
      " 13  ice_accretion_3hr_arr  147051 non-null  float64\n",
      " 14  uni_fl                 147051 non-null  float64\n",
      " 15  arr_airport_hour       147051 non-null  float64\n",
      " 16  dep_airport_hour       147051 non-null  float64\n",
      " 17  is_holiday             147051 non-null  int64  \n",
      " 18  dow_sin                147051 non-null  float64\n",
      " 19  dow_cos                147051 non-null  float64\n",
      "dtypes: float64(19), int64(1)\n",
      "memory usage: 22.4 MB\n"
     ]
    }
   ],
   "source": [
    "X_test.info()"
   ]
  },
  {
   "cell_type": "code",
   "execution_count": 141,
   "id": "4123fb4b",
   "metadata": {},
   "outputs": [
    {
     "data": {
      "text/plain": [
       "(-80.0, 150.0)"
      ]
     },
     "execution_count": 141,
     "metadata": {},
     "output_type": "execute_result"
    },
    {
     "data": {
      "image/png": "[encoded data removed]",
      "text/plain": [
       "<Figure size 432x288 with 1 Axes>"
      ]
     },
     "metadata": {
      "needs_background": "light"
     },
     "output_type": "display_data"
    }
   ],
   "source": [
    "plt.hist(y_pred,bins=100)\n",
    "#plt.hist(X_train['arr_delay'],bins=300)\n",
    "plt.xlim(-80,150)"
   ]
  },
  {
   "cell_type": "code",
   "execution_count": 15,
   "id": "3a5942af",
   "metadata": {},
   "outputs": [],
   "source": [
    "col = ['fl_date', 'op_unique_carrier', 'op_carrier_fl_num', 'origin_airport_id', 'dest_airport_id',\n",
    " 'crs_dep_time',  'crs_arr_time',   'distance',     \n",
    " 'tmpf', 'sknt', 'vsby', 'gust', 'skyl1', 'ice_accretion_3hr',\n",
    " 'tmpf_arr', 'sknt_arr', 'vsby_arr', 'gust_arr', 'skyl1_arr', 'ice_accretion_3hr_arr']"
   ]
  },
  {
   "cell_type": "code",
   "execution_count": 27,
   "id": "b93fcded",
   "metadata": {
    "id": "5037196b-82ad-46b5-9949-d3fcffffb6ce"
   },
   "outputs": [],
   "source": [
    "X_test = df_test[col]"
   ]
  },
  {
   "cell_type": "code",
   "execution_count": 28,
   "id": "ef6b8991",
   "metadata": {
    "id": "7c958fab-6d0e-45e4-b8be-402408ab0825"
   },
   "outputs": [],
   "source": [
    "# after test data, arr_delay should be 0. \n",
    "X_test['arr_delay'].fillna(0,inplace=True)\n",
    "\n",
    "#remove outliner\n",
    "#X_test = X_test[(X_test['arr_delay'] > -80) & (X_test['arr_delay'] < 480)] \n",
    "\n",
    "#combine features\n",
    "def combine_str_num(x,y):\n",
    "    return x + str(y)\n",
    "X_test['uni_fl'] = np.vectorize(combine_str_num)(X_test['op_unique_carrier'],X_test['op_carrier_fl_num'])\n",
    "X_test.drop(columns=['op_unique_carrier','op_carrier_fl_num'],inplace=True)\n",
    "\n",
    "# feature coding\n",
    "#unifl_target_mean = X_test.groupby(['uni_fl'])['arr_delay'].mean()\n",
    "X_test['uni_fl'] =X_test['uni_fl'].map(unifl_target_mean)\n",
    "X_test['uni_fl'].fillna(total_target_mean,inplace=True)"
   ]
  },
  {
   "cell_type": "code",
   "execution_count": 29,
   "id": "dad602eb",
   "metadata": {},
   "outputs": [],
   "source": [
    "## Combine the airportid and related hour\n",
    "\n",
    "    \n",
    "X_test['arr_airport_hour'] = np.vectorize(airport_hour)(X_test['dest_airport_id'],X_test['crs_arr_time'])\n",
    "X_test['dep_airport_hour'] = np.vectorize(airport_hour)(X_test['origin_airport_id'],X_test['crs_dep_time'])\n",
    "\n",
    "\n",
    "# feature coding\n",
    "#dep_hour_target_mean = X_train.groupby(['dep_airport_hour'])['arr_delay'].mean()\n",
    "X_test['dep_airport_hour'] =X_test['dep_airport_hour'].map(dep_hour_target_mean)\n",
    "#arr_hour_target_mean = X_train.groupby(['arr_airport_hour'])['arr_delay'].mean()\n",
    "X_test['arr_airport_hour'] =X_test['arr_airport_hour'].map(arr_hour_target_mean)\n",
    "\n",
    "X_test['arr_airport_hour'].fillna(total_target_mean,inplace=True)\n",
    "X_test['dep_airport_hour'].fillna(total_target_mean,inplace=True)\n",
    "\n",
    "X_test.drop(columns=['dest_airport_id','crs_arr_time','origin_airport_id','crs_dep_time'],inplace=True)"
   ]
  },
  {
   "cell_type": "code",
   "execution_count": 30,
   "id": "1a14586e",
   "metadata": {
    "id": "91074fc0-666f-4ce1-98fd-6db8f14567c9"
   },
   "outputs": [],
   "source": [
    "\n",
    "#transform fl_date\n",
    "#def getmonth(x):\n",
    "#    return x.split(sep='-')[1]\n",
    "#X_test['month'] = X_test['fl_date'].apply(getmonth)\n",
    "\n",
    "#sin_m, cos_m = transformation(X_test['month'].astype('int32'))\n",
    "#X_test['mon_sin'] = sin_m\n",
    "#X_test['mon_cos'] = cos_m\n",
    "\n",
    "def getdayofweek(x):\n",
    "    year_s, mon_s, day_s = x.split('-')\n",
    "    fl_d = datetime(int(year_s), int(mon_s), int(day_s))\n",
    "    return fl_d.weekday() + 1\n",
    "X_test['day_of_week'] = X_test['fl_date'].apply(getdayofweek)\n",
    "\n",
    "us_holidays = holidays.UnitedStates()\n",
    "def isholiday(x):\n",
    "    year_s, mon_s, day_s = x.split('-')\n",
    "    if datetime(int(year_s), int(mon_s), int(day_s)) in us_holidays:\n",
    "        return 1\n",
    "    else:\n",
    "        return 0\n",
    "X_test['is_holiday'] = X_test['fl_date'].apply(isholiday)\n",
    "\n",
    "\n",
    "\n",
    "pi=3.14159\n",
    "def transformation(column):\n",
    "  max_value = column.max()\n",
    "  sin_values = [math.sin((2*pi*x)/max_value) for x in list(column)]\n",
    "  cos_values = [math.cos((2*pi*x)/max_value) for x in list(column)]\n",
    "  return sin_values, cos_values\n",
    "\n",
    "sin_l, cos_l = transformation(X_test['day_of_week'])\n",
    "\n",
    "X_test['dow_sin'] = sin_l\n",
    "X_test['dow_cos'] = cos_l\n",
    "\n"
   ]
  },
  {
   "cell_type": "code",
   "execution_count": 31,
   "id": "1607eb0a",
   "metadata": {
    "id": "e825a156-999d-4e66-95b7-aced207cd477"
   },
   "outputs": [],
   "source": [
    "y_test = X_test['arr_delay'].apply(tran_delay)\n",
    "X_test = X_test.drop(columns=['fl_date','day_of_week','arr_delay'])\n",
    "\n",
    "#X_test = pd.get_dummies(X_test,columns=['month','day_of_week'])\n",
    "\n",
    "#X_test = scaler.transform(X_test)"
   ]
  },
  {
   "cell_type": "code",
   "execution_count": 34,
   "id": "4fe042f4-e497-4c13-a30f-27340ceb7c2c",
   "metadata": {},
   "outputs": [],
   "source": [
    "X_test = scaler.transform(X_test)"
   ]
  },
  {
   "cell_type": "code",
   "execution_count": 32,
   "id": "19e60f9b",
   "metadata": {},
   "outputs": [
    {
     "data": {
      "text/plain": [
       "(29411, 19)"
      ]
     },
     "execution_count": 32,
     "metadata": {},
     "output_type": "execute_result"
    }
   ],
   "source": [
    "X_test.shape"
   ]
  },
  {
   "cell_type": "code",
   "execution_count": 33,
   "id": "f6aea11c",
   "metadata": {},
   "outputs": [
    {
     "data": {
      "text/plain": [
       "(29411,)"
      ]
     },
     "execution_count": 33,
     "metadata": {},
     "output_type": "execute_result"
    }
   ],
   "source": [
    "y_test.shape"
   ]
  },
  {
   "cell_type": "markdown",
   "id": "328c13bd-d72d-42e3-b256-3cd1331ce3be",
   "metadata": {},
   "source": [
    "## Build and train Deep Learning Network"
   ]
  },
  {
   "cell_type": "code",
   "execution_count": null,
   "id": "74bcc0c3-0d68-4579-a449-547a9730cee3",
   "metadata": {},
   "outputs": [],
   "source": [
    "network = Sequential()\n",
    "network.add(Dense(128,  input_dim=X_train.shape[1], activation='relu', kernel_initializer='he_normal'))\n",
    "network.add(Dense(64, activation='relu', input_shape=(28 * 28,)))\n",
    "network.add(Dense(5, activation='softmax'))\n",
    "\n",
    "network.compile(optimizer='adam',\n",
    "                loss='categorical_crossentropy',\n",
    "                metrics=['accuracy'])"
   ]
  },
  {
   "cell_type": "code",
   "execution_count": 328,
   "id": "299a2b99-f69f-43dc-aa3e-495dabcc8d29",
   "metadata": {
    "id": "09WCa-Qn_T0G"
   },
   "outputs": [],
   "source": [
    "# define the  model\n",
    "def build_model():\n",
    "  model = Sequential()\n",
    "  model.add(Dense(128, input_dim=X_train.shape[1], activation='relu', kernel_initializer='he_normal'))\n",
    "  model.add(Dense(64,activation='relu'))\n",
    "  model.add(Dense(1, activation='sigmoid'))\n",
    "  # compile the keras model\n",
    "  # opt = tf.keras.optimizers.Adam(clipnorm=1, learning_rate=0.01)\n",
    "  model.compile(loss='binary_crossentropy', optimizer='adam', metrics=['accuracy'])\n",
    "  return model"
   ]
  },
  {
   "cell_type": "code",
   "execution_count": 1,
   "id": "ce75210a",
   "metadata": {},
   "outputs": [],
   "source": [
    "import pickle"
   ]
  },
  {
   "cell_type": "code",
   "execution_count": 51,
   "id": "6ee44cde",
   "metadata": {},
   "outputs": [],
   "source": [
    "pickle.dump(model,open('final_model.sav','wb'))"
   ]
  },
  {
   "cell_type": "code",
   "execution_count": 39,
   "id": "2c4b2943",
   "metadata": {},
   "outputs": [],
   "source": [
    "load_model = pickle.load(open('final_model.sav','rb'))"
   ]
  },
  {
   "cell_type": "code",
   "execution_count": 41,
   "id": "0df2e1c2",
   "metadata": {},
   "outputs": [],
   "source": [
    "y_pred = load_model.predict(dtest)"
   ]
  },
  {
   "cell_type": "code",
   "execution_count": 49,
   "id": "190eac24",
   "metadata": {},
   "outputs": [
    {
     "data": {
      "text/plain": [
       "-0.6838302"
      ]
     },
     "execution_count": 49,
     "metadata": {},
     "output_type": "execute_result"
    }
   ],
   "source": [
    "np.mean(y_pred)"
   ]
  },
  {
   "cell_type": "code",
   "execution_count": 48,
   "id": "70375cdb",
   "metadata": {},
   "outputs": [
    {
     "data": {
      "text/plain": [
       "-0.08041162600054985"
      ]
     },
     "execution_count": 48,
     "metadata": {},
     "output_type": "execute_result"
    }
   ],
   "source": [
    "r2_score(y_test,y_pred)"
   ]
  }
 ],
 "metadata": {
  "colab": {
   "collapsed_sections": [],
   "name": "h_XGboost.ipynb",
   "provenance": [],
   "toc_visible": true
  },
  "kernelspec": {
   "display_name": "Python 3 (ipykernel)",
   "language": "python",
   "name": "python3"
  },
  "language_info": {
   "codemirror_mode": {
    "name": "ipython",
    "version": 3
   },
   "file_extension": ".py",
   "mimetype": "text/x-python",
   "name": "python",
   "nbconvert_exporter": "python",
   "pygments_lexer": "ipython3",
   "version": "3.8.10"
  }
 },
 "nbformat": 4,
 "nbformat_minor": 5
}
